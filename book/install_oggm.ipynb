{
 "cells": [
  {
   "cell_type": "markdown",
   "id": "0787100b-372c-42db-b788-55b6f382537c",
   "metadata": {},
   "source": [
    "# Installing OGGM"
   ]
  },
  {
   "cell_type": "markdown",
   "id": "0fce45ed-a8ae-41a7-94c6-dcb1f5924a59",
   "metadata": {},
   "source": [
    "During this practical session, we will primarily work with the Open Global Glacier Model (OGGM). You have two options for running OGGM:\n",
    "\n",
    "1. **Preferred**: Install OGGM locally on your laptop and run the exercises there.\n",
    "2. Use OGGM classroom environment that you already accessed during the lecture. (If you need further assistance, please reach out to me.)\n",
    "\n",
    "It is assumed that you have Python installed on your computer. If not, you can find a guide and a basic introduction to Python [here](https://fabienmaussion.info/scientific_programming/week_01/01-Installation.html).\n",
    "\n",
    "All information for the installation of OGGM itself can be found in the documentation:\n",
    "- [Linux and Mac OS installation guide](https://docs.oggm.org/en/stable/installing-oggm.html)\n",
    "- [Windows installation guide](https://docs.oggm.org/en/stable/installing-oggm-windows.html)\n",
    "\n",
    "Here is a short summary of the steps you will need to follow:\n",
    "\n",
    "1. *Windows only*: [Install WSL (Windows Subsystem for Linux)](https://docs.oggm.org/en/stable/installing-oggm-windows.html#install-wsl)\n",
    "2. Install the [prerequisites](https://docs.oggm.org/en/stable/installing-oggm.html#prerequisites) for creating a python environment.\n",
    "3. Create a [python environment](https://docs.oggm.org/en/stable/installing-oggm.html#the-simplest-way-with-an-environment-file) using a yml file.\n",
    "4. [Install OGGM](https://docs.oggm.org/en/stable/installing-oggm.html#install-oggm-itself) with `pip install oggm`\n",
    "5. [Test](https://docs.oggm.org/en/stable/installing-oggm.html#test-oggm) if the installation was successful.\n",
    "6. **Congrats**, you are now set-up for the [getting started](https://docs.oggm.org/en/stable/getting-started.html) section!\n",
    "\n",
    "After setting up the file locations for OGGM, you're good to go!"
   ]
  },
  {
   "cell_type": "markdown",
   "id": "c94bacff-4358-4b78-adbf-fcf50eee12cd",
   "metadata": {},
   "source": [
    "## What's next\n",
    "\n",
    "[Install jupyter-lab](./jupyter_notebooks.ipynb) on your laptop."
   ]
  }
 ],
 "metadata": {
  "kernelspec": {
   "display_name": "Python 3 (ipykernel)",
   "language": "python",
   "name": "python3"
  },
  "language_info": {
   "codemirror_mode": {
    "name": "ipython",
    "version": 3
   },
   "file_extension": ".py",
   "mimetype": "text/x-python",
   "name": "python",
   "nbconvert_exporter": "python",
   "pygments_lexer": "ipython3",
   "version": "3.11.11"
  }
 },
 "nbformat": 4,
 "nbformat_minor": 5
}
