{
 "cells": [
  {
   "cell_type": "markdown",
   "id": "7950a4b6-e5bb-416f-8486-ce5698636fc7",
   "metadata": {},
   "source": [
    "## Glacier Flowlines"
   ]
  },
  {
   "cell_type": "markdown",
   "id": "b864434b-1261-40c9-80a6-8dbc7f499e0e",
   "metadata": {},
   "source": [
    "OGGM's default dynamic model is a flowline model (we'll cover this in session 05). But before we can use this model, we need to define flowlines for our glacier. OGGM supports two types of flowlines: centerlines and elevation band flowlines.\n",
    "\n",
    "In this notebook, we will focus only on elevation band flowlines, which are currently the default in OGGM. If you are curious about the differences between the two approaches, check out this [OGGM tutorial](https://tutorials.oggm.org/stable/notebooks/tutorials/elevation_bands_vs_centerlines.html) or the [OGGM documentation](https://docs.oggm.org/en/stable/flowlines.html)."
   ]
  },
  {
   "cell_type": "code",
   "execution_count": null,
   "id": "c9f6dacb-f9a9-4369-8da6-b2ed4dd1f704",
   "metadata": {},
   "outputs": [],
   "source": [
    "# first we import the packages we need for this session\n",
    "from oggm import cfg, utils, workflow, tasks "
   ]
  },
  {
   "cell_type": "markdown",
   "id": "94b0ccd2-bd5a-48ef-8bcf-5998abee910a",
   "metadata": {},
   "source": [
    "## OGGM initzial set up"
   ]
  },
  {
   "cell_type": "markdown",
   "id": "30429bfc-c3fe-4325-9f9b-5e93adb9edf2",
   "metadata": {},
   "source": [
    "As always, we need to start by setting up the working directory."
   ]
  },
  {
   "cell_type": "code",
   "execution_count": null,
   "id": "d2d9c219-b2f8-4ce6-94f6-bbddb469fd1f",
   "metadata": {},
   "outputs": [],
   "source": [
    "cfg.initialize()\n",
    "\n",
    "# define working directory\n",
    "path = 'flowline_working_dir'\n",
    "utils.mkdir(path, reset=False)  # if you set reset=True, everything will be deleted and you can start from a fresh state\n",
    "cfg.PATHS['working_dir'] = path"
   ]
  },
  {
   "cell_type": "markdown",
   "id": "44a2a7aa-df1e-41a5-ac08-54507ee4bdad",
   "metadata": {},
   "source": [
    "## Start from a preprocessed directory"
   ]
  },
  {
   "cell_type": "markdown",
   "id": "22677ec9-fe11-4ca3-aa53-aeb74de1c5f1",
   "metadata": {},
   "source": [
    "Thanks to the preprocessed directories, we don’t need to start from scratch every time. We can begin with any glacier using the state we created in the last notebook, which already includes the 2D grid and DEM. For this, we select level 1 of the [preprocessed directories](https://docs.oggm.org/en/stable/shop.html#pre-processed-directories)."
   ]
  },
  {
   "cell_type": "code",
   "execution_count": null,
   "id": "7b4a3be1-3a50-4e64-8627-5fad0640fa37",
   "metadata": {},
   "outputs": [],
   "source": [
    "# select the glacier of your choice, you can use the Glims viewer from the first session\n",
    "rgi_ids = ['RGI60-11.00897']  # Hintereisferner\n",
    "\n",
    "# we load the outline data from the oggm cluster\n",
    "prepro_base_url_L1 = 'https://cluster.klima.uni-bremen.de/~oggm/gdirs/oggm_v1.6/L1-L2_files/elev_bands/'\n",
    "gdirs = workflow.init_glacier_directories(rgi_ids,\n",
    "                                          from_prepro_level=1,  # here we select level 1\n",
    "                                          prepro_base_url=prepro_base_url_L1,\n",
    "                                          prepro_border=80,  # could be 10, 80, 160 or 240\n",
    "                                         )\n",
    "gdir = gdirs[0]  # for convenience, we define a single variable for our glacier"
   ]
  },
  {
   "cell_type": "markdown",
   "id": "0a83f23c-8e3f-4bd4-935c-7099f355baab",
   "metadata": {},
   "source": [
    "<div class=\"alert alert-warning\">\n",
    "    <b>Task</b>: Take a look in your glacier’s working directory. Do you recognize all the files?\n",
    "</div>"
   ]
  },
  {
   "cell_type": "markdown",
   "id": "89eb3f70-cf09-45c7-bfd9-84e0e34a2043",
   "metadata": {},
   "source": [
    "## Create elevation band flowlines"
   ]
  },
  {
   "cell_type": "markdown",
   "id": "47cf8387-f054-4543-b7f0-5f3927541a7d",
   "metadata": {},
   "source": [
    "Before we start coding, please read [this paragraph](https://docs.oggm.org/en/stable/flowlines.html#elevation-bands-flowlines) that explains how elevation band flowlines are created."
   ]
  },
  {
   "cell_type": "markdown",
   "id": "d88ff3bf-a297-4ce9-b657-b4e5e0405a14",
   "metadata": {},
   "source": [
    "<div class=\"alert alert-warning\">\n",
    "    <b>Task</b>: Can you explain how elevation bands are created in your own words?\n",
    "</div>"
   ]
  },
  {
   "cell_type": "markdown",
   "id": "a9348253-5958-4fcc-b9a0-1d9e43d5a625",
   "metadata": {},
   "source": [
    "Your answer here:\n"
   ]
  },
  {
   "cell_type": "markdown",
   "id": "bd9f8e2b-3637-4449-ab0f-aff748feb894",
   "metadata": {},
   "source": [
    "### Glacier Mask"
   ]
  },
  {
   "cell_type": "markdown",
   "id": "047d4006-2609-4aa1-902c-9dae5f1d575b",
   "metadata": {},
   "source": [
    "Now we start creating the actual elevation bands for our selected glacier. The first step is to create a glacier mask on the grid we defined earlier."
   ]
  },
  {
   "cell_type": "code",
   "execution_count": null,
   "id": "67eaf78a-d89a-4e68-a51f-918774286784",
   "metadata": {},
   "outputs": [],
   "source": [
    "workflow.execute_entity_task(tasks.simple_glacier_masks, \n",
    "                             gdirs);"
   ]
  },
  {
   "cell_type": "markdown",
   "id": "59fa7f61-9d60-4fb8-9b48-a2f1c69b93a7",
   "metadata": {},
   "source": [
    "<div class=\"alert alert-warning\">\n",
    "    <b>Task</b>: Have a look in your glacier's working directory. Is their a new file?\n",
    "</div>"
   ]
  },
  {
   "cell_type": "markdown",
   "id": "475d307d-55e7-479a-b5ec-d93ba8a763eb",
   "metadata": {},
   "source": [
    "Now you should now see a new file called `gridded_data.nc`. Let's have a look at it:"
   ]
  },
  {
   "cell_type": "code",
   "execution_count": null,
   "id": "702da469-4dc9-4fe1-bbde-d65df75d95c9",
   "metadata": {},
   "outputs": [],
   "source": [
    "import xarray as xr\n",
    "\n",
    "ds = xr.open_dataset(gdir.get_filepath('gridded_data'))\n",
    "ds"
   ]
  },
  {
   "cell_type": "markdown",
   "id": "0996d7e2-308f-4796-ac4d-0a51c723ebb6",
   "metadata": {},
   "source": [
    "We also can plot individual variables with:"
   ]
  },
  {
   "cell_type": "code",
   "execution_count": null,
   "id": "be894709-eb52-4b0f-98e3-88388b59af51",
   "metadata": {},
   "outputs": [],
   "source": [
    "ds.topo.plot()"
   ]
  },
  {
   "cell_type": "markdown",
   "id": "4bcd58a8-726d-4053-8fcf-51c5ec043159",
   "metadata": {},
   "source": [
    "<div class=\"alert alert-warning\">\n",
    "    <b>Task</b>: Plot all the variables by adapting the line of code above, and try to explain what each of them is showing.\n",
    "</div>"
   ]
  },
  {
   "cell_type": "markdown",
   "id": "a8c15afd-5911-4ba4-8dad-de4ad5cf1a4a",
   "metadata": {},
   "source": [
    "Your answer here:\n"
   ]
  },
  {
   "cell_type": "markdown",
   "id": "8424c9f7-af1e-43ef-8e38-8978aa1f7494",
   "metadata": {},
   "source": [
    "### elevation band flowline"
   ]
  },
  {
   "cell_type": "markdown",
   "id": "2def11c5-572e-419f-ad7f-5d3f2088725d",
   "metadata": {},
   "source": [
    "Finally, we create our elevation band flowline:"
   ]
  },
  {
   "cell_type": "code",
   "execution_count": null,
   "id": "5c1ae616-ad77-4ece-9e64-8578820c3c5a",
   "metadata": {},
   "outputs": [],
   "source": [
    "workflow.execute_entity_task(tasks.elevation_band_flowline, \n",
    "                             gdirs);"
   ]
  },
  {
   "cell_type": "markdown",
   "id": "de9ecbe1-a0cc-43b1-a6b6-45d73105cb7f",
   "metadata": {},
   "source": [
    "<div class=\"alert alert-warning\">\n",
    "    <b>Task</b>: Have a look in your glacier's working directory. Is their a new file?\n",
    "</div>"
   ]
  },
  {
   "cell_type": "markdown",
   "id": "17b2f1f6-b3e4-4bfc-89ad-c4d166f38723",
   "metadata": {},
   "source": [
    "You should see a new file called `elevation_band_flowline.csv`. Let's have a look at it:"
   ]
  },
  {
   "cell_type": "code",
   "execution_count": null,
   "id": "5f88577c-5ba2-486a-a92d-551a796bcdee",
   "metadata": {},
   "outputs": [],
   "source": [
    "import pandas as pd\n",
    "\n",
    "df_eb = pd.read_csv(gdir.get_filepath('elevation_band_flowline'))\n",
    "df_eb"
   ]
  },
  {
   "cell_type": "markdown",
   "id": "d814bec6-5469-4092-b831-bac630ea741c",
   "metadata": {},
   "source": [
    "<div class=\"alert alert-warning\">\n",
    "    <b>Task</b>: What do the individual columns stand for?\n",
    "</div>"
   ]
  },
  {
   "cell_type": "markdown",
   "id": "47effad2-0aeb-43e8-955f-3f96a7c2f5b6",
   "metadata": {},
   "source": [
    "Your answer here: "
   ]
  },
  {
   "cell_type": "markdown",
   "id": "62402914-813f-4ff8-a521-10a4fadfd5b2",
   "metadata": {},
   "source": [
    "### fixed dx elevation band flowline"
   ]
  },
  {
   "cell_type": "markdown",
   "id": "997516b4-c382-4da5-b7c2-96095fe58a8a",
   "metadata": {},
   "source": [
    "As you can see above, the created flowline has non-uniform `dx` values. However, our dynamic flowline model requires constant `dx` values to work. Let’s fix that:"
   ]
  },
  {
   "cell_type": "code",
   "execution_count": null,
   "id": "d7e5da4e-5eab-47ac-ad62-f8165750ea41",
   "metadata": {},
   "outputs": [],
   "source": [
    "workflow.execute_entity_task(tasks.fixed_dx_elevation_band_flowline, \n",
    "                             gdirs);"
   ]
  },
  {
   "cell_type": "markdown",
   "id": "0c48093d-580d-4b2f-a263-8a85db151ce6",
   "metadata": {},
   "source": [
    "<div class=\"alert alert-warning\">\n",
    "    <b>Task</b>: Have a look in your glacier's working directory. Is their a new file?\n",
    "</div>"
   ]
  },
  {
   "cell_type": "markdown",
   "id": "205460e0-fdda-4967-a75d-bd88457cdf4b",
   "metadata": {},
   "source": [
    "You will notice that a new file called `inversion_flowlines.pkl` has appeared in your working directory. We will explain why it is named this way in session 04. For now, let’s just take a look at it:"
   ]
  },
  {
   "cell_type": "code",
   "execution_count": null,
   "id": "53646fbb-9087-4c4a-b910-515fed480705",
   "metadata": {},
   "outputs": [],
   "source": [
    "fl_inv = gdir.read_pickle('inversion_flowlines')[0]  # with zero we select the first and only flowline, with centerlines also multiple flowlines are possible\n",
    "fl_inv"
   ]
  },
  {
   "cell_type": "markdown",
   "id": "dc4e53ca-1541-41d8-9fb9-5310db7beecd",
   "metadata": {},
   "source": [
    "You can see that this is an `Centerline` object. Whenever you encounter a new object in Python, you can check its available methods and properties using the dir command:"
   ]
  },
  {
   "cell_type": "code",
   "execution_count": null,
   "id": "855f9c3f-ad49-4e92-8837-5255930c6717",
   "metadata": {},
   "outputs": [],
   "source": [
    "dir(fl_inv)"
   ]
  },
  {
   "cell_type": "markdown",
   "id": "fb09a347-6ffa-478a-826d-838f5c3995dd",
   "metadata": {},
   "source": [
    "We can look at the spacing of the flowline with:"
   ]
  },
  {
   "cell_type": "code",
   "execution_count": null,
   "id": "c58130fb-5f8d-4cbd-ad4a-5efa53194326",
   "metadata": {},
   "outputs": [],
   "source": [
    "fl_inv.map_dx"
   ]
  },
  {
   "cell_type": "markdown",
   "id": "210cfeb4-6a26-44d2-ba77-0385a834beff",
   "metadata": {},
   "source": [
    "This is the same spacing in meters as the grid defined in the previous notebook."
   ]
  },
  {
   "cell_type": "markdown",
   "id": "05937787-aede-4ab2-afaa-6932c1c62730",
   "metadata": {},
   "source": [
    "To get a better understanding of our flowline, let’s try to visualize it:"
   ]
  },
  {
   "cell_type": "code",
   "execution_count": null,
   "id": "de8179a7-d508-473b-942e-9634d8cd7eb7",
   "metadata": {},
   "outputs": [],
   "source": [
    "import matplotlib.pyplot as plt\n",
    "import matplotlib.patches as patches\n",
    "import numpy as np\n",
    "\n",
    "# Plot setup\n",
    "fig, axs = plt.subplots(2, 1, figsize=(5, 5))\n",
    "\n",
    "# defint two axis\n",
    "ax_xz = axs[0]\n",
    "ax_xy = axs[1]\n",
    "\n",
    "# define grid points in x direction\n",
    "distance_along_line_meter = np.arange(fl_inv.nx) * fl_inv.dx * fl_inv.map_dx\n",
    "\n",
    "# plot the surface height per grid point\n",
    "ax_xz.plot(distance_along_line_meter, fl_inv.surface_h, '.-')\n",
    "\n",
    "# plot the numeric gird per grid point\n",
    "for x, width in zip(distance_along_line_meter, fl_inv.widths_m):\n",
    "    lower_left_y = (-1) * width / 2\n",
    "    rect = patches.Rectangle((x, lower_left_y), fl_inv.dx_meter, width,\n",
    "                             edgecolor='black', facecolor='skyblue')\n",
    "    ax_xy.add_patch(rect)\n",
    "\n",
    "# define the axis limits\n",
    "ax_xy.set_xlim(0, distance_along_line_meter[-1] + fl_inv.dx_meter)\n",
    "ax_xz.set_xlim(0, distance_along_line_meter[-1] + fl_inv.dx_meter)\n",
    "ax_xy.set_ylim(-max(fl_inv.widths_m/2),\n",
    "               max(fl_inv.widths_m/2))\n",
    "\n",
    "# add labels to the axis\n",
    "ax_xz.set_ylabel('Height in m')\n",
    "ax_xy.set_ylabel('Width in m')\n",
    "ax_xy.set_xlabel('Distance along flowline in m')\n",
    "\n",
    "plt.show()\n"
   ]
  },
  {
   "cell_type": "code",
   "execution_count": null,
   "id": "2a5c7fb2-17c1-418a-8c2b-7ab5fde62e41",
   "metadata": {},
   "outputs": [],
   "source": [
    "from oggm import graphics\n",
    "graphics.plot_domain(gdir, figsize=(6, 5))"
   ]
  },
  {
   "cell_type": "markdown",
   "id": "7c9abf12-2701-44bb-99b8-953b75a324b4",
   "metadata": {},
   "source": [
    "<div class=\"alert alert-warning\">\n",
    "    <b>Task</b>: Compare the flowline representation with the actual map view. Does it make sense?\n",
    "</div>"
   ]
  },
  {
   "cell_type": "markdown",
   "id": "d5e73d55-d150-4746-ab15-eeeeea40b728",
   "metadata": {},
   "source": [
    "Your answer here:"
   ]
  },
  {
   "cell_type": "markdown",
   "id": "f2375bb3-8791-4377-9a77-b82c90413077",
   "metadata": {},
   "source": [
    "### Downstream line"
   ]
  },
  {
   "cell_type": "markdown",
   "id": "8f0a1af0-b9c6-490b-9631-b0e44979e747",
   "metadata": {},
   "source": [
    "So far, we have only focused on the glacier as defined by its outline. But what happens if the glacier starts to grow? For that, we also need to define a downstream line:"
   ]
  },
  {
   "cell_type": "code",
   "execution_count": null,
   "id": "61a046d1-bdfd-446d-825f-36372f897581",
   "metadata": {},
   "outputs": [],
   "source": [
    "workflow.execute_entity_task(tasks.compute_downstream_line,\n",
    "                             gdirs);\n",
    "workflow.execute_entity_task(tasks.compute_downstream_bedshape,\n",
    "                             gdirs);"
   ]
  },
  {
   "cell_type": "markdown",
   "id": "20a35636-4191-488a-a6f4-c9b2b28f4d4f",
   "metadata": {},
   "source": [
    "<div class=\"alert alert-warning\">\n",
    "    <b>Task</b>: Have a look in your glacier's working directory. Is their a new file?\n",
    "</div>"
   ]
  },
  {
   "cell_type": "markdown",
   "id": "67dfdb34-722f-42a1-8491-fa10f27aa85e",
   "metadata": {},
   "source": [
    "You’ll see that a new file called `downstream_line.pkl` has appeared in your working directory. Let’s take a look at it:"
   ]
  },
  {
   "cell_type": "code",
   "execution_count": null,
   "id": "cb182d17-66ba-4c45-9b4b-51ac68d33d5f",
   "metadata": {},
   "outputs": [],
   "source": [
    "dwn = gdir.read_pickle('downstream_line')\n",
    "dwn"
   ]
  },
  {
   "cell_type": "markdown",
   "id": "328cc670-c00b-49d1-8866-ce3287b24558",
   "metadata": {},
   "source": [
    "When you compare the `surface_h` values of the downstream line with those from the elevation band flowline above, you will see that they actually start where the flowline ends. Let's plot them:"
   ]
  },
  {
   "cell_type": "code",
   "execution_count": null,
   "id": "9904df36-2613-424c-89e5-d4e512edc414",
   "metadata": {},
   "outputs": [],
   "source": [
    "fig, ax = plt.subplots(figsize=(10, 2.5))\n",
    "\n",
    "# plot the elevation band flowline heights\n",
    "distance_along_flowline_meter = np.arange(fl_inv.nx) * fl_inv.dx * fl_inv.map_dx\n",
    "ax.plot(distance_along_flowline_meter, fl_inv.surface_h, '.-', label='elevation band flowline')\n",
    "\n",
    "# we need to create x values for the downstream line, we start from the last elevation band flowline grid point\n",
    "last_eb_grid_point = distance_along_flowline_meter[-1]\n",
    "downstream_x = np.arange(1, len(dwn['surface_h']) + 1) * fl_inv.map_dx * fl_inv.dx + last_eb_grid_point\n",
    "\n",
    "# plot the downstream heights\n",
    "ax.plot(downstream_x, dwn['surface_h'], '.-', label='downstream line')\n",
    "\n",
    "# add a legend\n",
    "ax.legend()\n",
    "\n",
    "# add axis labels\n",
    "ax.set_ylabel('Height in m')\n",
    "ax.set_xlabel('Distance along flowline in m');"
   ]
  },
  {
   "cell_type": "markdown",
   "id": "b9ab9d6c-8ea0-46c2-bdf3-9a7760c31fbc",
   "metadata": {},
   "source": [
    "Additionally, the parameters `bedshapes` and `w0` define the shape of the downstream line. We’ll learn more about the different bed shapes in session 04."
   ]
  },
  {
   "cell_type": "markdown",
   "id": "bd5443df-653f-48bf-afac-66a6044808d2",
   "metadata": {},
   "source": [
    "## Recap"
   ]
  },
  {
   "cell_type": "markdown",
   "id": "4565137c-8d13-4e04-99d6-bcc6ffaa4609",
   "metadata": {},
   "source": [
    "- By default, OGGM uses elevation band flowlines.\n",
    "- These flowlines are created using the glacier outline and a Digital Elevation Model (DEM).\n",
    "- To allow glaciers to advance, we also defined a downstream line."
   ]
  }
 ],
 "metadata": {
  "kernelspec": {
   "display_name": "Python 3 (ipykernel)",
   "language": "python",
   "name": "python3"
  },
  "language_info": {
   "codemirror_mode": {
    "name": "ipython",
    "version": 3
   },
   "file_extension": ".py",
   "mimetype": "text/x-python",
   "name": "python",
   "nbconvert_exporter": "python",
   "pygments_lexer": "ipython3",
   "version": "3.11.11"
  }
 },
 "nbformat": 4,
 "nbformat_minor": 5
}
