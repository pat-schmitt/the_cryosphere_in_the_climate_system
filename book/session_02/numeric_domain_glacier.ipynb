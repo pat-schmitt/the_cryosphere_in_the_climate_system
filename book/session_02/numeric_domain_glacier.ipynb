{
 "cells": [
  {
   "cell_type": "markdown",
   "id": "2e1d7c04-b166-4803-b2fb-6596bef07391",
   "metadata": {},
   "source": [
    "# Numeric 2D grid of a glacier directory"
   ]
  },
  {
   "cell_type": "markdown",
   "id": "8266dbc7-5b4f-43ca-893d-90b7f926f227",
   "metadata": {},
   "source": [
    "In this session, we start with an empty glacier directory that only contains the RGI outline (do you remember what the RGI is from last week?). From there, we want to define the numeric grid and download a digital elevation model (DEM). The numeric grid breaks the 2D area around the glacier into a regular grid. This is the grid we will use to project all the data onto later on."
   ]
  },
  {
   "cell_type": "code",
   "execution_count": null,
   "id": "caf49145-70d0-4ec3-ba5e-8373376271a0",
   "metadata": {},
   "outputs": [],
   "source": [
    "# first we import the packages we need for this session\n",
    "from oggm import cfg, utils, workflow, tasks"
   ]
  },
  {
   "cell_type": "markdown",
   "id": "b5197464-0f39-4806-841d-af9b3b3d146a",
   "metadata": {},
   "source": [
    "## OGGM initzial set up"
   ]
  },
  {
   "cell_type": "markdown",
   "id": "0937db34-9d3f-4339-8a5a-9f5bb3b7bf15",
   "metadata": {},
   "source": [
    "As we discussed in the last session, OGGM always needs a working directory. This tells it where to work and where to save the results."
   ]
  },
  {
   "cell_type": "code",
   "execution_count": null,
   "id": "9c6f1980-4522-43ef-af3d-5b7fd6793f77",
   "metadata": {},
   "outputs": [],
   "source": [
    "cfg.initialize()\n",
    "\n",
    "# define working directory\n",
    "path = 'grid_working_dir'\n",
    "utils.mkdir(path, reset=False)  # if you set reset=True, everything will be deleted and you can start from a fresh state\n",
    "cfg.PATHS['working_dir'] = path"
   ]
  },
  {
   "cell_type": "markdown",
   "id": "b1315549-8115-4537-ab1c-d9971b4dbbdf",
   "metadata": {},
   "source": [
    "# Get a glacier directory with the RGI outline"
   ]
  },
  {
   "cell_type": "markdown",
   "id": "bdecd486-5106-45db-bef3-e6dc21cc9cc2",
   "metadata": {},
   "source": [
    "Now we need to get the RGI outline for our selected glacier. To do this, we can use the [preprocessed directories](https://docs.oggm.org/en/stable/shop.html#pre-processed-directories), starting from level 0."
   ]
  },
  {
   "cell_type": "code",
   "execution_count": null,
   "id": "b8ed2121-a91c-49d1-9980-d08b30cbc2de",
   "metadata": {},
   "outputs": [],
   "source": [
    "# select the glacier of your choice, you can use the Glims viewer from the first session\n",
    "rgi_ids = ['RGI60-11.00897']  # Hintereisferner\n",
    "\n",
    "# we load the outline data from the oggm cluster\n",
    "prepro_base_url_L0 = 'https://cluster.klima.uni-bremen.de/~oggm/gdirs/oggm_v1.6/L1-L2_files/elev_bands/'\n",
    "gdirs = workflow.init_glacier_directories(rgi_ids,\n",
    "                                          from_prepro_level=0,\n",
    "                                          prepro_base_url=prepro_base_url_L0,\n",
    "                                          prepro_border=80,  # could be 10, 80, 160 or 240\n",
    "                                         )\n",
    "gdir = gdirs[0]  # for convenience, we define a single variable for our glacier"
   ]
  },
  {
   "cell_type": "markdown",
   "id": "ce262b38-8fb7-400c-a01e-615f228f7e2d",
   "metadata": {},
   "source": [
    "<div class=\"alert alert-warning\">\n",
    "    <b>Task</b>: Open the working directory and check which files it contains. Can you explain what each of these files is for?\n",
    "</div>"
   ]
  },
  {
   "cell_type": "markdown",
   "id": "6e480fef-77ae-49da-b114-64ede94abf01",
   "metadata": {},
   "source": [
    "Your answer here:\n"
   ]
  },
  {
   "cell_type": "markdown",
   "id": "3101784f-ac71-4836-9591-2baf31cd268b",
   "metadata": {},
   "source": [
    "## Define a numeric 2D grid and add DEM"
   ]
  },
  {
   "cell_type": "markdown",
   "id": "78c8a9e0-0861-4168-be90-ec5fdd8cfda4",
   "metadata": {},
   "source": [
    "Having the glacier outline is a good start, but to define the flowlines later on, we also need elevation information for the area around the glacier. Before we can import any data into our glacier directory (gdir), we first need to decide on the grid we want to use. Each dataset comes with its own map projection, but to combine them properly, we need all of them to use the same map projection. To make this possible, we define a custom map projection for each glacier, along with its associated grid."
   ]
  },
  {
   "cell_type": "markdown",
   "id": "e029893c-1a7e-43d6-a721-f4b35bd721fe",
   "metadata": {},
   "source": [
    "<div class=\"alert alert-warning\">\n",
    "    <b>Task</b>: What is a <a href='https://en.wikipedia.org/wiki/Map_projection'>Map Projection</a>?\n",
    "</div>"
   ]
  },
  {
   "cell_type": "markdown",
   "id": "0c9e5c17-7080-4a0f-87e8-b128dd9a7872",
   "metadata": {},
   "source": [
    "To define our grid, there are a few parameters you can adjust:"
   ]
  },
  {
   "cell_type": "code",
   "execution_count": null,
   "id": "62a614a7-9300-41f6-99e2-13631e451902",
   "metadata": {},
   "outputs": [],
   "source": [
    "cfg.PARAMS['map_proj'], cfg.PARAMS['border'], cfg.PARAMS['grid_dx_method']"
   ]
  },
  {
   "cell_type": "markdown",
   "id": "40ced77d-2343-4fa1-9b7b-1f01f8eb96e0",
   "metadata": {},
   "source": [
    "<div class=\"alert alert-warning\">\n",
    "    <b>Task</b>: What is the meaning of the individual parmeters?  For this have a look at the <a href='https://github.com/OGGM/oggm/blob/stable/oggm/params.cfg'>Parameter file of OGGM</a>, or the <a href='https://docs.oggm.org/en/stable/shop.html#glacier-map-size-the-prepro-border-argument'>documentation</a>.\n",
    "</div>"
   ]
  },
  {
   "cell_type": "code",
   "execution_count": null,
   "id": "9ba009e7-7836-4c27-a17f-f34de47c4b63",
   "metadata": {},
   "outputs": [],
   "source": [
    "# you can change those values like this\n",
    "cfg.PARAMS['border'] = 80  # the larger the border, the more space on the disc will you need"
   ]
  },
  {
   "cell_type": "markdown",
   "id": "00fbf488-5017-44e1-ac55-697b45b0b0c6",
   "metadata": {},
   "source": [
    "Finally, we also need to choose a DEM source. You can check out this [OGGM tutorial](https://tutorials.oggm.org/stable/notebooks/tutorials/dem_sources.html) to see the available options."
   ]
  },
  {
   "cell_type": "code",
   "execution_count": null,
   "id": "8987718f-bcb2-465a-9b13-44a113916076",
   "metadata": {},
   "outputs": [],
   "source": [
    "source = 'SRTM'  # this is not the default option, but does not require any registration"
   ]
  },
  {
   "cell_type": "markdown",
   "id": "de51936a-edf4-4f89-8805-ae684f5bb470",
   "metadata": {},
   "source": [
    "And run the task (if you can not remember what a task is, have a look at the last session):"
   ]
  },
  {
   "cell_type": "code",
   "execution_count": null,
   "id": "4b02b112-f63f-4842-babe-2a03f15fa669",
   "metadata": {},
   "outputs": [],
   "source": [
    "# this task adds the DEM and defines the local grid\n",
    "workflow.execute_entity_task(tasks.define_glacier_region, \n",
    "                             gdirs,\n",
    "                             source=source);"
   ]
  },
  {
   "cell_type": "markdown",
   "id": "45615ed8-ba78-4139-ba95-dfe6fe2aeae9",
   "metadata": {},
   "source": [
    "<div class=\"alert alert-warning\">\n",
    "    <b>Task</b>: Open the working directory again and check which files was added. Could you explain the meaning of the different files?\n",
    "</div>"
   ]
  },
  {
   "cell_type": "markdown",
   "id": "b5d1f0a2-6eee-4d21-8a98-4b82136e1166",
   "metadata": {},
   "source": [
    "Your answer here:\n"
   ]
  },
  {
   "cell_type": "markdown",
   "id": "4f967948-c34b-4103-bbc7-e125927f4bed",
   "metadata": {},
   "source": [
    "We can have a look at our glacier now"
   ]
  },
  {
   "cell_type": "code",
   "execution_count": null,
   "id": "f9b92068-fc66-46a7-baa3-b2d2155c28a3",
   "metadata": {},
   "outputs": [],
   "source": [
    "from oggm import graphics\n",
    "graphics.plot_domain(gdir, figsize=(6, 5))"
   ]
  },
  {
   "cell_type": "markdown",
   "id": "f1d69acc-5092-4fe2-ad02-e54d3641b166",
   "metadata": {},
   "source": [
    "and also at the grid:"
   ]
  },
  {
   "cell_type": "code",
   "execution_count": null,
   "id": "de0e473b-fc5d-43c7-92a7-9e0ef7b175a0",
   "metadata": {},
   "outputs": [],
   "source": [
    "gdir.grid"
   ]
  },
  {
   "cell_type": "markdown",
   "id": "2686830e-0b5a-4ece-8e43-ca30a79b6d1c",
   "metadata": {},
   "source": [
    "You see that the grid is defined as a `salem.Grid`. You can find more information about it in the [salem Documentation](https://salem.readthedocs.io/en/stable/generated/salem.Grid.html). With this, we are done and are at the stage of level1 of the [preprocessed directories](https://docs.oggm.org/en/latest/shop.html#pre-processed-directories).\n",
    "\n",
    "Now we are ready to move on to the next notebook, where we will define the flowlines of our glacier."
   ]
  },
  {
   "cell_type": "markdown",
   "id": "541721ea-166d-4630-a829-ccbb7c652c50",
   "metadata": {},
   "source": [
    "## Recap"
   ]
  },
  {
   "cell_type": "markdown",
   "id": "484035ae-1d3d-4e5f-a801-feb045f3395c",
   "metadata": {},
   "source": [
    "- Every workflow starts with a glacier outline.\n",
    "- We defined a border around the outline and created a 2D numeric grid.\n",
    "- We added a Digital Elevation Model (DEM) to the glacier directory."
   ]
  }
 ],
 "metadata": {
  "kernelspec": {
   "display_name": "Python 3 (ipykernel)",
   "language": "python",
   "name": "python3"
  },
  "language_info": {
   "codemirror_mode": {
    "name": "ipython",
    "version": 3
   },
   "file_extension": ".py",
   "mimetype": "text/x-python",
   "name": "python",
   "nbconvert_exporter": "python",
   "pygments_lexer": "ipython3",
   "version": "3.11.11"
  }
 },
 "nbformat": 4,
 "nbformat_minor": 5
}
