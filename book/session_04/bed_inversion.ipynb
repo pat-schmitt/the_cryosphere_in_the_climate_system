{
 "cells": [
  {
   "cell_type": "markdown",
   "id": "4b208205-af5f-45b2-86e8-1397d7efce6e",
   "metadata": {},
   "source": [
    "# Glacier bed inversion in OGGM"
   ]
  },
  {
   "cell_type": "markdown",
   "id": "97895e8a-6558-4ea2-84a3-d9832a068642",
   "metadata": {},
   "source": [
    "So far, we have only looked at the glacier surface: first by defining the surface geometry of our flowline, and then by defining and calibrating the surface mass balance. In this session, we will focus on how to define the glacier bed, which is necessary for running a dynamic simulation in the next session. However, since there are no direct observations available on a global scale, defining the glacier bed is a challenging task that requires some assumptions.\n",
    "\n",
    "Let’s dive in!"
   ]
  },
  {
   "cell_type": "markdown",
   "id": "a77fc829-da03-4df7-b700-a4c94636cd27",
   "metadata": {},
   "source": [
    "## OGGM setup"
   ]
  },
  {
   "cell_type": "markdown",
   "id": "bdd391da-4d72-47d7-9020-51752c309e18",
   "metadata": {},
   "source": [
    "First, we set up OGGM as usual. We still need to start from the level 2 preprocessed directories, as we are not yet at level 3. However, I will redo some tasks from previous sessions to bring the glacier directory to the stage we need for today’s work."
   ]
  },
  {
   "cell_type": "code",
   "execution_count": null,
   "id": "46412f5a-ea80-443e-b9b4-9985471be0b6",
   "metadata": {},
   "outputs": [],
   "source": [
    "# first we import the packages we need for this session\n",
    "from oggm import cfg, utils, workflow, tasks, graphics \n",
    "import xarray as xr\n",
    "import numpy as np\n",
    "import pandas as pd\n",
    "import matplotlib.pyplot as plt"
   ]
  },
  {
   "cell_type": "code",
   "execution_count": null,
   "id": "3a54ba1d-6581-4790-af65-827711348fd9",
   "metadata": {},
   "outputs": [],
   "source": [
    "cfg.initialize()\n",
    "\n",
    "# define working directory\n",
    "path = 'inversion_working_dir'\n",
    "utils.mkdir(path, reset=False)  # if you set reset=True, everything will be deleted and you can start from a fresh state\n",
    "cfg.PATHS['working_dir'] = path"
   ]
  },
  {
   "cell_type": "code",
   "execution_count": null,
   "id": "e42da73d-1318-45b6-901b-7e42dc5c1387",
   "metadata": {},
   "outputs": [],
   "source": [
    "# select the glacier of your choice, you can use the Glims viewer from the first session\n",
    "rgi_ids = ['RGI60-11.00897']  # Hintereisferner\n",
    "\n",
    "# we load the outline data from the oggm cluster\n",
    "prepro_base_url_L2 = 'https://cluster.klima.uni-bremen.de/~oggm/gdirs/oggm_v1.6/L1-L2_files/elev_bands/'\n",
    "gdirs = workflow.init_glacier_directories(rgi_ids,\n",
    "                                          from_prepro_level=2,  # here we select level 2\n",
    "                                          prepro_base_url=prepro_base_url_L2,\n",
    "                                          prepro_border=80,  # could be 10, 80, 160 or 240\n",
    "                                         )\n",
    "gdir = gdirs[0]  # for convenience, we define a single variable for our glacier\n",
    "\n",
    "# redo some tasks of previous sessions to get everything we need for the inversion\n",
    "workflow.execute_entity_task(tasks.compute_downstream_bedshape, gdirs);\n",
    "workflow.execute_entity_task(tasks.process_climate_data, gdirs);\n",
    "workflow.execute_entity_task(tasks.mb_calibration_from_geodetic_mb,\n",
    "                             gdirs,\n",
    "                             informed_threestep=True,\n",
    "                            );"
   ]
  },
  {
   "cell_type": "markdown",
   "id": "b91f936f-cc36-4e52-a044-1c92881bbbb5",
   "metadata": {},
   "source": [
    "## The actual inversion"
   ]
  },
  {
   "cell_type": "markdown",
   "id": "caa04e8f-d9e2-4bd9-b737-ba5239d0e816",
   "metadata": {},
   "source": [
    "To get started, please read through the description of the [Bed inversion section in the OGGM documentation](https://docs.oggm.org/en/stable/inversion.html), up to the paragraph titled \"Calibration\". This information will help you follow along with the tasks discussed below.\n",
    "\n",
    "Once you have finished reading, we will begin with the actual inversion."
   ]
  },
  {
   "cell_type": "markdown",
   "id": "b2233a06-d62d-4f7c-8867-266130becbe0",
   "metadata": {},
   "source": [
    "## Calculation of the apparent mass balance"
   ]
  },
  {
   "cell_type": "markdown",
   "id": "51ff9a1a-baf7-4e2e-b741-436a6a8a80bb",
   "metadata": {},
   "source": [
    "<div class=\"alert alert-warning\">\n",
    "    <b>Task</b>:\n",
    "    <ul>\n",
    "        <li>What is the <b>apparent mass balance</b>?</li>\n",
    "        <li>What is the difference between the <b>apparent mass balance</b> and the <b>surface mass balance</b> we studied in the last session?</li>\n",
    "    </ul>\n",
    "</div>"
   ]
  },
  {
   "cell_type": "markdown",
   "id": "a736c4c3-e869-4c98-b44b-300bdcd5da87",
   "metadata": {},
   "source": [
    "Your answer here:"
   ]
  },
  {
   "cell_type": "markdown",
   "id": "711b91f9-c44c-4f8f-b539-aaa1a08812fc",
   "metadata": {},
   "source": [
    "Calculating the apparent mass balance is simply a matter of running another task:"
   ]
  },
  {
   "cell_type": "code",
   "execution_count": null,
   "id": "506e61cf-f3a6-403a-859d-5751c1dab521",
   "metadata": {},
   "outputs": [],
   "source": [
    "workflow.execute_entity_task(tasks.apparent_mb_from_any_mb, gdirs);"
   ]
  },
  {
   "cell_type": "markdown",
   "id": "3fa60e64-a1e0-4148-8a4b-14a90c994b0d",
   "metadata": {},
   "source": [
    "We can take a look at the diagnostics to see what we have actually calculated:"
   ]
  },
  {
   "cell_type": "code",
   "execution_count": null,
   "id": "eee762a8-58d7-40e6-84ea-00506a6411e1",
   "metadata": {},
   "outputs": [],
   "source": [
    "gdir.get_diagnostics()['apparent_mb_from_any_mb_residual']"
   ]
  },
  {
   "cell_type": "markdown",
   "id": "1b4a7334-641c-4331-bade-69f858af5469",
   "metadata": {},
   "source": [
    "Let’s also take a look at the mean specific surface mass balance for the period 2000 to 2020:"
   ]
  },
  {
   "cell_type": "code",
   "execution_count": null,
   "id": "be093081-e07f-4caa-b494-15a6402a041c",
   "metadata": {},
   "outputs": [],
   "source": [
    "from oggm.core import massbalance\n",
    "\n",
    "# defining the mb model the same way as in the last session\n",
    "mb_model = massbalance.MonthlyTIModel(gdir)\n",
    "\n",
    "# define the period we want to look at\n",
    "mb_years = np.arange(2000, 2020, 1)\n",
    "\n",
    "# get the surface flowline geometery, which we defined two sessions ago\n",
    "fls = gdir.read_pickle('inversion_flowlines')\n",
    "\n",
    "# and calculate the mean specific surface mass balance\n",
    "np.mean(mb_model.get_specific_mb(fls=fls, year=mb_years))"
   ]
  },
  {
   "cell_type": "markdown",
   "id": "715a68e9-f1de-45dd-8f68-8802a8bbd529",
   "metadata": {},
   "source": [
    "<div class=\"alert alert-warning\">\n",
    "    <b>Task</b>: Why are these two numbers the same (except for their sign)? What are their units? (Hint: Check the definition of the equilibrium assumption in the documentation.)\n",
    "</div>"
   ]
  },
  {
   "cell_type": "markdown",
   "id": "58f8e39b-16a2-4fcc-a373-03e60281d251",
   "metadata": {},
   "source": [
    "Your answer here:"
   ]
  },
  {
   "cell_type": "markdown",
   "id": "b87d5012-3cdf-45f0-b8a1-9de0ef1c9f49",
   "metadata": {},
   "source": [
    "## The actual bed inversion"
   ]
  },
  {
   "cell_type": "markdown",
   "id": "00d324e0-ea16-4b59-8842-25e335e31f35",
   "metadata": {},
   "source": [
    "After calculating the apparent mass balance, we can use it to perform the actual inversion. Once the inversion is completed, we combine the inverted glacier bed with the downstream line we defined two sessions ago by calling `tasks.init_present_time_glacier`."
   ]
  },
  {
   "cell_type": "code",
   "execution_count": null,
   "id": "4c56ee14-b9e0-4270-b4b2-1eb50e48036d",
   "metadata": {},
   "outputs": [],
   "source": [
    "from oggm import global_tasks\n",
    "\n",
    "# the inverison can be done at the same time for mutliple glaciers,\n",
    "# why this is different to the other tasks we have seen so far will\n",
    "# get clear in the upcoming sections\n",
    "global_tasks.inversion_tasks(gdirs,\n",
    "                             filter_inversion_output=False  # for what this filter is used is explained below\n",
    "                            )\n",
    "\n",
    "# finally we put together our glacier bed with the downstream line we defined two sessions ago\n",
    "workflow.execute_entity_task(tasks.init_present_time_glacier, gdirs,\n",
    "                             filesuffix='_no_filter_no_calibration');"
   ]
  },
  {
   "cell_type": "markdown",
   "id": "349ffcbf-dd42-4ad3-a7da-0cd5fa7e3f35",
   "metadata": {},
   "source": [
    "Let's have a look at it:"
   ]
  },
  {
   "cell_type": "code",
   "execution_count": null,
   "id": "ffb4725d-45c0-425a-99ec-2cb891ffcc74",
   "metadata": {},
   "outputs": [],
   "source": [
    "fls_no_filter_no_calibration = gdir.read_pickle('model_flowlines', filesuffix='_no_filter_no_calibration')\n",
    "graphics.plot_modeloutput_section(fls_no_filter_no_calibration)"
   ]
  },
  {
   "cell_type": "markdown",
   "id": "59601cb8-5789-434f-9834-666b62d040d0",
   "metadata": {},
   "source": [
    "<div class=\"alert alert-warning\">\n",
    "    <b>Task</b>: Why do we see a large overdeepening at the terminus? (Hint: Review how the inversion is performed in the documentation and think again about the equilibrium assumption.)\n",
    "</div>"
   ]
  },
  {
   "cell_type": "markdown",
   "id": "3d08c6c5-d18d-4631-8e75-d4bd1cfec9d4",
   "metadata": {},
   "source": [
    "Your anwser here:"
   ]
  },
  {
   "cell_type": "markdown",
   "id": "20bad8b6-315a-40a6-861a-1b973cd5315c",
   "metadata": {},
   "source": [
    "Since we are aware of the overdeepening problem, we can fix it by applying a filter at the terminus. Let’s redo the inversion with the filter applied and then check the difference:"
   ]
  },
  {
   "cell_type": "code",
   "execution_count": null,
   "id": "30de0d30-0343-4dbd-adef-ef317a7967ec",
   "metadata": {},
   "outputs": [],
   "source": [
    "# let's redo the inversion, by using a filter at the terminus\n",
    "global_tasks.inversion_tasks(gdirs,\n",
    "                             filter_inversion_output=True\n",
    "                            )\n",
    "workflow.execute_entity_task(tasks.init_present_time_glacier, gdirs,\n",
    "                             filesuffix='_no_calibration');"
   ]
  },
  {
   "cell_type": "code",
   "execution_count": null,
   "id": "74548872-a13a-40c6-ba9f-1e1879eef9b7",
   "metadata": {},
   "outputs": [],
   "source": [
    "fls_no_calibration = gdir.read_pickle('model_flowlines', filesuffix='_no_calibration')\n",
    "graphics.plot_modeloutput_section(fls_no_calibration)"
   ]
  },
  {
   "cell_type": "markdown",
   "id": "f1f7e287-a25b-4154-be66-595195fa7a8f",
   "metadata": {},
   "source": [
    "After completing the inversion, we can take a look at our calculated volume and compare it to another volume estimate, specifically, the consensus estimate from [Farinotti et al. (2019)](https://doi.org/10.1038/s41561-019-0300-3)."
   ]
  },
  {
   "cell_type": "code",
   "execution_count": null,
   "id": "0f52e8c6-ed88-4540-978e-9a376a066ef9",
   "metadata": {},
   "outputs": [],
   "source": [
    "# Define a function to compare the modelled volume with the consensus estimate\n",
    "def print_modelled_and_estimated_volume(gdir):\n",
    "    # Get the modelled volume from the bed inversion (convert from m³ to km³)\n",
    "    model_volume = tasks.get_inversion_volume(gdir) * 1e-9  # km³\n",
    "\n",
    "    # Get the consensus estimate volume (convert from m³ to km³)\n",
    "    estimated_volume = pd.read_hdf(utils.get_demo_file('rgi62_itmix_df.h5')).loc[gdir.rgi_id]['vol_itmix_m3'] * 1e-9  # km³\n",
    "    \n",
    "    print(f\"Estimated volume: {estimated_volume:.3f} km³\")\n",
    "    print(f'Modelled volume: {model_volume:.3f} km³')\n",
    "\n",
    "print_modelled_and_estimated_volume(gdir)"
   ]
  },
  {
   "cell_type": "markdown",
   "id": "0f60b889-49a9-4bff-88d7-116945e758c1",
   "metadata": {},
   "source": [
    "As you can see, we are quite far off. The reason for this is that we used the default Glen A parameter during the inversion:"
   ]
  },
  {
   "cell_type": "code",
   "execution_count": null,
   "id": "c179bd1f-7584-4d79-941f-a446dec5c931",
   "metadata": {},
   "outputs": [],
   "source": [
    "gdir.get_diagnostics()['inversion_glen_a']"
   ]
  },
  {
   "cell_type": "markdown",
   "id": "49e1c0ea-e5ff-4382-b9a5-c30b89834b1d",
   "metadata": {},
   "source": [
    "You can redo the inversion using your own Glen A parameter by setting the glen_a keyword argument.\n",
    "\n",
    "Can you find a better match to the estimated volume?"
   ]
  },
  {
   "cell_type": "code",
   "execution_count": null,
   "id": "33d53c9c-d9c7-4f69-8bdf-46989edbcf5c",
   "metadata": {},
   "outputs": [],
   "source": [
    "# let's redo the inversion, by using a filter at the terminus\n",
    "global_tasks.inversion_tasks(gdirs,\n",
    "                             filter_inversion_output=True,\n",
    "                             # here you can play around by providing your own Glen A paramter\n",
    "                             glen_a=cfg.PARAMS['glen_a'] * 1,\n",
    "                            )\n",
    "workflow.execute_entity_task(tasks.init_present_time_glacier, gdirs,\n",
    "                             filesuffix='_your_glen_a');"
   ]
  },
  {
   "cell_type": "markdown",
   "id": "62e9b359-3c44-4105-a1b5-2f14ec935106",
   "metadata": {},
   "source": [
    "<div class=\"alert alert-warning\">\n",
    "    <b>Task</b>: What does the Glen A parameter describe? In which direction do you think we need to change it to bring the modelled volume closer to the estimated one? (Hint: Take a look at the <a href=\"https://docs.oggm.org/en/stable/ice-dynamics.html#ice-flow\">OGGM documentation</a> and the plot in <a href=\"https://tutorials.oggm.org/stable/notebooks/tutorials/inversion.html#sensitivity-analysis\">this section of the OGGM tutorials</a>.)\n",
    "</div>"
   ]
  },
  {
   "cell_type": "markdown",
   "id": "69dbb511-4e48-4c13-a636-91df525ae2f2",
   "metadata": {},
   "source": [
    "Your answer here:"
   ]
  },
  {
   "cell_type": "markdown",
   "id": "dc064b4c-31ad-4f5b-8e02-45f08889e362",
   "metadata": {},
   "source": [
    "### Bed inversion with calibration to estimated volume"
   ]
  },
  {
   "cell_type": "markdown",
   "id": "d3864198-2da3-4516-9473-55e2ba31f897",
   "metadata": {},
   "source": [
    "Fortunately, OGGM has a functionality that allows us to take the estimated volume into account and calibrate the Glen A parameter for better agreement:"
   ]
  },
  {
   "cell_type": "code",
   "execution_count": null,
   "id": "a78b7e42-f59e-4292-98e1-324109f34715",
   "metadata": {
    "scrolled": true
   },
   "outputs": [],
   "source": [
    "# when we use all glaciers, no Glen A could be found within the range [0.1,10] that would match the consensus estimate\n",
    "# usually, this is applied on larger regions where this error should not occur ! \n",
    "workflow.calibrate_inversion_from_consensus(gdirs, filter_inversion_output=True);\n",
    "workflow.execute_entity_task(tasks.init_present_time_glacier, gdirs);"
   ]
  },
  {
   "cell_type": "markdown",
   "id": "0f6e3f30-243f-4d00-9a10-75799411374f",
   "metadata": {},
   "source": [
    "In the default OGGM workflow, this calibration is not done for each glacier individually, but rather for an entire region.\n",
    "The reason is that the consensus volume estimate is still just an estimate, not a direct observation. We assume larger errors for individual glaciers, but that the estimate becomes more accurate when averaged over large regions.\n",
    "\n",
    "Now, let’s check again how well we match the estimated volume:"
   ]
  },
  {
   "cell_type": "code",
   "execution_count": null,
   "id": "48a163d3-4342-4a67-8fa7-fa02f627ed0b",
   "metadata": {},
   "outputs": [],
   "source": [
    "print_modelled_and_estimated_volume(gdir)"
   ]
  },
  {
   "cell_type": "markdown",
   "id": "6850eb93-e500-478f-b712-175cb88e1801",
   "metadata": {},
   "source": [
    "Great, now we have a perfect match!\n",
    "\n",
    "Let’s take a look at the Glen A parameter that was used. Did it change in the direction you expected?"
   ]
  },
  {
   "cell_type": "code",
   "execution_count": null,
   "id": "fd1d4a94-6332-4bb4-9cdd-a5f65fdb6d28",
   "metadata": {},
   "outputs": [],
   "source": [
    "gdir.get_diagnostics()['inversion_glen_a']"
   ]
  },
  {
   "cell_type": "markdown",
   "id": "e23cce50-617a-47eb-b11b-1de983336a93",
   "metadata": {},
   "source": [
    "Finally, let’s plot the three glacier beds we created today side by side (if you want you can also add your own bed inversion here):"
   ]
  },
  {
   "cell_type": "code",
   "execution_count": null,
   "id": "c1360840-78ae-4811-b4c2-3653a4313690",
   "metadata": {},
   "outputs": [],
   "source": [
    "fig, axs = plt.subplots(3, 1, figsize=(6,10), gridspec_kw={'hspace': 0.6})\n",
    "\n",
    "# our intial approach, without a filter at the terminus and no calibration\n",
    "graphics.plot_modeloutput_section(fls_no_filter_no_calibration, ax=axs[0])\n",
    "axs[0].set_title('  _no_filter_no_calibration', loc='left')\n",
    "\n",
    "# our secend try, with a filter at the terminus, but no calibration\n",
    "graphics.plot_modeloutput_section(fls_no_calibration, ax=axs[1])\n",
    "axs[1].set_title('  _no_calibration', loc='left')\n",
    "\n",
    "# our final bed inversion, with a filter and with a calibration\n",
    "fls_oggm = gdir.read_pickle('model_flowlines')\n",
    "graphics.plot_modeloutput_section(fls_oggm, ax=axs[2])\n",
    "axs[2].set_title('  OGGM default', loc='left')"
   ]
  },
  {
   "cell_type": "markdown",
   "id": "9e9499ed-cc8c-416e-a4a7-4b057fb68da9",
   "metadata": {},
   "source": [
    "<div class=\"alert alert-warning\">\n",
    "    <b>Task</b>: Summarize the differences between the three glacier geometries in your own words.\n",
    "</div>"
   ]
  },
  {
   "cell_type": "markdown",
   "id": "31da8982-5ea3-4513-add1-bae4633f7614",
   "metadata": {},
   "source": [
    "Your answer here:"
   ]
  },
  {
   "cell_type": "markdown",
   "id": "35285caf-99ed-4ba6-915b-ce5b1e0565f0",
   "metadata": {},
   "source": [
    "<div class=\"alert alert-warning\">\n",
    "    <b>Bonus-task</b>: Calculate the differences between the flowline thicknesses of the different glacier beds and compare them.\n",
    "</div>"
   ]
  },
  {
   "cell_type": "code",
   "execution_count": null,
   "id": "9208c3b9-9a02-45d0-b2cf-7de97fb1a78c",
   "metadata": {},
   "outputs": [],
   "source": [
    "# Hint you can get access to the thickness with the following code\n",
    "fls_oggm[0].thick"
   ]
  },
  {
   "cell_type": "markdown",
   "id": "4ed713ea-6c81-4e47-a838-cfce508d34b3",
   "metadata": {},
   "source": [
    "## Bonus: Distributed thickness"
   ]
  },
  {
   "cell_type": "markdown",
   "id": "3a66405b-fc06-4ea5-b492-1026367824cf",
   "metadata": {},
   "source": [
    "There are also some functionalities available to redistribute the flowline thickness back onto the grid:"
   ]
  },
  {
   "cell_type": "code",
   "execution_count": null,
   "id": "a5cf932f-526b-4b49-b168-1193caa1c6a0",
   "metadata": {},
   "outputs": [],
   "source": [
    "# Distribute flowline thickness to the grid\n",
    "workflow.execute_entity_task(tasks.distribute_thickness_per_altitude, gdirs);"
   ]
  },
  {
   "cell_type": "markdown",
   "id": "697bb38e-0e03-431a-9b74-97fca8f58f13",
   "metadata": {},
   "source": [
    "Before we look at the results, let's also add some observations for comparison, starting with the consensus estimate from [Farinotti et al. (2019)](https://doi.org/10.1038/s41561-019-0300-3)."
   ]
  },
  {
   "cell_type": "code",
   "execution_count": null,
   "id": "712ca70c-7166-4409-b2e7-fbfc4a5c4ce3",
   "metadata": {},
   "outputs": [],
   "source": [
    "from oggm.shop import bedtopo\n",
    "workflow.execute_entity_task(bedtopo.add_consensus_thickness, gdirs);"
   ]
  },
  {
   "cell_type": "markdown",
   "id": "03dffb15-9186-458b-b0a8-17182d19b904",
   "metadata": {},
   "source": [
    "And now, let's add a velocity-based estimate from [Millan et al. (2022)](https://doi.org/10.1038/s41561-021-00885-z):"
   ]
  },
  {
   "cell_type": "code",
   "execution_count": null,
   "id": "66bc91fa-d30e-4849-9e4f-466e77d31d57",
   "metadata": {},
   "outputs": [],
   "source": [
    "from oggm.shop import millan22\n",
    "workflow.execute_entity_task(millan22.thickness_to_gdir, gdirs);"
   ]
  },
  {
   "cell_type": "markdown",
   "id": "91d9bae3-6aef-48c6-a8ec-e8d358a411f3",
   "metadata": {},
   "source": [
    "Okay, let’s load the data and compare it in a plot:"
   ]
  },
  {
   "cell_type": "code",
   "execution_count": null,
   "id": "c490de5a-f20a-4558-868c-9f743e0a3c87",
   "metadata": {},
   "outputs": [],
   "source": [
    "# load all gridded data, this is the grid we defined in the second session\n",
    "with xr.open_dataset(gdir.get_filepath('gridded_data')) as ds:\n",
    "    ds = ds.load()"
   ]
  },
  {
   "cell_type": "code",
   "execution_count": null,
   "id": "5e732205-2412-4d18-b42c-e6ea721a1b2c",
   "metadata": {},
   "outputs": [],
   "source": [
    "fig, axs = plt.subplots(2, 2, figsize=(10,8), gridspec_kw={'hspace': 0.25})\n",
    "\n",
    "# the oggm output\n",
    "ax_oggm = axs[0, 0]\n",
    "ds.distributed_thickness.plot(ax=ax_oggm);\n",
    "ax_oggm.set_title('OGGM')\n",
    "\n",
    "# the consensus estimate\n",
    "ax_consensus = axs[0, 1]\n",
    "ds.consensus_ice_thickness.plot(ax=ax_consensus)\n",
    "ax_consensus.set_title('Farinotti et al. (2019)')\n",
    "\n",
    "# the Millan estimate\n",
    "ax_millan = axs[1, 0]\n",
    "ds.where(ds.glacier_mask).millan_ice_thickness.plot(ax=ax_millan)\n",
    "ax_millan.set_title('Millan et al. (2022)')\n"
   ]
  },
  {
   "cell_type": "markdown",
   "id": "d29b5e87-7b4b-4949-a10c-4aa4c384368a",
   "metadata": {},
   "source": [
    "<div class=\"alert alert-warning\">\n",
    "    <b>Task</b>: What differences do you notice?\n",
    "</div>"
   ]
  },
  {
   "cell_type": "markdown",
   "id": "ee2e2eca-2fbf-4ca5-ab90-9f40307f8327",
   "metadata": {},
   "source": [
    "Your answer here:"
   ]
  },
  {
   "cell_type": "markdown",
   "id": "f81c4d73-c0f6-4b73-80af-cb488d832ae7",
   "metadata": {},
   "source": [
    "## Recap"
   ]
  },
  {
   "cell_type": "markdown",
   "id": "dd3beda2-0672-4ea2-9c5b-18b1e343b631",
   "metadata": {},
   "source": [
    "- We need to assume equilibrium during the inversion process.\n",
    "- This assumption can lead to overdeepenings at the terminus for retreating glaciers.\n",
    "- We can use a total volume estimate to calibrate the glacier flow parameter Glen A."
   ]
  }
 ],
 "metadata": {
  "kernelspec": {
   "display_name": "Python 3 (ipykernel)",
   "language": "python",
   "name": "python3"
  },
  "language_info": {
   "codemirror_mode": {
    "name": "ipython",
    "version": 3
   },
   "file_extension": ".py",
   "mimetype": "text/x-python",
   "name": "python",
   "nbconvert_exporter": "python",
   "pygments_lexer": "ipython3",
   "version": "3.11.11"
  }
 },
 "nbformat": 4,
 "nbformat_minor": 5
}
