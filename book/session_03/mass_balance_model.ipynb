{
 "cells": [
  {
   "cell_type": "markdown",
   "id": "3d015af6-a4a2-4315-b840-50758e1cece0",
   "metadata": {},
   "source": [
    "# Mass balance model in OGGM"
   ]
  },
  {
   "cell_type": "markdown",
   "id": "404a7e17-1691-4ccc-ab3f-4fbaab9315f0",
   "metadata": {},
   "source": [
    "In this notebook, we will take a look at the default mass balance model used in OGGM. It is a very simple temperature index model that only requires temperature and precipitation as climate input variables. Therefore, we’ll start this session by adding the climate data to our glacier directory."
   ]
  },
  {
   "cell_type": "markdown",
   "id": "fc104f5c-ce70-4a3e-8baf-e7ed7de538fd",
   "metadata": {},
   "source": [
    "## OGGM setup"
   ]
  },
  {
   "cell_type": "markdown",
   "id": "61286e96-5c00-4c86-8133-53c3448f37b0",
   "metadata": {},
   "source": [
    "First, we start with the package imports and set up the working directory, as always:"
   ]
  },
  {
   "cell_type": "code",
   "execution_count": null,
   "id": "af9b736b-13af-4028-8122-e2c3f7482d31",
   "metadata": {},
   "outputs": [],
   "source": [
    "# first we import the packages we need for this session\n",
    "from oggm import cfg, utils, workflow, tasks \n",
    "import xarray as xr\n",
    "import numpy as np\n",
    "import matplotlib.pyplot as plt"
   ]
  },
  {
   "cell_type": "code",
   "execution_count": null,
   "id": "a7c1d329-3ef4-4fd8-8f13-a346464dd988",
   "metadata": {},
   "outputs": [],
   "source": [
    "cfg.initialize()\n",
    "\n",
    "# define working directory\n",
    "path = 'mb_working_dir'\n",
    "utils.mkdir(path, reset=False)  # if you set reset=True, everything will be deleted and you can start from a fresh state\n",
    "cfg.PATHS['working_dir'] = path"
   ]
  },
  {
   "cell_type": "markdown",
   "id": "4aea369b-37f1-4795-9d18-8f5f06f024c1",
   "metadata": {},
   "source": [
    "In the last session, we defined the elevation band flowline for our glacier. This corresponds to level 2 of the [preprocessed directories](https://docs.oggm.org/en/stable/shop.html#pre-processed-directories). So, we don’t need to repeat the tasks from the previous session, we can start directly from level 2:"
   ]
  },
  {
   "cell_type": "code",
   "execution_count": null,
   "id": "26339b5c-d007-4e91-9e7a-058858c4abce",
   "metadata": {},
   "outputs": [],
   "source": [
    "# select the glacier of your choice, you can use the Glims viewer from the first session\n",
    "rgi_ids = ['RGI60-11.00897']  # Hintereisferner\n",
    "\n",
    "# we load the outline data from the oggm cluster\n",
    "prepro_base_url_L1 = 'https://cluster.klima.uni-bremen.de/~oggm/gdirs/oggm_v1.6/L1-L2_files/elev_bands/'\n",
    "gdirs = workflow.init_glacier_directories(rgi_ids,\n",
    "                                          from_prepro_level=2,  # here we select level 2\n",
    "                                          prepro_base_url=prepro_base_url_L1,\n",
    "                                          prepro_border=80,  # could be 10, 80, 160 or 240\n",
    "                                         )\n",
    "gdir = gdirs[0]  # for convenience, we define a single variable for our glacier"
   ]
  },
  {
   "cell_type": "markdown",
   "id": "0d35350c-3169-45db-922f-8e9f1eab6762",
   "metadata": {},
   "source": [
    "Let's have a look at the diagnostics:"
   ]
  },
  {
   "cell_type": "code",
   "execution_count": null,
   "id": "2f4179b3-e5df-4ef6-97e6-c9ee90937a0f",
   "metadata": {},
   "outputs": [],
   "source": [
    "gdir.get_diagnostics()"
   ]
  },
  {
   "cell_type": "markdown",
   "id": "07fbf9ef-96cd-45bd-942c-3fd553dcb80d",
   "metadata": {},
   "source": [
    "<div class=\"alert alert-warning\">\n",
    "    <b>Task</b>: What is different from the last session?\n",
    "</div>"
   ]
  },
  {
   "cell_type": "markdown",
   "id": "933e959e-d745-46b7-a6e9-9b4453fe4d96",
   "metadata": {},
   "source": [
    "Your answer here:"
   ]
  },
  {
   "cell_type": "markdown",
   "id": "ae2d3068-5b22-453a-b30d-cd0adc0c1fcc",
   "metadata": {},
   "source": [
    "## Climatic Input data"
   ]
  },
  {
   "cell_type": "markdown",
   "id": "85d02f48-608c-4a62-b3a5-3bdaf1ddf147",
   "metadata": {},
   "source": [
    "OGGM supports several different climate datasets by default. You can find an overview of them in the [OGGM documentation](https://docs.oggm.org/en/stable/climate-data.html#climate-data). The dataset to use can be set with `cfg.PARAMS['baseline_climate']`."
   ]
  },
  {
   "cell_type": "code",
   "execution_count": null,
   "id": "489587ef-e7e4-4d34-82c1-84525c46e8e0",
   "metadata": {},
   "outputs": [],
   "source": [
    "# You can define which climate data to use\n",
    "cfg.PARAMS['baseline_climate']"
   ]
  },
  {
   "cell_type": "markdown",
   "id": "b0db38c1-d6c4-4e93-9758-94e3a72a2fe7",
   "metadata": {},
   "source": [
    "<div class=\"alert alert-warning\">\n",
    "    <b>Task</b>: What is the GSWP3_W5E5 dataset? What is its resolution? What is the main reason for selecting this dataset?\n",
    "</div>"
   ]
  },
  {
   "cell_type": "markdown",
   "id": "c3711a27-a53b-4922-b9f2-bb4671e32b42",
   "metadata": {},
   "source": [
    "Your answere here:"
   ]
  },
  {
   "cell_type": "markdown",
   "id": "2dbd68bb-133b-440f-ba45-47c3bf3ea5e7",
   "metadata": {},
   "source": [
    "Adding one of the default climate datasets to the glacier directory only requires executing a single task:"
   ]
  },
  {
   "cell_type": "code",
   "execution_count": null,
   "id": "794f0a8e-627b-4406-9167-ec4e11916075",
   "metadata": {},
   "outputs": [],
   "source": [
    "# add climate data to gdir\n",
    "workflow.execute_entity_task(tasks.process_climate_data, gdirs);"
   ]
  },
  {
   "cell_type": "markdown",
   "id": "a7fa882b-0654-4c08-83fd-89d2a1bf880a",
   "metadata": {},
   "source": [
    "<div class=\"alert alert-warning\">\n",
    "    <b>Task</b>: Have a look in your glacier's working directory. Is their a new file?\n",
    "</div>"
   ]
  },
  {
   "cell_type": "markdown",
   "id": "1ff111fd-5621-4f9a-ba32-d4c57adf7881",
   "metadata": {},
   "source": [
    "Your answere here:"
   ]
  },
  {
   "cell_type": "markdown",
   "id": "9779a2bc-5d23-4ad9-95a1-758e3b6dac9d",
   "metadata": {},
   "source": [
    "There is a built-in function to check which climate data was added to the glacier directory:"
   ]
  },
  {
   "cell_type": "code",
   "execution_count": null,
   "id": "d45f1a9a-7756-4629-856f-6f044021aa15",
   "metadata": {},
   "outputs": [],
   "source": [
    "gdir.get_climate_info()"
   ]
  },
  {
   "cell_type": "markdown",
   "id": "d3fce9c7-ebf5-4600-a65e-463881b4cb1c",
   "metadata": {},
   "source": [
    "<div class=\"alert alert-warning\">\n",
    "    <b>Task</b>: Do you understand all the variables?\n",
    "</div>"
   ]
  },
  {
   "cell_type": "markdown",
   "id": "db49d963-5a0d-4305-a045-651e3680c83d",
   "metadata": {},
   "source": [
    "Your answere here:"
   ]
  },
  {
   "cell_type": "markdown",
   "id": "8acb28fa-9801-4222-9dc5-c971ca5bd543",
   "metadata": {},
   "source": [
    "We can also open `climate_historical.nc` and plot the variables:"
   ]
  },
  {
   "cell_type": "code",
   "execution_count": null,
   "id": "fc14b504-5fae-4be2-a15a-841faf5934c3",
   "metadata": {},
   "outputs": [],
   "source": [
    "ds = xr.open_dataset(gdir.get_filepath('climate_historical'))\n",
    "ds"
   ]
  },
  {
   "cell_type": "markdown",
   "id": "42104b40-6ed7-49a6-98b3-b51291519a93",
   "metadata": {},
   "source": [
    "Let’s take a look at the monthly temperature and calculate the mean annual temperature:"
   ]
  },
  {
   "cell_type": "code",
   "execution_count": null,
   "id": "b936f2b2-01bd-448f-898a-6b958d90d723",
   "metadata": {},
   "outputs": [],
   "source": [
    "# plotting the monthly temperature\n",
    "ax = ds.temp.plot(label='monthly')\n",
    "\n",
    "# calculate the mean annual temperature and plot it\n",
    "ds.temp.resample(time='1YS').mean(dim='time').plot(color='k', label='annual mean')\n",
    "\n",
    "# add legend and grid\n",
    "plt.legend(); plt.grid('on');"
   ]
  },
  {
   "cell_type": "markdown",
   "id": "b0c5972c-b725-43ff-ba3e-2c56dcdb76c4",
   "metadata": {},
   "source": [
    "It’s hard to identify any trends in the annual mean because of the large interannual variability of the monthly temperature. Let’s plot the annual mean on its own:"
   ]
  },
  {
   "cell_type": "code",
   "execution_count": null,
   "id": "63527354-0e44-418d-a26e-e07c49379f4d",
   "metadata": {},
   "outputs": [],
   "source": [
    "ds.temp.resample(time='1YS').mean(dim='time').plot(color='k', label='annual mean')\n",
    "plt.grid('on')"
   ]
  },
  {
   "cell_type": "markdown",
   "id": "c5d78265-b358-4be3-902c-414e5a071679",
   "metadata": {},
   "source": [
    "<div class=\"alert alert-warning\">\n",
    "    <b>Task</b>: Analyze the annual mean temperature. Is there any visible trend?\n",
    "</div>"
   ]
  },
  {
   "cell_type": "markdown",
   "id": "7f9dd3c5-4ec5-474e-80d1-37edda38a418",
   "metadata": {},
   "source": [
    "Your answere here:"
   ]
  },
  {
   "cell_type": "markdown",
   "id": "b4e3b0c1-de76-44eb-9b66-a523c6581f8d",
   "metadata": {},
   "source": [
    "<div class=\"alert alert-warning\">\n",
    "    <b>Task</b>: Conduct a similar analysis for the standard deviation of daily temperatures (temp_std) and for precipitation (prcp). However, instead of calculating the annual mean for precipitation, compute the annual sum. Do you notice any trends?\n",
    "</div>"
   ]
  },
  {
   "cell_type": "markdown",
   "id": "83963857-a25e-4809-9a18-c2d3f7c2ffc2",
   "metadata": {},
   "source": [
    "Your answere here:"
   ]
  },
  {
   "cell_type": "markdown",
   "id": "f85adcf3-4b20-45d1-97d4-5e41b1f7a287",
   "metadata": {},
   "source": [
    "## Mass balance observations"
   ]
  },
  {
   "cell_type": "markdown",
   "id": "28b96e0d-8888-40ab-9ac8-fe0a60b173cc",
   "metadata": {},
   "source": [
    "### Geodetic mass balance"
   ]
  },
  {
   "cell_type": "markdown",
   "id": "c99b98f7-94e5-4b72-82b5-16e4ca2f6f4d",
   "metadata": {},
   "source": [
    "We use a geodetic mass balance observation to calibrate our Mass Balance model, specifically, the average geodetic observation from 2000 to 2020 by [Hugonnet et al. 2021](https://www.nature.com/articles/s41586-021-03436-z)."
   ]
  },
  {
   "cell_type": "markdown",
   "id": "96396ebd-4518-4367-bdbe-37e36c9764f4",
   "metadata": {},
   "source": [
    "<div class=\"alert alert-warning\">\n",
    "    <b>Task</b>: What is a geodetic mass balance? If you can not remember have a look at the slides from the lecture!\n",
    "</div>"
   ]
  },
  {
   "cell_type": "markdown",
   "id": "d9d30e0e-4524-4416-a0c8-dada41c9f70d",
   "metadata": {},
   "source": [
    "Your answer here:"
   ]
  },
  {
   "cell_type": "markdown",
   "id": "5ded1802-1b2c-42f8-97ab-5f9ba948b740",
   "metadata": {},
   "source": [
    "A nice visualisation of this observation can be found in this [Theia app](http://maps.theia-land.fr/theia-cartographic-layers.html?year=2021&month=09&collection=glaciers)."
   ]
  },
  {
   "cell_type": "markdown",
   "id": "cda80abd-d6ac-4282-a118-b8500d491cbd",
   "metadata": {},
   "source": [
    "<div class=\"alert alert-warning\">\n",
    "    <b>Task</b>: Open the Theia app, select `Glacier Elevation Change`, and activate `compare` (upper right corner). Go to one glacier in the alps and compare the two periods `2000-2009` and `2010-2019`. What do you observe?\n",
    "</div>"
   ]
  },
  {
   "cell_type": "markdown",
   "id": "2ac4ce51-e1a0-4bda-bcd6-a3be7c0db9c6",
   "metadata": {},
   "source": [
    "Your answer here:"
   ]
  },
  {
   "cell_type": "markdown",
   "id": "c6e9bd31-5ea6-45f1-be66-ba8db4a8cde9",
   "metadata": {},
   "source": [
    "In the model, we don’t use the distributed information you just explored in the app, as it comes with large uncertainties (which are not shown in the app). Instead, we use a single, glacier-integrated value for the entire period from 2000 to 2020."
   ]
  },
  {
   "cell_type": "code",
   "execution_count": null,
   "id": "dfea927b-9093-4663-a99b-877e4800b7d3",
   "metadata": {},
   "outputs": [],
   "source": [
    "from oggm.utils import get_geodetic_mb_dataframe\n",
    "\n",
    "get_geodetic_mb_dataframe().loc[gdir.rgi_id]"
   ]
  },
  {
   "cell_type": "markdown",
   "id": "dd1fccb7-2ff5-49bf-a699-d869d3292e6e",
   "metadata": {},
   "source": [
    "In the data shown above, you can see that the error of the observation (`err_dmdtda`) is the smallest for the entire 20-year period compared to the two separate 10-year periods."
   ]
  },
  {
   "cell_type": "markdown",
   "id": "93da3856-9aa9-4ea4-b11a-eb81b34742f5",
   "metadata": {},
   "source": [
    "### Glaciological mass balance"
   ]
  },
  {
   "cell_type": "markdown",
   "id": "f9f30a9c-cd39-450e-9e68-a6b4ade22a3b",
   "metadata": {},
   "source": [
    "We also have direct observations for a few glaciers."
   ]
  },
  {
   "cell_type": "markdown",
   "id": "6b94c475-e707-4ba9-bf51-66aca79996bf",
   "metadata": {},
   "source": [
    "<div class=\"alert alert-warning\">\n",
    "    <b>Task</b>: What is the glaciological mass balance, and how is it measured? If you don't remember, take a look at the lecture slides!\n",
    "</div>"
   ]
  },
  {
   "cell_type": "markdown",
   "id": "1ac84297-dbf8-48c7-844b-c41a4571d998",
   "metadata": {},
   "source": [
    "We can look at this data for our glacier using a built-in OGGM function:"
   ]
  },
  {
   "cell_type": "code",
   "execution_count": null,
   "id": "715f1f8a-9f7f-48a0-8db7-8788daa0a30d",
   "metadata": {},
   "outputs": [],
   "source": [
    "mbdf_in_situ = gdir.get_ref_mb_data()\n",
    "mbdf_in_situ"
   ]
  },
  {
   "cell_type": "markdown",
   "id": "6a32ebd0-3239-4454-bad2-166baf489287",
   "metadata": {},
   "source": [
    "And plot the data:"
   ]
  },
  {
   "cell_type": "code",
   "execution_count": null,
   "id": "120e85a5-3ca2-4874-9ad3-b8c3cdcc02e8",
   "metadata": {},
   "outputs": [],
   "source": [
    "# plot the different components of the \n",
    "plt.plot(mbdf_in_situ['ANNUAL_BALANCE'], label='ANNUAL_BALANCE')\n",
    "plt.plot(mbdf_in_situ['WINTER_BALANCE'], label='WINTER_BALANCE')\n",
    "plt.plot(mbdf_in_situ['SUMMER_BALANCE'], label='SUMMER_BALANCE')\n",
    "\n",
    "# make the plot nice with grid, title, legend and labels\n",
    "plt.grid('on')\n",
    "plt.title(f'{gdir.name}, {gdir.rgi_id}')\n",
    "plt.legend()\n",
    "plt.ylabel(r'specific mass-balance (mm w.e. yr$^{-1}$)')\n",
    "plt.xlabel('Year');"
   ]
  },
  {
   "cell_type": "markdown",
   "id": "de63902f-f558-4f85-8ebd-7f6bc0a08b2d",
   "metadata": {},
   "source": [
    "<div class=\"alert alert-warning\">\n",
    "    <b>Task</b>: What is the difference between the individual terms? Can you see any trend? Also, compare it with the annual temperature shown above.\n",
    "</div>"
   ]
  },
  {
   "cell_type": "markdown",
   "id": "9ce380cb-c5d9-4c58-af4c-c66603dcb8cc",
   "metadata": {},
   "source": [
    "Your answer here:"
   ]
  },
  {
   "cell_type": "markdown",
   "id": "dfa05fca-e7ec-4263-9346-45e515f59946",
   "metadata": {},
   "source": [
    "## Monthly temperature index model"
   ]
  },
  {
   "cell_type": "markdown",
   "id": "76b25890-2313-472a-9232-db54da1ada63",
   "metadata": {},
   "source": [
    "Now that we have defined the forcing climate data and looked at the available observations, we can move on to the actual mass balance model. You can find the equation and its description in the [OGGM documentation](https://docs.oggm.org/en/latest/mass-balance-monthly.html#monthly-temperature-index-model-calibrated-on-geodetic-mb-data)."
   ]
  },
  {
   "cell_type": "markdown",
   "id": "de626a46-a598-4b33-b17c-03f08ca39bbd",
   "metadata": {},
   "source": [
    "<div class=\"alert alert-warning\">\n",
    "    <b>Task</b>: What do the different temperatures temp_melt, temp_all_solid, and temp_all_liq stand for?\n",
    "</div>"
   ]
  },
  {
   "cell_type": "markdown",
   "id": "ee6a39d0-b962-4316-8d2d-63b6ef243411",
   "metadata": {},
   "source": [
    "Your answer here:"
   ]
  },
  {
   "cell_type": "markdown",
   "id": "f51ba8ad-5e4d-4cae-939f-fde04937504f",
   "metadata": {},
   "source": [
    "For the model, we need to calibrate two parameters that deal with downscaling the climate forcing data to the glacier location: the **precipitation factor** and the **temperature bias**. We also need to define the **melt factor** ($d_f$ in the equation).\n",
    "\n",
    "This gives us three parameters, but we only have one observation, the **geodetic mass balance**, for each glacier. This is a problem, because it means the model is not well defined. There are infinitely many combinations of the three parameters that can match the single observation. If you're interested, you can find more details about this issue [this paragraph of the OGGM tutorials](https://tutorials.oggm.org/stable/notebooks/tutorials/massbalance_calibration.html#overparameteristion-or-the-magic-choice-of-the-best-calibration-option)).\n",
    "\n",
    "In the next chapter, we willll see how OGGM deals with this. Keep in mind that this is just one possible approach. It's not the only way, or necessarily the best way. For example, other approaches are explained in [Huss and Hock 2015](https://doi.org/10.3389/feart.2015.00054) or [Rounce et al. 2020](https://doi.org/10.1017/jog.2019.91)."
   ]
  },
  {
   "cell_type": "markdown",
   "id": "d236f4ef-6942-42e8-9796-c69d5c80d9fb",
   "metadata": {},
   "source": [
    "## Calibration of the mass balance model"
   ]
  },
  {
   "cell_type": "markdown",
   "id": "786fb772-42bb-4d1c-9993-e4af93a7db01",
   "metadata": {},
   "source": [
    "As discussed before, we have three parameters we want to tune, but only one observation per glacier at the global scale. To handle this, we use methods that provide an educated first guess for two of the parameters:"
   ]
  },
  {
   "cell_type": "markdown",
   "id": "dfce7da5-1f7d-4a65-93a8-38691d7dec62",
   "metadata": {},
   "source": [
    "### Method 1: Data informed precipitation factor"
   ]
  },
  {
   "cell_type": "markdown",
   "id": "41bdd585-47eb-417b-9772-7e492bd4171a",
   "metadata": {},
   "source": [
    "We developed a parameterisation for the precipitation factor, as described in [Schuster et al. 2023](https://doi.org/10.1017/aog.2023.57). You can read more about the method in [this paragarph of the OGGM tutorials](https://tutorials.oggm.org/stable/notebooks/tutorials/massbalance_calibration.html#first-step-data-informed-precipitation-factor).\n",
    "\n",
    "In essence, they used data from around 100 glaciers that have additional direct mass balance observations (like the ones we looked at earlier). Based on this data, they created a parameterisation. Below, you can see a plot showing the final relationship between winter daily mean precipitation and the precipitation factor (plot taken from the OGGM tutorials)."
   ]
  },
  {
   "cell_type": "code",
   "execution_count": null,
   "id": "215c2d62-0e6e-44af-8106-b23b7f9d5e86",
   "metadata": {},
   "outputs": [],
   "source": [
    "# define the range of winter precipitation to show in the plot\n",
    "w_prcp_array = np.linspace(0.5, 20, 51)\n",
    "\n",
    "# define the parametrisation and calculate the precipitation factor\n",
    "a, b = cfg.PARAMS['winter_prcp_fac_ab']\n",
    "r0, r1 = cfg.PARAMS['prcp_fac_min'], cfg.PARAMS['prcp_fac_max']\n",
    "prcp_fac = a * np.log(w_prcp_array) + b\n",
    "prcp_fac_array = utils.clip_array(prcp_fac, r0, r1)\n",
    "\n",
    "# plot it\n",
    "plt.plot(w_prcp_array, prcp_fac_array)\n",
    "plt.xlabel(r'winter daily mean precipitation' +'\\n'+r'(kg m$^{-2}$ day$^{-1}$)')\n",
    "plt.ylabel('precipitation factor (prcp_fac)');"
   ]
  },
  {
   "cell_type": "markdown",
   "id": "13960d06-5ed8-4d15-a0d9-e8b773eb066a",
   "metadata": {},
   "source": [
    "<div class=\"alert alert-warning\">\n",
    "    <b>Task</b>: Take a look at the plot: what does the relationship tell us? Why do you think winter precipitation is used instead of annual precipitation?\n",
    "</div>"
   ]
  },
  {
   "cell_type": "markdown",
   "id": "ddb30124-e054-4d99-a55d-28e9179aa12d",
   "metadata": {},
   "source": [
    "Your answer here:"
   ]
  },
  {
   "cell_type": "markdown",
   "id": "774670f1-c022-47c5-81c8-e5b93aeb4d61",
   "metadata": {},
   "source": [
    "### Method 2: Data informed temperature bias"
   ]
  },
  {
   "cell_type": "markdown",
   "id": "59dab4e6-3c1a-4f06-9571-d7a87077162c",
   "metadata": {},
   "source": [
    "We tried to identify general patterns in the temperature bias of the climate forcing data. You can read more about the methodology in [this paragarph of the OGGM tutorials](https://tutorials.oggm.org/stable/notebooks/tutorials/massbalance_calibration.html#second-step-data-informed-temperature-bias).\n",
    "\n",
    "For this, we used the previously defined precipitation factor and a fixed melt factor value. Then, we calibrated the model by adjusting only the temperature bias to match the geodetic mass balance observation.\n",
    "\n",
    "The plot below shows the resulting temperature bias globally, for each grid point of the climate data (plot and sentence below the plot are taken from the OGGM tutorials).\n",
    "\n",
    "![err](https://user-images.githubusercontent.com/10050469/224318400-ec1d8825-d7e7-4cdb-94f3-ebb95b8f7120.jpg)\n",
    "\n",
    "The fact that the `temp_bias` parameter is spatially correlated (many regions are all blue or red) indicate that something in the data needs to be corrected for our model."
   ]
  },
  {
   "cell_type": "markdown",
   "id": "f124e13e-1616-4032-bbd4-5b2a228ad7f9",
   "metadata": {},
   "source": [
    "<div class=\"alert alert-warning\">\n",
    "    <b>Task</b>: Take a look at the plot: can you identify which regions have a positive temperature bias and which have a negative one?\n",
    "</div>"
   ]
  },
  {
   "cell_type": "markdown",
   "id": "20cd8c1d-2f2e-449d-97ca-14d4a7ca51c4",
   "metadata": {},
   "source": [
    "Your answere here:"
   ]
  },
  {
   "cell_type": "markdown",
   "id": "f26e714b-6717-4bc3-8b58-772ba53b52c9",
   "metadata": {},
   "source": [
    "### Final calibration of the mass balance model"
   ]
  },
  {
   "cell_type": "markdown",
   "id": "18229acd-58ea-4e80-8277-0fb47dc04fa2",
   "metadata": {},
   "source": [
    "With the two methods above, we now have a first guess for both the **precipitation factor** and the **temperature bias**. We can use these values to calibrate the **melt factor** using the **geodetic mass balance**. The exact calibration method is described in [this paragraph of the OGGM tutorials](https://tutorials.oggm.org/stable/notebooks/tutorials/massbalance_calibration.html#third-step-local-calibration-using-the-data-informed-precipitation-factor-and-temperature-bias-as-first-guesses).\n",
    "\n",
    "Let’s calibrate it:"
   ]
  },
  {
   "cell_type": "code",
   "execution_count": null,
   "id": "745254dd-e9fe-4305-9f21-ce4a3b7c2aaf",
   "metadata": {},
   "outputs": [],
   "source": [
    "# the default mb calibration\n",
    "workflow.execute_entity_task(tasks.mb_calibration_from_geodetic_mb,\n",
    "                             gdirs,\n",
    "                             # informed_threestep means to use the two tricks described above, only avaiable for 'GSWP3_W5E5'\n",
    "                             informed_threestep=True,\n",
    "                            );"
   ]
  },
  {
   "cell_type": "markdown",
   "id": "fc036e67-9bb5-41bd-89c9-67de7fed9859",
   "metadata": {},
   "source": [
    "<div class=\"alert alert-warning\">\n",
    "    <b>Task</b>: Have a look in your glacier's working directory. Is there a new file?\n",
    "</div>"
   ]
  },
  {
   "cell_type": "markdown",
   "id": "0bf88326-bc3b-40e4-8cae-be26aed5b597",
   "metadata": {},
   "source": [
    "You should now see a new file called `mb_calib.json`.\n",
    "\n",
    "Let’s take a look at it:"
   ]
  },
  {
   "cell_type": "code",
   "execution_count": null,
   "id": "3a19413e-afd7-41fa-8a76-176ff0894dbc",
   "metadata": {},
   "outputs": [],
   "source": [
    "mb_calib = gdir.read_json('mb_calib')\n",
    "mb_calib"
   ]
  },
  {
   "cell_type": "markdown",
   "id": "9597132c-7c20-4f86-aecf-658407ce1689",
   "metadata": {},
   "source": [
    "<div class=\"alert alert-warning\">\n",
    "    <b>Task</b>: Do you understand what all the variables in this file mean?\n",
    "</div>"
   ]
  },
  {
   "cell_type": "markdown",
   "id": "977862f9-edfe-40a9-aa6d-1328a97cd003",
   "metadata": {},
   "source": [
    "Your answer here:"
   ]
  },
  {
   "cell_type": "markdown",
   "id": "7a5e457d-3dab-4f31-8049-68330997950c",
   "metadata": {},
   "source": [
    "## Have a closer look at the resulting mass balance"
   ]
  },
  {
   "cell_type": "markdown",
   "id": "df458316-5680-4832-955d-732e1857dcbe",
   "metadata": {},
   "source": [
    "Now that we have calibrated our mass balance model, we can look at the results and interact with it. You can access the model simply by using:"
   ]
  },
  {
   "cell_type": "code",
   "execution_count": null,
   "id": "4dc3360e-b38d-4ba1-847c-63ce3c3313ac",
   "metadata": {},
   "outputs": [],
   "source": [
    "from oggm.core import massbalance\n",
    "\n",
    "mbmod = massbalance.MonthlyTIModel(gdir)"
   ]
  },
  {
   "cell_type": "markdown",
   "id": "29895fc3-72cc-40f5-96f0-32b44a538ba2",
   "metadata": {},
   "source": [
    "Internally, the mass balance model reads the `mb_calib.json` file and loads all the necessary parameters:"
   ]
  },
  {
   "cell_type": "code",
   "execution_count": null,
   "id": "a926161a-5efa-4d2e-ac17-1695091d62ac",
   "metadata": {},
   "outputs": [],
   "source": [
    "mbmod.calib_params"
   ]
  },
  {
   "cell_type": "markdown",
   "id": "cf951a91-e696-4471-add5-1886d6f93b39",
   "metadata": {},
   "source": [
    "### Mass balance profile"
   ]
  },
  {
   "cell_type": "markdown",
   "id": "8ca5813b-bcda-4a14-87b0-7487382d5498",
   "metadata": {},
   "source": [
    "As a first step, we can look at the mass balance profile for two different years. To do this, we first extract the height and width values from the elevation band flowline we created in the last session:"
   ]
  },
  {
   "cell_type": "code",
   "execution_count": null,
   "id": "bb4bf0fa-cae4-43b3-8c04-af858764bd09",
   "metadata": {},
   "outputs": [],
   "source": [
    "# extracting the heights and the widths of the inversion flowline\n",
    "heights, widths = gdir.get_inversion_flowline_hw()"
   ]
  },
  {
   "cell_type": "markdown",
   "id": "8e0dfca9-df95-4e45-8e61-50e5bd3b2ea9",
   "metadata": {},
   "source": [
    "Now, let’s plot the annual mass balance profile along our elevation band flowline for two different years:"
   ]
  },
  {
   "cell_type": "code",
   "execution_count": null,
   "id": "fe44c0ae-748d-486d-aa10-d5a2e253a555",
   "metadata": {},
   "outputs": [],
   "source": [
    "# defining the years we want to plot, you also could try out different years\n",
    "year_1 = 2000\n",
    "year_2 = 2001\n",
    "\n",
    "# plot the mass balance profiles of the two years\n",
    "plt.plot(mbmod.get_annual_mb(heights, year=year_1), heights, label=year_1)\n",
    "plt.plot(mbmod.get_annual_mb(heights, year=year_2), heights, label=year_2)\n",
    "\n",
    "# add some labels, a legend and a grid\n",
    "plt.ylabel('Elevation (m a.s.l.)'); plt.xlabel('MB (mm w.e. yr$^{-1}$)');\n",
    "plt.legend(); plt.grid('on');"
   ]
  },
  {
   "cell_type": "markdown",
   "id": "2ccba871-bdfe-4afa-8f30-2c19a1fa1f25",
   "metadata": {},
   "source": [
    "<div class=\"alert alert-warning\">\n",
    "    <b>Task</b>: Which year was more favorable for the glacier, and why?\n",
    "</div>"
   ]
  },
  {
   "cell_type": "markdown",
   "id": "695787ea-1362-468f-9c3f-6febeb387a03",
   "metadata": {},
   "source": [
    "Your answere here:"
   ]
  },
  {
   "cell_type": "markdown",
   "id": "6c244bc5-a4c9-42cb-b492-93c5add9bd50",
   "metadata": {},
   "source": [
    "You can also get the equilibrium line altitude (ELA), for example, using the following command:"
   ]
  },
  {
   "cell_type": "code",
   "execution_count": null,
   "id": "cb9dbcde-8c11-4027-8713-f1e5e6743b23",
   "metadata": {},
   "outputs": [],
   "source": [
    "mbmod.get_ela(year=2000)"
   ]
  },
  {
   "cell_type": "markdown",
   "id": "f870daf2-071f-4f38-92a7-6de8b327a02b",
   "metadata": {},
   "source": [
    "<div class=\"alert alert-warning\">\n",
    "    <b>Task</b>: Do you remember from the lecture what the ELA represents?\n",
    "</div>"
   ]
  },
  {
   "cell_type": "markdown",
   "id": "861baa52-8e9d-4873-b7b3-44b1f075c33d",
   "metadata": {},
   "source": [
    "Your answere here:"
   ]
  },
  {
   "cell_type": "markdown",
   "id": "e1c8404f-8267-4bd0-85d5-2d5a21d9fc5d",
   "metadata": {},
   "source": [
    "### Sensitivity of mass balance parameters"
   ]
  },
  {
   "cell_type": "markdown",
   "id": "e0ae4342-2c37-43e7-aac2-a7625f0a5ccc",
   "metadata": {},
   "source": [
    "Let’s now explore how the mass balance model profiles respond to changes in its parameters. To do this, we will create a new file called `mb_calib_pertubed_melt_f.json`, where we change the melt factor to 7:"
   ]
  },
  {
   "cell_type": "code",
   "execution_count": null,
   "id": "473aad9d-906f-4c89-900c-4f9293fe7397",
   "metadata": {},
   "outputs": [],
   "source": [
    "# read the original paramters file\n",
    "params = gdir.read_json('mb_calib')\n",
    "\n",
    "# change the melt factor\n",
    "params['melt_f'] = 7\n",
    "\n",
    "# save the perturbed parameters as a new file with a filesuffix\n",
    "gdir.write_json(params, 'mb_calib', filesuffix='_perturbed_melt_f')"
   ]
  },
  {
   "cell_type": "markdown",
   "id": "b774635f-1a74-4f65-8165-f7732c496de0",
   "metadata": {},
   "source": [
    "And we can simply specify a filesuffix for the `mb_calib` file when defining the mass balance model:"
   ]
  },
  {
   "cell_type": "code",
   "execution_count": null,
   "id": "0f324eca-adc5-469d-8b6d-a9078d67f524",
   "metadata": {},
   "outputs": [],
   "source": [
    "mbmod_perturbed_melt_f = massbalance.MonthlyTIModel(gdir, mb_params_filesuffix='_perturbed_melt_f')\n",
    "mbmod_perturbed_melt_f.calib_params"
   ]
  },
  {
   "cell_type": "markdown",
   "id": "ad151d72-711b-432f-be20-53c958d09016",
   "metadata": {},
   "source": [
    "Now we can take a look at how this change influenced our mass balance profile:"
   ]
  },
  {
   "cell_type": "code",
   "execution_count": null,
   "id": "6d6710d8-bd59-41a5-ab5f-9aef85c9c8b1",
   "metadata": {},
   "outputs": [],
   "source": [
    "year = 2000  # we want both mass balance models to use the same year\n",
    "\n",
    "# the actual plotting\n",
    "plt.plot(mbmod.get_annual_mb(heights, year=year), heights, label=f'{year} original')\n",
    "plt.plot(mbmod_perturbed_melt_f.get_annual_mb(heights, year=year), heights, label=f'{year} perturbed melt_f')\n",
    "\n",
    "# adding labels, a legend and a grid\n",
    "plt.ylabel('Elevation (m a.s.l.)'); plt.xlabel('MB (mm w.e. yr$^{-1}$)');\n",
    "plt.legend(); plt.grid('on');"
   ]
  },
  {
   "cell_type": "markdown",
   "id": "7310a7d0-2916-4576-8e3d-a707b5e1a213",
   "metadata": {},
   "source": [
    "<div class=\"alert alert-warning\">\n",
    "    <b>Task</b>: What could you observe? Where is the influence the strongest? Conduct the same sensitivity experiment for the precipitation factor and the temperature bias.\n",
    "</div>"
   ]
  },
  {
   "cell_type": "markdown",
   "id": "fc5b668f-0f5a-45de-ad03-ae7544df8922",
   "metadata": {},
   "source": [
    "Your answer here:"
   ]
  },
  {
   "cell_type": "markdown",
   "id": "7ed73c13-c620-4bd0-afc4-9b80dcd8e56f",
   "metadata": {},
   "source": [
    "### Compare to direct glaciological in-situ mass balance observations"
   ]
  },
  {
   "cell_type": "markdown",
   "id": "d518c2ca-9ffe-4dc2-bc2d-7eabe4897415",
   "metadata": {},
   "source": [
    "The glaciological observations are provided as a single value per glacier and represent the specific mass balance. We can also easily obtain this from our mass balance model:"
   ]
  },
  {
   "cell_type": "code",
   "execution_count": null,
   "id": "a3b1eafb-2dbf-41c2-aa1f-90f7390e1f38",
   "metadata": {},
   "outputs": [],
   "source": [
    "mbmod.get_specific_mb(heights=heights, widths=widths, year=2000)"
   ]
  },
  {
   "cell_type": "markdown",
   "id": "95cd8419-bb97-42da-acc1-95a1f87e0d27",
   "metadata": {},
   "source": [
    "<div class=\"alert alert-warning\">\n",
    "    <b>Task</b>: How is the specific mass balance calculated and why do we need to provide heights AND widhts?\n",
    "</div>"
   ]
  },
  {
   "cell_type": "markdown",
   "id": "5a116638-3b0d-4ab0-8506-c977e8b01afd",
   "metadata": {},
   "source": [
    "Your answer here:"
   ]
  },
  {
   "cell_type": "markdown",
   "id": "424e0533-0f6a-456c-ba41-7c0203bb9ffe",
   "metadata": {},
   "source": [
    "With this, we can now plot the observation and the model output for comparison:"
   ]
  },
  {
   "cell_type": "code",
   "execution_count": null,
   "id": "82c85075-01c9-465f-8735-ded87e5321c1",
   "metadata": {},
   "outputs": [],
   "source": [
    "# load the in-situ observations\n",
    "mbdf_in_situ = gdir.get_ref_mb_data()\n",
    "\n",
    "# for easier plotting we add a new column with our model data\n",
    "mbdf_in_situ['modeled_mb'] = mbmod.get_specific_mb(heights=heights,\n",
    "                                                   widths=widths,\n",
    "                                                   # here we provide multiple years at once\n",
    "                                                   year=mbdf_in_situ.index,  \n",
    "                                                  )\n",
    "\n",
    "# plot it\n",
    "plt.plot(mbdf_in_situ['modeled_mb'], label='model output')\n",
    "plt.plot(mbdf_in_situ['ANNUAL_BALANCE'], label='in-situ observations')\n",
    "\n",
    "# add labels, legend and grid\n",
    "plt.ylabel(r'specific mass-balance (mm w.e. yr$^{-1}$)'); plt.xlabel('Year');\n",
    "plt.legend(); plt.grid('on');"
   ]
  },
  {
   "cell_type": "markdown",
   "id": "6ce65a4f-e103-4257-9cad-7f5c5db7c733",
   "metadata": {},
   "source": [
    "Doesn't look too bad, but remember, the in-situ observations were used during the development of the precipitation factor parameterisation. Therefore, this is not an independent comparison."
   ]
  },
  {
   "cell_type": "markdown",
   "id": "c8de46df-9420-4684-b89f-e91ec9447cc9",
   "metadata": {},
   "source": [
    "<div class=\"alert alert-warning\">\n",
    "    <b>Bonus Task</b>: Add the perturbed mass balance results from the previous section to the plot, and interpret the differences. What effect does changing the mass balance parameters have on the model output compared to the original calibration and the observations?\n",
    "</div>"
   ]
  },
  {
   "cell_type": "markdown",
   "id": "0e087b27-e0c9-47b8-975b-5557a429f0e3",
   "metadata": {},
   "source": [
    "Your answer here:"
   ]
  },
  {
   "cell_type": "markdown",
   "id": "8470b365-1c4f-44d4-9dfa-013e6586fd87",
   "metadata": {},
   "source": [
    "## Recap"
   ]
  },
  {
   "cell_type": "markdown",
   "id": "d3c8fbdc-566c-43b9-84bd-45fba3a46ccf",
   "metadata": {},
   "source": [
    "- To force the OGGM mass balance model, we need temperature and precipitation data.\n",
    "- There is only one geodetic mass balance observation available for calibration per glacier, globally.\n",
    "- Some glaciers have additional in-situ observations, which can be used to develop parameterisations.\n",
    "- The mass balance model is overparameterised: we have three parameters, but only one observation.\n",
    "- We can apply some strategies to estimate two of the parameters, leaving one to calibrate directly.\n",
    "- The three model parameters each have a different effect on the shape and values of the mass balance profile."
   ]
  }
 ],
 "metadata": {
  "kernelspec": {
   "display_name": "Python 3 (ipykernel)",
   "language": "python",
   "name": "python3"
  },
  "language_info": {
   "codemirror_mode": {
    "name": "ipython",
    "version": 3
   },
   "file_extension": ".py",
   "mimetype": "text/x-python",
   "name": "python",
   "nbconvert_exporter": "python",
   "pygments_lexer": "ipython3",
   "version": "3.11.11"
  }
 },
 "nbformat": 4,
 "nbformat_minor": 5
}
