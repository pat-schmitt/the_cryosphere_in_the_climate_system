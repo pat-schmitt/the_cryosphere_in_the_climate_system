{
 "cells": [
  {
   "cell_type": "markdown",
   "id": "94071747-8546-481b-b6f6-a36d98c56b98",
   "metadata": {},
   "source": [
    "# Introduction to OGGM"
   ]
  },
  {
   "cell_type": "markdown",
   "id": "f744d7e4-4e0e-4c9b-ae14-153b5ce43bc8",
   "metadata": {},
   "source": [
    "This tutorial is a first introduction into running the Open Global Glacier Model OGGM and is based on [this notebook](https://tutorials.oggm.org/stable/notebooks/10minutes/preprocessed_directories.html) from the OGGM tutorials. The OGGM workflow is best explained with an example. In the following, we will show you the OGGM fundamentals ([Doc page: model structure and fundamentals](https://docs.oggm.org/en/stable/structure.html)). This example is also meant to guide you through a first-time setup if you are using OGGM on your own computer."
   ]
  },
  {
   "cell_type": "markdown",
   "id": "9d30adaa-dbb9-4f83-b08a-cb9eedd5ddbc",
   "metadata": {},
   "source": [
    "## First time set-up "
   ]
  },
  {
   "cell_type": "markdown",
   "id": "390cad04-2687-4b1a-bde3-5b3414b780d2",
   "metadata": {},
   "source": [
    "### Input data folders"
   ]
  },
  {
   "cell_type": "markdown",
   "id": "bf06aa3f-1f70-48c5-8c5c-8f0aedcfaa3e",
   "metadata": {},
   "source": [
    "**If you are using your own computer**: before you start, make sure that you have set-up the [input data configuration file](https://docs.oggm.org/en/stable/getting-started.html#system-settings) at your wish.\n",
    "\n",
    "In the course of this tutorial, we will need to download data needed for each glacier (a few 100s of mb at max, depending on the chosen glaciers), so make sure you have an internet connection."
   ]
  },
  {
   "cell_type": "markdown",
   "id": "f6d95f00-a231-4109-acb4-cb9bbef2e14d",
   "metadata": {},
   "source": [
    "### cfg.initialize() and cfg.PARAMS "
   ]
  },
  {
   "cell_type": "markdown",
   "id": "08b539b8-5fe7-42d3-beb5-0f088c2273fb",
   "metadata": {},
   "source": [
    "An OGGM simulation script will always start with the following commands:"
   ]
  },
  {
   "cell_type": "code",
   "execution_count": null,
   "id": "4b7ad721-cdbd-43a0-893d-d99f97e3d57a",
   "metadata": {
    "tags": []
   },
   "outputs": [],
   "source": [
    "from oggm import cfg, utils\n",
    "cfg.initialize()"
   ]
  },
  {
   "cell_type": "markdown",
   "id": "360e0520-2780-4230-94c4-ce0b24eed7c9",
   "metadata": {},
   "source": [
    "A call to [cfg.initialize()](https://docs.oggm.org/en/stable/generated/oggm.cfg.initialize.html) will read the default parameter file (or any user-provided file) and make them available to all other OGGM tools via the `cfg.PARAMS` dictionary. Here are some examples of these parameters:"
   ]
  },
  {
   "cell_type": "code",
   "execution_count": null,
   "id": "714cb022-669c-4828-bb61-62122478eca6",
   "metadata": {
    "tags": []
   },
   "outputs": [],
   "source": [
    "cfg.PARAMS['melt_f'], cfg.PARAMS['ice_density'], cfg.PARAMS['continue_on_error']"
   ]
  },
  {
   "cell_type": "markdown",
   "id": "5ba649e4-590a-4edb-919c-f7ccc411de7a",
   "metadata": {},
   "source": [
    "See [here](https://github.com/OGGM/oggm/blob/stable/oggm/params.cfg) for the default parameter file and a description of their role and default value."
   ]
  },
  {
   "cell_type": "code",
   "execution_count": null,
   "id": "470c74d5-8590-4057-a438-5fb3f89aecb2",
   "metadata": {
    "tags": []
   },
   "outputs": [],
   "source": [
    "# You can try with or without multiprocessing: with two glaciers, OGGM could run on two processors\n",
    "cfg.PARAMS['use_multiprocessing'] = True"
   ]
  },
  {
   "cell_type": "markdown",
   "id": "e768475f-5467-4c19-91fd-8b2f29c6b03f",
   "metadata": {},
   "source": [
    "## Workflow"
   ]
  },
  {
   "cell_type": "markdown",
   "id": "7ecf251b-6515-4c5c-b5f6-34428ff8da39",
   "metadata": {},
   "source": [
    "In this section, we will explain the fundamental concepts of the OGGM workflow:\n",
    "- Working directories\n",
    "- Glacier directories\n",
    "- Tasks"
   ]
  },
  {
   "cell_type": "markdown",
   "id": "962f7adf-b105-4ca4-beb5-89af85d5cf09",
   "metadata": {},
   "source": [
    "### Working directory "
   ]
  },
  {
   "cell_type": "markdown",
   "id": "4af24f27-04f3-42c7-97fd-945e45913a4d",
   "metadata": {},
   "source": [
    "Each OGGM run needs a **single folder** where to store the results of the computations for all glaciers. This is called a \"working directory\" and needs to be specified before each run. Here we create a persistent OGGM working directory, to have a look at the individual files later."
   ]
  },
  {
   "cell_type": "code",
   "execution_count": null,
   "id": "e82d2f43-8452-4c83-82b8-49a7202d97fc",
   "metadata": {},
   "outputs": [],
   "source": [
    "# define the path\n",
    "path = 'intro_working_dir'\n",
    "\n",
    "# create the directory, if reset=True ALL EXISTING DATA will be deleted\n",
    "utils.mkdir(path, reset=False)\n",
    "\n",
    "# tell OGGM where to work\n",
    "cfg.PATHS['working_dir'] = path\n",
    "cfg.PATHS['working_dir']"
   ]
  },
  {
   "cell_type": "markdown",
   "id": "013315c8-8855-485c-b843-94da3c25ffb3",
   "metadata": {},
   "source": [
    "If you just want to play around with the model without saving any data for later, you can create a [temporary directory](https://en.wikipedia.org/wiki/Temporary_folder), using `utils.gettempdir(dirname='OGGM-GettingStarted', reset=True)`. However, in practice for a real simulation, you should set the working directory yourself, just like in the cell above. Note: The size of this directory will depend on how many glaciers you'll simulate!\n",
    "\n",
    "<div class=\"alert alert-info\">\n",
    "    <b>\n",
    "        In the OGGM design, this working directory is meant to be persistent, at least as long as you need the data. For example, you can stop your processing workflow after any task, and restart from an existing working directory at a later stage, simply by using the same working directory.\n",
    "    </b>\n",
    "</div>"
   ]
  },
  {
   "cell_type": "markdown",
   "id": "0960ca84-fe55-4961-b9b7-5387aecbe0cf",
   "metadata": {},
   "source": [
    "### Define the glaciers for the run "
   ]
  },
  {
   "cell_type": "code",
   "execution_count": null,
   "id": "11dc5b1c-3aa8-4b91-a151-32eb376fed2b",
   "metadata": {
    "tags": []
   },
   "outputs": [],
   "source": [
    "rgi_ids = ['RGI60-11.01328', 'RGI60-11.01450'] "
   ]
  },
  {
   "cell_type": "markdown",
   "id": "ad7510be-2858-4fdf-92a9-e6d8f20158de",
   "metadata": {},
   "source": [
    "You can provide any number of glacier identifiers to OGGM. In this case, we chose: \n",
    "- `RGI60-11.01328`: [Unteraar Glacier](https://en.wikipedia.org/wiki/Unteraargletscher) in the Swiss Alps\n",
    "- `RGI60-11.01450`: [Aletsch Glacier](https://en.wikipedia.org/wiki/Aletsch_Glacier) in the Swiss Alps\n",
    "\n",
    "Here is a list of other glaciers you might want to try out:\n",
    "- `RGI60-11.00897`: [Hintereisferner](http://acinn.uibk.ac.at/research/ice-and-climate/projects/hintereisferner) in the Austrian Alps.\n",
    "- `RGI60-18.02342`: [Tasman Glacier](https://en.wikipedia.org/wiki/Tasman_Glacier) in New Zealand\n",
    "- `RGI60-11.00787`: [Kesselwandferner](https://de.wikipedia.org/wiki/Kesselwandferner) in the Austrian Alps\n",
    "- ... or any other glacier identifier! You can find other glacier identifiers by exploring the [GLIMS viewer](https://www.glims.org/maps/glims). See the [working with the RGI](https://tutorials.oggm.org/stable/notebooks/tutorials/working_with_rgi.html) OGGM tutorial for an introduction on RGI IDs and the GLIMS browser.\n"
   ]
  },
  {
   "cell_type": "markdown",
   "id": "4e525243-5aa3-4eff-8a54-3a9bff056622",
   "metadata": {},
   "source": [
    "<div class=\"alert alert-warning\">\n",
    "    <b>Questions</b>: Use your favourite search engine to try and answer the following questions:\n",
    "        <ul>\n",
    "            <li>What is the Randolph Glacier Inventory RGI?</li>\n",
    "            <li>OGGM uses RGI6 and not RGI7. Could you guess why?</li>\n",
    "            <li>Use the <a href='https://www.glims.org/maps/glims'>GLIMS viewer</a> to find one RGI7 ID that corresponds to one RGI6 ID for one of the glaciers listed above.</li>\n",
    "        </ul>\n",
    "</div>"
   ]
  },
  {
   "cell_type": "markdown",
   "id": "562d3c4c-e54a-49c6-9f0c-30ba412bf9a0",
   "metadata": {},
   "source": [
    "### Glacier directories "
   ]
  },
  {
   "cell_type": "markdown",
   "id": "f43a5c8a-4d02-4b90-8430-8e4f11946f90",
   "metadata": {},
   "source": [
    "The OGGM workflow is organized as a list of **tasks** that have to be applied to a list of glaciers. The vast majority of tasks are called **entity tasks**: they are standalone operations to be realized on one single glacier entity. These tasks are executed sequentially (one after another): they often need input generated by the previous task(s): for example, the climate calibration needs the glacier flowlines, which can be only computed after the topography data has been processed, and so on.\n",
    "\n",
    "To handle this situation, OGGM uses a workflow based on data persistence on disk: instead of passing data as python variables from one task to another, each task will read the data from disk and then write the computation results back to the disk, making these new data available for the next task in the queue. These glacier specific data are located in [glacier directories](https://docs.oggm.org/en/stable/generated/oggm.GlacierDirectory.html#oggm.GlacierDirectory). \n",
    "\n",
    "One main advantage of this workflow is that OGGM can prepare data and make it available to everyone! Here is an example of an url where such data can be found:"
   ]
  },
  {
   "cell_type": "code",
   "execution_count": null,
   "id": "f59ddd7b-8a74-4d1d-9fc2-6c876c72913f",
   "metadata": {
    "tags": []
   },
   "outputs": [],
   "source": [
    "from oggm import workflow\n",
    "from oggm import DEFAULT_BASE_URL\n",
    "DEFAULT_BASE_URL"
   ]
  },
  {
   "cell_type": "markdown",
   "id": "c8b5f3d8-505d-492c-a848-c420417b064d",
   "metadata": {},
   "source": [
    "Let's use OGGM to download the glacier directories for our selected glaciers:"
   ]
  },
  {
   "cell_type": "code",
   "execution_count": null,
   "id": "3cca7353-68c6-44a4-ad1f-9c909b16fb50",
   "metadata": {
    "tags": []
   },
   "outputs": [],
   "source": [
    "gdirs = workflow.init_glacier_directories(\n",
    "    rgi_ids,  # which glaciers?\n",
    "    prepro_base_url=DEFAULT_BASE_URL,  # where to fetch the data?\n",
    "    from_prepro_level=4,  # what kind of data? \n",
    "    prepro_border=80  # how big of a map?\n",
    ")"
   ]
  },
  {
   "cell_type": "markdown",
   "id": "c9789065-0b6c-4055-b623-7b74207822a9",
   "metadata": {},
   "source": [
    "- the keyword `from_prepro_level` indicates that we will start from [pre-processed directories](https://docs.oggm.org/en/stable/shop.html#pre-processed-directories), i.e. data that are already prepared by the OGGM team. In many cases you will want to start from pre-processed directories, in most cases from level 3 or 5. For level 3 and above the model has already been calibrated, so you no longer need to do that yourself and can start rigth away with your simulation. Here we start from level 4 and add some data to the processing in order to demonstrate the OGGM workflow.\n",
    "- the `prepro_border` keyword indicates the number of grid points which we'd like to add to each side of the glacier for the local map: the larger the glacier will grow, the larger the border parameter should be. The available pre-processed border values are: **10, 80, 160, 240** (depending on the model set-ups there might be more or less options). These are the fixed map sizes we prepared for you - any other map size will require a full processing (see the [further DEM sources example](https://tutorials.oggm.org/stable/notebooks/tutorials/dem_sources.html) for a tutorial)."
   ]
  },
  {
   "cell_type": "markdown",
   "id": "6ef66027-d7cc-4fc7-970c-ac053fade3f0",
   "metadata": {},
   "source": [
    "The [init_glacier_directories](https://docs.oggm.org/en/stable/generated/oggm.workflow.init_glacier_directories.html#oggm.workflow.init_glacier_directories) task will allways be the very first task to call for all your OGGM experiments. Let's see what it gives us back:"
   ]
  },
  {
   "cell_type": "code",
   "execution_count": null,
   "id": "4d159255-9d91-4642-afce-73050bac96a4",
   "metadata": {
    "tags": []
   },
   "outputs": [],
   "source": [
    "type(gdirs), type(gdirs[0])"
   ]
  },
  {
   "cell_type": "markdown",
   "id": "e426e321-4d66-4f43-a651-004404a8b5d5",
   "metadata": {},
   "source": [
    "`gdirs` is a list of [GlacierDirectory](https://docs.oggm.org/en/stable/generated/oggm.GlacierDirectory.html#oggm.GlacierDirectory) objects (one for each glacier). **Glacier directories are used by OGGM as \"file and attribute manager\"** for single glaciers. For example, the model now knows where to find the topography data file for this glacier:"
   ]
  },
  {
   "cell_type": "code",
   "execution_count": null,
   "id": "d4893b5f-dae2-4d88-b43f-28273d4dbd30",
   "metadata": {
    "tags": []
   },
   "outputs": [],
   "source": [
    "gdir = gdirs[0]  # take the first glacier\n",
    "print('Path to the DEM:', gdir.get_filepath('dem'))"
   ]
  },
  {
   "cell_type": "markdown",
   "id": "eaa29ced-9d02-4e9a-8be8-6ea20ecb3fe6",
   "metadata": {},
   "source": [
    "And we can also access some attributes of this glacier:"
   ]
  },
  {
   "cell_type": "code",
   "execution_count": null,
   "id": "237e3597-62af-463f-920d-c0d3d25b48ad",
   "metadata": {
    "tags": []
   },
   "outputs": [],
   "source": [
    "gdir"
   ]
  },
  {
   "cell_type": "code",
   "execution_count": null,
   "id": "05b49a76-6686-473b-b3e5-b89d7703bbc5",
   "metadata": {
    "tags": []
   },
   "outputs": [],
   "source": [
    "gdir.rgi_date  # date at which the outlines are valid"
   ]
  },
  {
   "cell_type": "markdown",
   "id": "154e0ece-0136-4bb7-b4e8-50ba4b438432",
   "metadata": {},
   "source": [
    "The advantage of this Glacier Directory data model is that it simplifies greatly the data transfer between tasks. **The single mandatory argument of most OGGM commands will allways be a glacier directory**. With the glacier directory, each OGGM task will find the input it needs: for example, both the glacier's topography and outlines are needed for the next plotting function, and both are available via the `gdir` argument:"
   ]
  },
  {
   "cell_type": "code",
   "execution_count": null,
   "id": "6c509550-3e16-4c7f-b5c4-d9114acb0511",
   "metadata": {
    "tags": []
   },
   "outputs": [],
   "source": [
    "from oggm import graphics\n",
    "graphics.plot_domain(gdir, figsize=(6, 5))"
   ]
  },
  {
   "cell_type": "markdown",
   "id": "e0660718-0e4f-47d1-a1b8-e3b8abcd68df",
   "metadata": {},
   "source": [
    "Another advantage of glacier directories is their persistence on disk: once created, **they can be recovered from the same location** by using `init_glacier_directories` again, but without keyword arguments:"
   ]
  },
  {
   "cell_type": "code",
   "execution_count": null,
   "id": "017f2467-2f76-4a9d-a727-a548acc58eb7",
   "metadata": {
    "tags": []
   },
   "outputs": [],
   "source": [
    "# Fetch the LOCAL pre-processed directories - note that no arguments are used!\n",
    "gdirs = workflow.init_glacier_directories(rgi_ids)"
   ]
  },
  {
   "cell_type": "markdown",
   "id": "761f2726-8f0b-47b7-900c-509f2fb841f8",
   "metadata": {},
   "source": [
    "See the [store_and_compress_glacierdirs](https://tutorials.oggm.org/stable/notebooks/tutorials/store_and_compress_glacierdirs.html) tutorial for more information on glacier directories and how to use them for operational workflows."
   ]
  },
  {
   "cell_type": "markdown",
   "id": "6961871d-1034-4166-a962-b3681150211a",
   "metadata": {},
   "source": [
    "### Accessing data in the preprocessed directories"
   ]
  },
  {
   "cell_type": "markdown",
   "id": "10583a88-143d-4ead-b7dc-e5a3a87e1970",
   "metadata": {},
   "source": [
    "Glacier directories are the central object for model users and developpers to access data for this glacier. Let's say for example that you would like to retrieve the climate data that we have prepared for you. You can ask the glacier directory to tell you where this data is:"
   ]
  },
  {
   "cell_type": "code",
   "execution_count": null,
   "id": "ebb3a416-6996-442e-adaf-82daa2dee298",
   "metadata": {
    "tags": []
   },
   "outputs": [],
   "source": [
    "gdir.get_filepath('climate_historical')"
   ]
  },
  {
   "cell_type": "markdown",
   "id": "4b7968f1-cac3-4727-9e55-f724f2ed43d9",
   "metadata": {},
   "source": [
    "One can then use familiar tools to read and process the data further:"
   ]
  },
  {
   "cell_type": "code",
   "execution_count": null,
   "id": "56f79e7b-b3b9-43d5-806a-8289a97f4e99",
   "metadata": {
    "tags": []
   },
   "outputs": [],
   "source": [
    "import xarray as xr\n",
    "import matplotlib.pyplot as plt\n",
    "# Open the file using xarray\n",
    "with xr.open_dataset(gdir.get_filepath('climate_historical')) as ds:\n",
    "    ds = ds.load()\n",
    "# Plot the data\n",
    "ds.temp.resample(time='YS').mean().plot(label=f'Annual temperature at {int(ds.ref_hgt)}m a.s.l.');\n",
    "ds.temp.resample(time='YS').mean().rolling(time=31, center=True, min_periods=15).mean().plot(label='30yr average');\n",
    "plt.legend();"
   ]
  },
  {
   "cell_type": "markdown",
   "id": "36d5e95b-b2dc-4f20-9c52-77ef740f95c1",
   "metadata": {},
   "source": [
    "As a result of the processing workflow the glacier directories can store many more files."
   ]
  },
  {
   "cell_type": "markdown",
   "id": "54eb8411-76b2-4a1b-8b4d-0ce7345b9f20",
   "metadata": {},
   "source": [
    "<div class=\"alert alert-warning\">\n",
    "    <b>Task:</b> Open the glacier directory of one glacier using your file explorer and take a look at its contents. During the practicals, we will build up a glacier directory from scratch to understand the purpose of each individual file.\n",
    "</div>\n",
    "\n",
    "You can find the location of a single glacier’s directory using the following command:"
   ]
  },
  {
   "cell_type": "code",
   "execution_count": null,
   "id": "56fde04f-524e-4b4b-a148-cf7845539249",
   "metadata": {},
   "outputs": [],
   "source": [
    "gdir.dir"
   ]
  },
  {
   "cell_type": "markdown",
   "id": "24aa5a35-2666-49d8-aecd-34a3e2af5239",
   "metadata": {},
   "source": [
    "or you can print them directly as a list:"
   ]
  },
  {
   "cell_type": "code",
   "execution_count": null,
   "id": "31f8e8ff-c821-4b6f-914c-fd9b5b6e67db",
   "metadata": {
    "tags": []
   },
   "outputs": [],
   "source": [
    "import os\n",
    "print(os.listdir(gdir.dir))"
   ]
  },
  {
   "cell_type": "markdown",
   "id": "3d767367-c57f-411c-ab59-040a2d6d056d",
   "metadata": {},
   "source": [
    "For a short explanation of what these files are, see the [glacier directory documentation](https://docs.oggm.org/en/stable/api.html#cfg-basenames)."
   ]
  },
  {
   "cell_type": "markdown",
   "id": "a3a3e782-036f-438c-9bab-794642294faf",
   "metadata": {},
   "source": [
    "### OGGM tasks"
   ]
  },
  {
   "cell_type": "markdown",
   "id": "549450be-e57e-49a7-8012-224a8e179512",
   "metadata": {},
   "source": [
    "There are two different types of \"[tasks](http://docs.oggm.org/en/stable/api.html#entity-tasks)\" in OGGM:\n",
    "\n",
    "**Entity Tasks**\n",
    ": Standalone operations to be realized on one single glacier entity, independently from the others. The majority of OGGM tasks are entity tasks. They are parallelisable: the same task can run on several glaciers in parallel.\n",
    "\n",
    "**Global Tasks**\n",
    ": Tasks which require to work on several glacier entities at the same time. Model parameter calibration or the compilation of several glaciers' output are examples of global tasks. \n",
    "  \n",
    "OGGM implements a simple mechanism to run a specific task on a list of `GlacierDirectory` objects. Here, for the sake of the demonstration of how tasks work, we are going to compute something new from the directory:"
   ]
  },
  {
   "cell_type": "code",
   "execution_count": null,
   "id": "6ca066b0-aefc-46eb-b1cb-b0a034f3caac",
   "metadata": {
    "tags": []
   },
   "outputs": [],
   "source": [
    "from oggm import tasks\n",
    "\n",
    "# run the compute_inversion_velocities task on all gdirs\n",
    "workflow.execute_entity_task(tasks.compute_inversion_velocities, gdirs);"
   ]
  },
  {
   "cell_type": "markdown",
   "id": "da8d3f11-6824-4fff-b5ed-549b2debe46c",
   "metadata": {},
   "source": [
    "Compute inversion velocities is an optional task in the OGGM workflow. It computes the ice velocity along the flowline resulting from the ice flux from a glacier in equilibrium (more on this in the documentation or the dedicated [OGGM tutorial](https://tutorials.oggm.org/master/notebooks/tutorials/inversion.html)).\n",
    "\n",
    "Note that OGGM tasks often do not return anything (the statement above seems to be \"void\", i.e. doing nothing). The vast majority of OGGM tasks actually write data to disk in order to retrieve it later. Let's have a look at the data we just added to the directory:"
   ]
  },
  {
   "cell_type": "code",
   "execution_count": null,
   "id": "8ebba52d-0c9a-4cc0-8673-a741d8b9b788",
   "metadata": {
    "tags": []
   },
   "outputs": [],
   "source": [
    "inversion_output = gdir.read_pickle('inversion_output')  # The task above wrote the data to a pickle file - but we write to plenty of other files!\n",
    "\n",
    "# Take the first flowline\n",
    "fl = inversion_output[0]\n",
    "# the last grid points often have irrealistic velocities\n",
    "# because of the equilibrium assumption\n",
    "vel = fl['u_surface'][:-1]  \n",
    "plt.plot(vel, label='Velocity along flowline (m yr-1)'); plt.legend();"
   ]
  },
  {
   "cell_type": "markdown",
   "id": "9ce76fc7-f9a9-421f-a636-9b4ea9d487e9",
   "metadata": {},
   "source": [
    "## Recap "
   ]
  },
  {
   "cell_type": "markdown",
   "id": "2ab66387-c85f-4e9a-8a67-9ccc64fd05eb",
   "metadata": {},
   "source": [
    "- OGGM is a \"glacier centric\" model, i.e. it operates on a list of glaciers.\n",
    "- OGGM relies on saving files to disk during the workflow. Therefore, users must always specify a working directory while running OGGM.\n",
    "- The working directory can be used to restart a run at a later stage.\n",
    "- Put simply, this \"restart workflow\" is what OGGM uses to deliver data to its users. Pre-processed directories are online folders filled with glacier data that users can download.\n",
    "- Once initialized locally, \"glacier directories\" allow OGGM to do what it does best: apply processing tasks to a list of glacier entities. These \"entity tasks\" get the data they need from disk, and write to disk once completed.\n",
    "- Users (or subsequent OGGM tasks) can use these data for new computations."
   ]
  }
 ],
 "metadata": {
  "kernelspec": {
   "display_name": "Python 3 (ipykernel)",
   "language": "python",
   "name": "python3"
  },
  "language_info": {
   "codemirror_mode": {
    "name": "ipython",
    "version": 3
   },
   "file_extension": ".py",
   "mimetype": "text/x-python",
   "name": "python",
   "nbconvert_exporter": "python",
   "pygments_lexer": "ipython3",
   "version": "3.11.11"
  }
 },
 "nbformat": 4,
 "nbformat_minor": 5
}
