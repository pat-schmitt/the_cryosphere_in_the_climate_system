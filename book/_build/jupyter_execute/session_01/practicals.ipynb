{
 "cells": [
  {
   "cell_type": "markdown",
   "id": "94071747-8546-481b-b6f6-a36d98c56b98",
   "metadata": {},
   "source": [
    "# Introduction to glacier modelling and OGGM"
   ]
  },
  {
   "cell_type": "code",
   "execution_count": null,
   "id": "847536ff-e341-4387-829b-b1b55147dd10",
   "metadata": {},
   "outputs": [],
   "source": []
  }
 ],
 "metadata": {
  "kernelspec": {
   "display_name": "Python 3 (ipykernel)",
   "language": "python",
   "name": "python3"
  },
  "language_info": {
   "codemirror_mode": {
    "name": "ipython",
    "version": 3
   },
   "file_extension": ".py",
   "mimetype": "text/x-python",
   "name": "python",
   "nbconvert_exporter": "python",
   "pygments_lexer": "ipython3",
   "version": "3.11.11"
  }
 },
 "nbformat": 4,
 "nbformat_minor": 5
}