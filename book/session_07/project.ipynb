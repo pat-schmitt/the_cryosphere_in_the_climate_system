{
 "cells": [
  {
   "cell_type": "markdown",
   "id": "b3ed6934-a333-4f78-8c27-4d13261b84fa",
   "metadata": {},
   "source": [
    "# Group project"
   ]
  },
  {
   "cell_type": "markdown",
   "id": "cbc9219d-8330-4aa6-a658-ef9a8aaf6ed2",
   "metadata": {},
   "source": [
    "## Instructions\n",
    "\n",
    "**Objectives**\n",
    "\n",
    "In this final project, you should pick two glacierized basins and analyse the projected future of glaciers for different climate scenarios, and compare them to each other. For this you should use tools and knowledge you gained during the practical sessions in the last weeks.\n",
    "\n",
    "**Deadline**\n",
    "\n",
    "Please submit your project via OLAT before **Monday June 17 at 00H** (in the night from Monday to Tuesday).\n",
    "\n",
    "**Formal requirements**\n",
    "\n",
    "You will work in groups of two. If we are an odd number of students, one group can have three participants. *(Tip: I recommend that students who have not followed a programming class to team up with students who have)*.\n",
    "\n",
    "Each group will submit one (executed) jupyter notebook containing the code, plots, and answers to the questions (text in the markdown format) on OLAT. Please also submit an HTML version of the notebook. **Please ensure that your HTML file is smaller than 10 MB. This helps us provide you with more detailed and readable feedback.**\n",
    "\n",
    "Each group member must contribute to the notebook. The notebook should be self-contained and the answers must be well structured. The plots must be as understandable as possible (title, units, x and y axis labels, appropriate colors…). \n",
    "\n",
    "Please be concise in your answer. We expect a few sentences per answer at most - there is no need to write a new text book in this project! Use links and references to the literature or your class slides where appropriate.\n",
    "\n",
    "**Grading**\n",
    "\n",
    "We will give one grade per project, according to the following table (total 10 points):\n",
    "- correctness of the code and the plots: content, legends, colors, units, etc. (3 points)\n",
    "- quality of the answers: correctness, preciseness, appropriate use of links and references to literature or external resources (5 points)\n",
    "- contextualise your findings with literature (2 points)"
   ]
  },
  {
   "cell_type": "code",
   "execution_count": null,
   "id": "43005f5c-c0b9-4da7-bea0-187e1ab53a80",
   "metadata": {},
   "outputs": [],
   "source": [
    "# Imports\n",
    "import os\n",
    "import urllib.request\n",
    "\n",
    "import xarray as xr\n",
    "import pandas as pd\n",
    "import numpy as np"
   ]
  },
  {
   "cell_type": "markdown",
   "id": "23a00b0a-fdca-4b15-a7c5-2773081988a6",
   "metadata": {},
   "source": [
    "## International Network for Alpine Research Catchment Hydrology INARCH"
   ]
  },
  {
   "cell_type": "markdown",
   "id": "7711565f-3da3-4cfb-a170-6b478e0e6dde",
   "metadata": {},
   "source": [
    "We aim, with this group project, to contribute to the INARCH initiative. The goal of INARCH is to better understand hydrological processes in alpine cold regions, improve their prediction, diagnose their sensitivity to global change, and develop consistent measurement strategies. You can find more information on the [INARCH website](https://inarch.usask.ca/about-inarch/about.php).\n",
    "\n",
    "In this project, our focus will be on glacier projections from OGGM in glacierized basins of INARCH. You are expected to analyze how glaciers are evolving and how their contribution to total runoff is changing. The final outcome will be a dataset of OGGM projections for all CMIP5 and CMIP6 scenarios (which I have prepared), along with a first analysis of this dataset, this is the core of your work in the group project.\n",
    "\n",
    "For your individual group analysis, you should compare two basins. As a whole class, we aim to ensure that each basin is covered by at least one group. The selection of basins is up to each group and should be done using the link to the spreadsheet shared in the presentation (first come, first served).\n",
    "\n",
    "In your analysis, make sure to incorporate the background knowledge about how OGGM is working and how the data was generated, as we discussed during the practical sessions."
   ]
  },
  {
   "cell_type": "markdown",
   "id": "d07a3af2-3177-4db8-8819-888f71a3b6ee",
   "metadata": {},
   "source": [
    "## Selecting Temperature Scenarios for Analysis"
   ]
  },
  {
   "cell_type": "markdown",
   "id": "9491ffc2-c241-4a42-a091-62bc98447831",
   "metadata": {},
   "source": [
    "To analyze how glaciers are evolving, we will group the projections by temperature warming levels, as done in a previous session. For this, you will again need the table containing the actual warming levels for each climate model realization. You can [download it here](https://cluster.klima.uni-bremen.de/~pschmitt/teaching/cryo_in_climate/cmip5_and_cmip6_warming_compared_to_preindustrial.csv) and save it at the same location as this notebook.\n",
    "\n",
    "Below is the code used to select the model realizations based on temperature targets. Our analysis focuses on three temperature goals: 1.5°C, 2.7°C, and 4.0°C, each with a tolerance of ±0.2°C."
   ]
  },
  {
   "cell_type": "code",
   "execution_count": null,
   "id": "a886efc9-6397-46da-8bd5-5593361a83f0",
   "metadata": {},
   "outputs": [],
   "source": [
    "# reading the csv file\n",
    "df_warming_levels = pd.read_csv('cmip5_and_cmip6_warming_compared_to_preindustrial.csv', index_col=0)\n",
    "\n",
    "# the function takes a target temperature and a range, e.g. 2.7+/-0.2°C\n",
    "def get_models_from_temp(temp, temp_range):\n",
    "    pi_l = temp - temp_range  # our lower temperature limit\n",
    "    pi_u = temp + temp_range  # our higher temperature limit\n",
    "\n",
    "    # select only those which are inside of our temperature limit\n",
    "    pd_cmip_sel = df_warming_levels.loc[\n",
    "        # select all which have a larger temperature as our lower limit AND\n",
    "        (df_warming_levels['global_temp_ch_2071-2100_preindustrial']>=pi_l) &\n",
    "        # those having a smaller temperature as our higher limit\n",
    "        (df_warming_levels['global_temp_ch_2071-2100_preindustrial']<=pi_u)\n",
    "    ]\n",
    "    return pd_cmip_sel\n",
    "\n",
    "# define the models for each temperature goal in a dictionary\n",
    "temp_scenarios = {\n",
    "    '4°C': get_models_from_temp(4, 0.2),\n",
    "    '2.7°C': get_models_from_temp(2.7, 0.2),\n",
    "    '1.5°C': get_models_from_temp(1.5, 0.2),\n",
    "}"
   ]
  },
  {
   "cell_type": "markdown",
   "id": "ab89b68c-66f7-4690-8ca2-6c35cb85958a",
   "metadata": {},
   "source": [
    "<div class=\"alert alert-warning\">\n",
    "    <b>Task</b>: For each temperature target (1.5°C, 2.7°C, and 4.0°C), evaluate the selection of climate model realizations by calculating the mean, median, and number of realizations included in each group. Briefly discuss your findings.\n",
    "</div>"
   ]
  },
  {
   "cell_type": "code",
   "execution_count": null,
   "id": "d416cf93-a819-4827-bc0e-cb0a30018098",
   "metadata": {},
   "outputs": [],
   "source": [
    "# add your code here"
   ]
  },
  {
   "cell_type": "markdown",
   "id": "ae28ebff-1367-4a1a-a5a9-76d5c718574b",
   "metadata": {},
   "source": [
    "Your discussion here:"
   ]
  },
  {
   "cell_type": "markdown",
   "id": "341600b9-f55b-4659-a521-87ec95c0949c",
   "metadata": {},
   "source": [
    "## Getting the Data for Your Basins"
   ]
  },
  {
   "cell_type": "markdown",
   "id": "9aa99462-a33a-4b52-b527-6f66a1e2beb5",
   "metadata": {},
   "source": [
    "To begin your analysis, you need to load the glacier and runoff projection data for your assigned basins. Make sure you know which basins your group is working on (as selected in the shared spreadsheet). The data for each basin is stored in individual files, which you can load using the provided code template.  You can choose where to store the data locally by setting the variable `local_data_dir`. By default, this will create a new folder called `glacier_projection_data` in the same location as your notebook."
   ]
  },
  {
   "cell_type": "code",
   "execution_count": null,
   "id": "bef6c917-623f-4192-a05a-61caf4e65758",
   "metadata": {
    "scrolled": true
   },
   "outputs": [],
   "source": [
    "# add here your the basin_id of your selected basins (e.g. ['basin_1', 'basin_2'])\n",
    "basin_ids = ['zugspitze', ]\n",
    "\n",
    "# you can select here a location on your computer to store the glacier data\n",
    "local_data_dir = 'glacier_projection_data'\n",
    "\n",
    "# create the directory, if it does not exist\n",
    "os.makedirs(local_data_dir, exist_ok=True)\n",
    "\n",
    "# the url where all the data is stored\n",
    "base_url = 'https://cluster.klima.uni-bremen.de/~pschmitt/teaching/cryo_in_climate/INARCH/data/'\n",
    "\n",
    "# in this structure we will save the opened data\n",
    "ds_all = {}\n",
    "\n",
    "# Code for downloading the data, if data already downloaded this will be skipped\n",
    "for basin in basin_ids:\n",
    "\n",
    "    # create a directory for each basin\n",
    "    basin_url = os.path.join(base_url, basin, '2100')\n",
    "    local_basin_dir = os.path.join(local_data_dir, basin)\n",
    "    os.makedirs(local_basin_dir, exist_ok=True)\n",
    "    \n",
    "    ds_all[basin] = {}\n",
    "    for temp_level in temp_scenarios:\n",
    "        ds_tmp_all = []\n",
    "        for i, realization in temp_scenarios[temp_level].iterrows():\n",
    "            # depending on the CMIP, different names for scenarios\n",
    "            scenario_column = 'ssp' if realization['cmip'] == 'CMIP6' else 'rcp'\n",
    "            filename = f\"basin_{basin}_run_hydro_w5e5_gcm_merged_bc_2000_2019_{realization['gcm']}_{realization[scenario_column]}.nc\"\n",
    "\n",
    "            # only download if file not already downloaded\n",
    "            if os.path.isfile(os.path.join(local_basin_dir, filename)):\n",
    "                print(f\"File already downloaded: {filename}\")\n",
    "            else:\n",
    "                print(f\"Downloading {filename}\")\n",
    "                urllib.request.urlretrieve(\n",
    "                    os.path.join(basin_url, filename),\n",
    "                    os.path.join(local_basin_dir, filename))\n",
    "\n",
    "            # open individual dataset and combine gcma and scenaio in new variable\n",
    "            with xr.open_dataset(os.path.join(local_basin_dir, filename)) as ds:\n",
    "                ds_stacked = ds.stack(gcm_scenario=(\"gcm\", \"scenario\"))\n",
    "                ds_tmp_all.append(ds_stacked)            \n",
    "\n",
    "        print(f'{basin}: combining data for {temp_level}')\n",
    "        ds_all[basin][temp_level] = xr.combine_by_coords(ds_tmp_all, fill_value=np.nan)"
   ]
  },
  {
   "cell_type": "markdown",
   "id": "e2142f9a-6828-4072-bf3a-59c631dd6f99",
   "metadata": {},
   "source": [
    "After downloading and processing the data, everything will be stored in the variable `ds_all`. You can access the data for a specific basin and temperature level using the syntax `ds_all[basin_name][temperature_level]`. Below you can find one example:"
   ]
  },
  {
   "cell_type": "code",
   "execution_count": null,
   "id": "dc7fd32f-630c-4438-a085-4633678a34ed",
   "metadata": {},
   "outputs": [],
   "source": [
    "ds_all[basin_ids[0]]['1.5°C']"
   ]
  },
  {
   "cell_type": "markdown",
   "id": "0c3f524b-eec5-4bde-92db-565eb86595db",
   "metadata": {},
   "source": [
    "<div class=\"alert alert-warning\">\n",
    "    <b>Task</b>: Explore and discuss the available data (data structure, variables, units, temporal resolution, ...).\n",
    "</div>"
   ]
  },
  {
   "cell_type": "markdown",
   "id": "b9fa43c4-9f64-4a90-b4d1-6d5861050618",
   "metadata": {},
   "source": [
    "Your answer here:"
   ]
  },
  {
   "cell_type": "markdown",
   "id": "ef138417-9bef-4886-81d0-cebf9b6acbe3",
   "metadata": {},
   "source": [
    "## Common running glaciers"
   ]
  },
  {
   "cell_type": "markdown",
   "id": "1f0e035d-91f8-49c5-94b1-b3794a6f7427",
   "metadata": {},
   "source": [
    "Some individual glacier projections may be missing or not available for certain scenarios. To avoid introducing errors due to differing glacier counts across scenarios, we will first extract only those glaciers that are available in all scenarios:"
   ]
  },
  {
   "cell_type": "code",
   "execution_count": null,
   "id": "19916ce8-0a55-4543-99fe-dd0ea0fe55b6",
   "metadata": {},
   "outputs": [],
   "source": [
    "# in this variable the common running glaciers will be saved for each basin\n",
    "not_nan_rgi_ids_all = {}\n",
    "\n",
    "# loop through your basins\n",
    "for basin in basin_ids:\n",
    "    not_nan_rgi_ids = None\n",
    "\n",
    "    # loop though the temperature scenarios, only glaciers which are available in all temperature scenarios are selected\n",
    "    for temp in temp_scenarios:\n",
    "        not_nan_rgi_ids_temp = ~ds_all[basin][temp].volume.isnull().any(dim=[\"time\", \"gcm_scenario\"])\n",
    "\n",
    "        if not_nan_rgi_ids is None:\n",
    "            not_nan_rgi_ids = not_nan_rgi_ids_temp\n",
    "        else:\n",
    "            not_nan_rgi_ids &= not_nan_rgi_ids_temp\n",
    "\n",
    "    # save the working rgi_ids for each basin\n",
    "    not_nan_rgi_ids_all[basin] = not_nan_rgi_ids.rgi_id[not_nan_rgi_ids].values"
   ]
  },
  {
   "cell_type": "markdown",
   "id": "1c0e5a1d-af15-4b3c-a2f0-6ca62ccc4b7e",
   "metadata": {},
   "source": [
    "We can now use this list of valid rgi_ids to filter our data and include only those glaciers that are available across all scenarios."
   ]
  },
  {
   "cell_type": "code",
   "execution_count": null,
   "id": "db0ef0ee-cb4c-499b-9ae6-42390e84ef61",
   "metadata": {},
   "outputs": [],
   "source": [
    "basin_example = basin_ids[0]\n",
    "ds_all[basin_example]['1.5°C'].sel(rgi_id=not_nan_rgi_ids_all[basin_example])"
   ]
  },
  {
   "cell_type": "markdown",
   "id": "062ceb2b-6e61-47c3-8229-02d4e3ceef0c",
   "metadata": {},
   "source": [
    "<div class=\"alert alert-danger\">\n",
    "    <b>Important</b>: For all subsequent analyses, make sure to include only the glaciers that are available across all scenarios to ensure consistency!\n",
    "</div>"
   ]
  },
  {
   "cell_type": "markdown",
   "id": "04492744-da80-4921-945b-f6f297976fd5",
   "metadata": {},
   "source": [
    "<div class=\"alert alert-warning\">\n",
    "    <b>Task</b>: For each of your basins, check whether any glaciers were excluded during the filtering process, and if so, calculate the total glacier area in 2000 of the excluded glaciers (in km²) and what percentage this represents of the total 2000 glacier area in the basin.\n",
    "</div>"
   ]
  },
  {
   "cell_type": "markdown",
   "id": "99893c9e-4ff7-432b-81f2-d46aa4a0f658",
   "metadata": {},
   "source": [
    "Your answer here:"
   ]
  },
  {
   "cell_type": "markdown",
   "id": "9da5b1d6-3a69-41ad-b099-3176e3f1df3f",
   "metadata": {},
   "source": [
    "## Describe your basins"
   ]
  },
  {
   "cell_type": "markdown",
   "id": "a0c9adbf-9047-46ad-ae0b-bde23a91d5bf",
   "metadata": {},
   "source": [
    "Before starting your data analysis, take some time to explore your selected basins and do a bit of background research. You can download all [basin shapefiles here](https://cluster.klima.uni-bremen.de/~pschmitt/teaching/cryo_in_climate/INARCH/basin_shapefile.zip) to examine them more closely."
   ]
  },
  {
   "cell_type": "markdown",
   "id": "e211a7cb-c676-44f2-9cfc-e145f40ff651",
   "metadata": {},
   "source": [
    "<div class=\"alert alert-warning\">\n",
    "    <b>Please answer at least the following questions</b>: \n",
    "<ul>\n",
    "  <li>Where are the basins located, and what are their climate conditions?</li>\n",
    "  <li>How large is each basin, and what proportion of the area is glacierized? <em>(Tip: check the Attribues of ds_all for the individual basins)</em></li>\n",
    "</ul>\n",
    "</div>"
   ]
  },
  {
   "cell_type": "markdown",
   "id": "de410046-fe9b-4ee5-bb65-a2872f1afced",
   "metadata": {},
   "source": [
    "Your answer here:"
   ]
  },
  {
   "cell_type": "markdown",
   "id": "3f1a016e-f44b-4ef0-b26a-b8b5a363316f",
   "metadata": {},
   "source": [
    "## Volume and area evolution"
   ]
  },
  {
   "cell_type": "markdown",
   "id": "cb3d63e6-1192-486f-9d26-f39cdcbff121",
   "metadata": {},
   "source": [
    "Analyze the volume and area evolution of all glaciers in your basin. Tip: use `ds.sum(dim='rgi_id')` to sum over all glaciers.\n",
    "\n",
    "For each basin, create:\n",
    "- One plot showing total glacier volume evolution (in km³) from 2020 to 2100\n",
    "- One plot showing total glacier area evolution (in km²) from 2020 to 2100\n",
    "\n",
    "Each plot should include all three temperature scenarios, displayed as the median with interquartile range (17th to 83rd percentile). The title of each plot should include the name of the basin and the glacierized area fraction (in percent)."
   ]
  },
  {
   "cell_type": "code",
   "execution_count": null,
   "id": "ea886c08-74cc-44b3-a028-88b274b11595",
   "metadata": {},
   "outputs": [],
   "source": [
    "# add your code here\n"
   ]
  },
  {
   "cell_type": "markdown",
   "id": "1f2f3ca3-6b78-4ebb-b02e-b521f9b08083",
   "metadata": {},
   "source": [
    "<div class=\"alert alert-warning\">\n",
    "    <b>Questions</b>: \n",
    "<ul>\n",
    "  <li>What do you observe when comparing the different scenarios within each basin?</li>\n",
    "  <li>Do the two basins react similarly or differently?</li>\n",
    "  <li>Is there a noticeable difference in the behavior between glacier area and volume?</li>\n",
    "</ul>\n",
    "</div>"
   ]
  },
  {
   "cell_type": "markdown",
   "id": "d3d2877b-1698-4a09-8471-f985df524c7f",
   "metadata": {},
   "source": [
    "Your answers here:"
   ]
  },
  {
   "cell_type": "markdown",
   "id": "bdd684bb-6a0e-40c6-83d7-6dbe3a0b8639",
   "metadata": {},
   "source": [
    "## Hydrological output"
   ]
  },
  {
   "cell_type": "markdown",
   "id": "4d92e0bb-907b-448b-95e1-599499cb913f",
   "metadata": {},
   "source": [
    "Analyze the hydrological output of your basins. For guidance, you can refer to the plots of [this tutorial](https://edu-notebooks.oggm.org/oggm-edu/glacier_water_resources_projections.html).\n",
    "\n",
    "For each basin, create the following plots:\n",
    "- Total runoff for all temperature scenarios in one plot (showing median and interquartile range)\n",
    "- Runoff components (only median), one plot per temperature scenario\n",
    "- Monthly runoff (median only), as a 2D plot (x-axis: Months, y-axis: Years), one plot per temperature scenario\n",
    "- Annual runoff at three time steps (e.g. 2020, 2060, 2100), showing median and interquartile range, one plot per temperature scenario\n",
    "\n",
    "The title of each plot should include the name of the basin and the glacierized area fraction (in percent), and, if needed, the temperature scenario."
   ]
  },
  {
   "cell_type": "code",
   "execution_count": null,
   "id": "02b055d0-cb2d-4aeb-983d-4234dea24022",
   "metadata": {},
   "outputs": [],
   "source": [
    "# add your code here\n"
   ]
  },
  {
   "cell_type": "markdown",
   "id": "387579aa-f882-4d1e-b4c4-35d57eb635d1",
   "metadata": {},
   "source": [
    "<div class=\"alert alert-warning\">\n",
    "    <b>Questions</b>: \n",
    "<ul>\n",
    "  <li>What do you observe when comparing the different scenarios within each basin?</li>\n",
    "  <li>Do the two basins react similarly or differently?</li>\n",
    "  <li>Can you identify any evidence of peak water?</li>\n",
    "</ul>\n",
    "</div>"
   ]
  },
  {
   "cell_type": "markdown",
   "id": "810a4e61-c65a-4af4-8ec8-cd41262f7ee6",
   "metadata": {},
   "source": [
    "Your answers here:"
   ]
  },
  {
   "cell_type": "markdown",
   "id": "b508ed78-d388-4b2a-92bf-eb8af93c0543",
   "metadata": {},
   "source": [
    "## Contextualize your results with the literature"
   ]
  },
  {
   "cell_type": "markdown",
   "id": "8b66ca25-6097-4310-a10c-3db825b69d57",
   "metadata": {},
   "source": [
    "<div class=\"alert alert-warning\">\n",
    "    <b>Task</b>: Compare your findings with existing studies or reports. For each basin, find at least one relevant source from the scientific literature. Compare your results to those presented in the literature, and discuss any similarities or differences. Use the knowledge you have gained during the practical sessions, particularly about OGGM and how the data is generated, to help interpret and explain any contrasts between your findings and those in other studies.\n",
    "</div>"
   ]
  },
  {
   "cell_type": "markdown",
   "id": "5c0c1857-d6a0-4cdd-9fdd-26c278534bdf",
   "metadata": {},
   "source": [
    "Your answer here:"
   ]
  }
 ],
 "metadata": {
  "kernelspec": {
   "display_name": "Python 3 (ipykernel)",
   "language": "python",
   "name": "python3"
  },
  "language_info": {
   "codemirror_mode": {
    "name": "ipython",
    "version": 3
   },
   "file_extension": ".py",
   "mimetype": "text/x-python",
   "name": "python",
   "nbconvert_exporter": "python",
   "pygments_lexer": "ipython3",
   "version": "3.10.16"
  }
 },
 "nbformat": 4,
 "nbformat_minor": 5
}
