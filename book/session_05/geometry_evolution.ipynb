{
 "cells": [
  {
   "cell_type": "markdown",
   "id": "761a9d0e-34ce-4633-b152-812e00d35786",
   "metadata": {},
   "source": [
    "# Geometry evolution models in OGGM"
   ]
  },
  {
   "cell_type": "markdown",
   "id": "49c37633-6f82-4483-8ff9-cff4e393c3a1",
   "metadata": {},
   "source": [
    "Until now, we have only looked at the glacier in a static way. In today's session, we will begin exploring how the glacier geometry dynamically evolves over time. Finally, we will revisit the calibration procedure, this time also considering the effects of a dynamically evolving glacier geometry."
   ]
  },
  {
   "cell_type": "markdown",
   "id": "44dae6df-1577-420c-9791-896764a9a36c",
   "metadata": {},
   "source": [
    "## OGGM setup"
   ]
  },
  {
   "cell_type": "markdown",
   "id": "a169f87f-f622-4edb-b629-d2f6b7164ab1",
   "metadata": {},
   "source": [
    "With the tasks we completed in the last session, we have finished everything needed from the level 2 preprocessed directories, and we can now start this session from level 3."
   ]
  },
  {
   "cell_type": "code",
   "execution_count": null,
   "id": "18868598-d1e4-40b6-af56-671498efd981",
   "metadata": {},
   "outputs": [],
   "source": [
    "from oggm import cfg, utils, workflow, tasks\n",
    "import matplotlib.pyplot as plt\n",
    "import matplotlib.patches as patches\n",
    "import xarray as xr\n",
    "import pandas as pd\n",
    "import numpy as np"
   ]
  },
  {
   "cell_type": "code",
   "execution_count": null,
   "id": "31190e0b-11a9-4a34-b0dd-8b599edec87b",
   "metadata": {},
   "outputs": [],
   "source": [
    "cfg.initialize()\n",
    "\n",
    "# define working directory\n",
    "path = 'evolution_working_dir'\n",
    "utils.mkdir(path, reset=False)  # if you set reset=True, everything will be deleted and you can start from a fresh state\n",
    "cfg.PATHS['working_dir'] = path"
   ]
  },
  {
   "cell_type": "code",
   "execution_count": null,
   "id": "2cd16888-1104-49b0-95b0-2683d8a27ca7",
   "metadata": {},
   "outputs": [],
   "source": [
    "# select the glacier of your choice, you can use the Glims viewer from the first session\n",
    "rgi_ids = ['RGI60-11.01450']  # Aletsch\n",
    "\n",
    "# we load the outline data from the oggm cluster\n",
    "prepro_base_url_L3 = 'https://cluster.klima.uni-bremen.de/~oggm/gdirs/oggm_v1.6/L3-L5_files/2023.3/elev_bands/W5E5/'\n",
    "gdirs = workflow.init_glacier_directories(rgi_ids,\n",
    "                                          from_prepro_level=3,  # here we select level 3\n",
    "                                          prepro_base_url=prepro_base_url_L3,\n",
    "                                          prepro_border=80,  # could be 10, 80, 160 or 240\n",
    "                                         )\n",
    "gdir = gdirs[0]  # for convenience, we define a single variable for our glacier"
   ]
  },
  {
   "cell_type": "markdown",
   "id": "91431e1a-1d53-4f2a-8f2b-096afb922b40",
   "metadata": {},
   "source": [
    "Let's see what the diagnostics tell us:"
   ]
  },
  {
   "cell_type": "code",
   "execution_count": null,
   "id": "b048f655-70aa-43cf-809d-fa237d7de0d1",
   "metadata": {},
   "outputs": [],
   "source": [
    "gdir.get_diagnostics()"
   ]
  },
  {
   "cell_type": "markdown",
   "id": "2a241b81-cd95-4f28-be33-5272453431f6",
   "metadata": {},
   "source": [
    "<div class=\"alert alert-warning\">\n",
    "    <b>Task</b>: Do you remember the meaning of all variables?\n",
    "</div>"
   ]
  },
  {
   "cell_type": "markdown",
   "id": "3ab60b3c-3a7f-4fda-8569-3cf98762d70e",
   "metadata": {},
   "source": [
    "Your answer here:"
   ]
  },
  {
   "cell_type": "markdown",
   "id": "be30843d-b0db-4a64-8bdc-ef56d1084de9",
   "metadata": {},
   "source": [
    "## A first dynamic run"
   ]
  },
  {
   "cell_type": "markdown",
   "id": "61c1c6cd-a231-4771-b56c-9ef9a66b63ef",
   "metadata": {},
   "source": [
    "For some theoretical background for this session, please first read the [\"Ice flow\" and \"Bed shapes\" sections of the OGGM documentation](https://docs.oggm.org/en/stable/ice-dynamics.html)."
   ]
  },
  {
   "cell_type": "code",
   "execution_count": null,
   "id": "33d167e1-fc64-4b8a-aa51-0bfab741dbfa",
   "metadata": {},
   "outputs": [],
   "source": [
    "cfg.PARAMS['store_model_geometry'] = True"
   ]
  },
  {
   "cell_type": "code",
   "execution_count": null,
   "id": "9fab1aed-2757-471a-b2a2-0b787771720b",
   "metadata": {},
   "outputs": [],
   "source": [
    "workflow.execute_entity_task(tasks.run_from_climate_data, gdirs,\n",
    "                             output_filesuffix='_first_run');"
   ]
  },
  {
   "cell_type": "markdown",
   "id": "8bb9a35f-6102-4161-8cd4-77aa5757239a",
   "metadata": {},
   "source": [
    "Okay, that was easy. Now let's have a look at our run:"
   ]
  },
  {
   "cell_type": "code",
   "execution_count": null,
   "id": "98dda54a-6be2-4288-9f80-e269795d4c28",
   "metadata": {},
   "outputs": [],
   "source": [
    "# Open the geometry of the glacier after the run\n",
    "from oggm.core import flowline\n",
    "fmod_first_run = flowline.FileModel(gdir.get_filepath('model_geometry', filesuffix='_first_run'))\n",
    "\n",
    "# prepare the data for easy plotting\n",
    "fl = fmod_first_run.fls[-1]  # Main flowline\n",
    "df_coords = pd.DataFrame(index=fl.dis_on_line*gdir.grid.dx)\n",
    "df_coords.index.name = 'Distance along flowline'\n",
    "df_coords['bed_elevation'] = fl.bed_h\n",
    "\n",
    "# read out the surface height for each year\n",
    "df_surf_h = pd.DataFrame(index=df_coords.index, columns=fmod_first_run.years, dtype=np.float64)\n",
    "for year in fmod_first_run.years:\n",
    "    fmod_first_run.run_until(year)\n",
    "    fl = fmod_first_run.fls[-1]\n",
    "    df_surf_h[year] = fl.surface_h"
   ]
  },
  {
   "cell_type": "code",
   "execution_count": null,
   "id": "1b488171-ff64-447a-b41c-e0dacf41a116",
   "metadata": {},
   "outputs": [],
   "source": [
    "years_to_plot = [2004, 2012, 2020]\n",
    "f, ax = plt.subplots()\n",
    "\n",
    "df_surf_h[years_to_plot].plot(ax=ax);\n",
    "df_coords['bed_elevation'].plot(ax=ax, color='k');\n",
    "ax.set_title('Glacier elevation at three points in time')\n",
    "ax.legend(title='Year');"
   ]
  },
  {
   "cell_type": "markdown",
   "id": "29751d37-5019-4ced-8947-b7e20c735733",
   "metadata": {},
   "source": [
    "<div class=\"alert alert-warning\">\n",
    "    <b>Task</b>: What do you observe from in this plot? Why is the model run starting from 2004?\n",
    "</div>"
   ]
  },
  {
   "cell_type": "markdown",
   "id": "5c89f7d1-f157-450d-8666-d512cf959b38",
   "metadata": {},
   "source": [
    "Your answer here:"
   ]
  },
  {
   "cell_type": "markdown",
   "id": "ab1bc6de-2f6b-41fd-9867-a304e0729c54",
   "metadata": {},
   "source": [
    "Now have a look at the total volume and area and compare it to our calibration data:"
   ]
  },
  {
   "cell_type": "code",
   "execution_count": null,
   "id": "8aebab23-b853-47ef-a3f4-ced94175bb03",
   "metadata": {},
   "outputs": [],
   "source": [
    "# load the model run output\n",
    "ds_first_run = utils.compile_run_output(gdirs, input_filesuffix='_first_run')"
   ]
  },
  {
   "cell_type": "code",
   "execution_count": null,
   "id": "5c860cf8-69b2-4457-b81d-f571c3f96a59",
   "metadata": {},
   "outputs": [],
   "source": [
    "# loading the volume estimate\n",
    "estimated_volume = pd.read_hdf(utils.get_demo_file('rgi62_itmix_df.h5')).loc[gdir.rgi_id]['vol_itmix_m3']  # m³\n",
    "\n",
    "# getting the outline area\n",
    "observed_area = gdir.rgi_area_m2  # m²"
   ]
  },
  {
   "cell_type": "code",
   "execution_count": null,
   "id": "81bdf12a-e900-4526-92ec-e61110b97a88",
   "metadata": {},
   "outputs": [],
   "source": [
    "fig, axs = plt.subplots(2, 1, figsize=(8, 6), gridspec_kw={'hspace': 0.4})\n",
    "\n",
    "# plot the volume evolution and the estimated volume\n",
    "ax_vol = axs[0]\n",
    "ds_first_run.volume.plot(ax=ax_vol, label='first model run')\n",
    "ax_vol.plot(gdir.rgi_date + 1, estimated_volume, 'ro', label='estimated volume')\n",
    "ax_vol.legend(); ax_vol.grid('on');\n",
    "\n",
    "# plot the area evolution and the observed outline area\n",
    "ax_area = axs[1]\n",
    "ds_first_run.area.plot(ax=ax_area, label='first model run')\n",
    "ax_area.plot(gdir.rgi_date + 1, observed_area, 'ro', label='observed outline area')\n",
    "ax_area.legend(); ax_area.grid('on');\n"
   ]
  },
  {
   "cell_type": "markdown",
   "id": "2a20c9a0-bddf-442b-992c-87b2c22ea9ca",
   "metadata": {},
   "source": [
    "<div class=\"alert alert-warning\">\n",
    "    <b>Task</b>: The area is perfectly matched, however the volume not. Why? (Hint: it has to do with the bed inversion workflow.)\n",
    "</div>"
   ]
  },
  {
   "cell_type": "markdown",
   "id": "1ef3a472-4eaf-43fd-b68a-200d43d07b0d",
   "metadata": {},
   "source": [
    "Your answer here:"
   ]
  },
  {
   "cell_type": "markdown",
   "id": "3f1e08b5-09ed-43df-8b98-dff388a10d82",
   "metadata": {},
   "source": [
    "Finally, during the calibration of the mass balance, we used the geodetic mass balance from [Hugonnet et al. (2021)](https://www.nature.com/articles/s41586-021-03436-z). So let’s also compare our first dynamic run with this dataset.\n",
    "\n",
    "One issue we face is that the observation covers the period 2000 to 2020, while our model run only starts in 2004. However, for now, we will ignore this mismatch and calculate the average annual mass change anyway."
   ]
  },
  {
   "cell_type": "code",
   "execution_count": null,
   "id": "97068727-9ee3-494c-a366-b25e25a7c14e",
   "metadata": {},
   "outputs": [],
   "source": [
    "# load the geodetic mb data\n",
    "ref_period = cfg.PARAMS['geodetic_mb_period']\n",
    "df_ref_dmdtda = utils.get_geodetic_mb_dataframe().loc[gdir.rgi_id]  # get the data from Hugonnet et al., 2021\n",
    "df_ref_dmdtda = df_ref_dmdtda.loc[df_ref_dmdtda['period'] == ref_period]  # only select the desired period\n",
    "dmdtda_reference = df_ref_dmdtda['dmdtda'].values[0] * 1000  # get the reference dmdtda and convert into kg m-2 yr-1\n",
    "dmdtda_reference_error = df_ref_dmdtda['err_dmdtda'].values[0] * 1000  # corresponding uncertainty\n",
    "\n",
    "# calculate the model counterpart\n",
    "first_run_dmdtda = ((ds_first_run.volume.loc[2020].values[0] -\n",
    "                     ds_first_run.volume.loc[2004].values[0]) /\n",
    "                    gdir.rgi_area_m2 /\n",
    "                    (2020 - 2004) *\n",
    "                    cfg.PARAMS['ice_density'])\n",
    "\n",
    "# and print the two values\n",
    "print(f'Reference dmdtda 2000 to 2020 (Hugonnet 2021): {dmdtda_reference:.2f} +/- {dmdtda_reference_error:6.2f} kg m-2 yr-1')\n",
    "print(f'First run dmdtda 2004 to 2020:                 {first_run_dmdtda:.2f}            kg m-2 yr-1')"
   ]
  },
  {
   "cell_type": "markdown",
   "id": "c9b8ff10-d1f7-4638-8b79-442edd8a71ac",
   "metadata": {},
   "source": [
    "But wait, during the calibration of the mass balance model, we adjusted it to perfectly match the geodetic observation.\n",
    "Let’s double-check that result:"
   ]
  },
  {
   "cell_type": "code",
   "execution_count": null,
   "id": "6d672f84-b53c-4498-894f-0279b05567b6",
   "metadata": {},
   "outputs": [],
   "source": [
    "from oggm.core import massbalance\n",
    "\n",
    "# we initialize our mass balance model and calculate the mean specific mass balance over the year 2000 and 2020\n",
    "mb_mod = massbalance.MonthlyTIModel(gdir)\n",
    "fls = gdir.read_pickle('inversion_flowlines')\n",
    "years = np.arange(2000, 2020)\n",
    "mb_model_dmdtda = mb_mod.get_specific_mb(fls=fls, year=years).mean()\n",
    "\n",
    "print(f'Mass balance dmdtda 2000 to 2020: {mb_model_dmdtda:.2f} kg m-2 yr-1')"
   ]
  },
  {
   "cell_type": "markdown",
   "id": "c80270a3-334d-4a85-a89f-1f1b647af129",
   "metadata": {},
   "source": [
    "<div class=\"alert alert-warning\">\n",
    "    <b>Task</b>: The calibrated mass balance model perfectly matches the geodetic observation, but the dynamic run does not. Why do you think that is?\n",
    "</div>"
   ]
  },
  {
   "cell_type": "markdown",
   "id": "942b538d-49b2-421c-821a-175eecf1ef10",
   "metadata": {},
   "source": [
    "Your answer here:"
   ]
  },
  {
   "cell_type": "markdown",
   "id": "176f33bb-2c16-4e38-8350-8f82edbce3cb",
   "metadata": {},
   "source": [
    "## Recalibrate the mass balance model including dynamics"
   ]
  },
  {
   "cell_type": "markdown",
   "id": "34acd7cc-21a0-48b3-95f3-c0a4db3187f0",
   "metadata": {},
   "source": [
    "The reason for the mismatch is that the glacier surface geometry changes over time, while we assumed a constant geometry during the initial calibration of the mass balance model.\n",
    "\n",
    "To account for this, OGGM includes a [dynamic calibration workflow](https://docs.oggm.org/en/stable/dynamic-spinup.html). This approach starts at an earlier year in the past (by default 1979) and searches for a melt factor that allows the mass balance model to match the observed geodetic mass balance, while also considering the dynamic evolution of the glacier's surface geometry."
   ]
  },
  {
   "cell_type": "code",
   "execution_count": null,
   "id": "5be1de3d-9e16-4df8-8eb3-82d407909405",
   "metadata": {},
   "outputs": [],
   "source": [
    "tasks.run_dynamic_melt_f_calibration(gdir,\n",
    "                                     ys=1979,  # When to start the spinup\n",
    "                                     ye=2020,  # When the simulation should stop\n",
    "                                     output_filesuffix='_dynamic_melt_f',  # Where to write the output\n",
    "                                     err_dmdtda_scaling_factor=0.2,\n",
    "                                    );"
   ]
  },
  {
   "cell_type": "code",
   "execution_count": null,
   "id": "92526e27-d162-4308-9ab0-aa59c260dbc0",
   "metadata": {},
   "outputs": [],
   "source": [
    "ds_spinup = utils.compile_run_output(gdirs, input_filesuffix='_dynamic_melt_f')"
   ]
  },
  {
   "cell_type": "code",
   "execution_count": null,
   "id": "f96e8423-6f74-4d1e-b343-b39d19cd6d63",
   "metadata": {},
   "outputs": [],
   "source": [
    "# calculate the model counterpart\n",
    "spinup_dmdtda = ((ds_spinup.volume.loc[2020].values[0] -\n",
    "                  ds_spinup.volume.loc[2000].values[0]) /\n",
    "                 gdir.rgi_area_m2 /\n",
    "                 (2020 - 2000) *\n",
    "                 cfg.PARAMS['ice_density'])\n",
    "\n",
    "# and print the two values\n",
    "print(f'Reference dmdtda 2000 to 2020 (Hugonnet 2021): {dmdtda_reference:.2f} +/- {dmdtda_reference_error:6.2f} kg m-2 yr-1')\n",
    "print(f'First run dmdtda 2004 to 2020:                 {first_run_dmdtda:.2f}            kg m-2 yr-1')\n",
    "print(f'Spinup run dmdtda 2000 to 2020:                {spinup_dmdtda:.2f}            kg m-2 yr-1')"
   ]
  },
  {
   "cell_type": "markdown",
   "id": "55335eb0-47f0-4dad-ba2b-7fdab26feceb",
   "metadata": {},
   "source": [
    "Much better! Now, let’s also compare the volume and area evolution of the two runs to see how the glacier behaves under static vs. dynamic calibration:"
   ]
  },
  {
   "cell_type": "code",
   "execution_count": null,
   "id": "d1ce5af8-ae69-4d50-bca5-9f1c7b241e2e",
   "metadata": {},
   "outputs": [],
   "source": [
    "fig, axs = plt.subplots(2, 1, figsize=(8, 6), gridspec_kw={'hspace': 0.4})\n",
    "\n",
    "# plot the volume evolution and the estimated volume\n",
    "ax_vol = axs[0]\n",
    "ds_first_run.volume.plot(ax=ax_vol, label='first model run')\n",
    "ds_spinup.volume.plot(ax=ax_vol, label='spinup run')\n",
    "ax_vol.plot(gdir.rgi_date + 1, estimated_volume, 'ro', label='estimated volume')\n",
    "ax_vol.legend(); ax_vol.grid('on');\n",
    "\n",
    "# plot the area evolution and the observed outline area\n",
    "ax_area = axs[1]\n",
    "ds_first_run.area.plot(ax=ax_area, label='first model run')\n",
    "ds_spinup.area.plot(ax=ax_area, label='spinup run')\n",
    "ax_area.plot(gdir.rgi_date + 1, observed_area, 'ro', label='observed outline area')\n",
    "ax_area.legend(); ax_area.grid('on');\n"
   ]
  },
  {
   "cell_type": "markdown",
   "id": "477599ad-7d87-473c-a4e2-e6d1eaff6e6a",
   "metadata": {},
   "source": [
    "As you can see, the area is not matched as precisely as before, and the volume is also slightly less accurate.\n",
    "However, the geodetic mass balance is now matched much more closely, which was the main goal of the dynamic calibration."
   ]
  },
  {
   "cell_type": "markdown",
   "id": "6eaa5370-6877-42b8-92b5-5f1873f6f47b",
   "metadata": {},
   "source": [
    "With this, we haveve reached the final level 4 of the preprocessed directories. The dynamic spinup runs we just performed are used by OGGM by default to initialize projections into the future, something we will explore in the next session.\n",
    "\n",
    "But now that we have a dynamic glacier model, let’s take some time to explore how changing certain parameters affects the glacier’s dynamic evolution."
   ]
  },
  {
   "cell_type": "markdown",
   "id": "27ba2436-ccd5-4e95-bafc-a0299fd23358",
   "metadata": {},
   "source": [
    "## Sandbox"
   ]
  },
  {
   "cell_type": "markdown",
   "id": "f3dc0084-c1f9-4dcf-b2c3-b70d1c38c846",
   "metadata": {},
   "source": [
    "Let's have some fun and explore how changing the individual parameters we previously calibrated affects the glacier’s evolution.\n",
    "\n",
    "To do this, we will run the model with different parameter settings and compare the results:"
   ]
  },
  {
   "cell_type": "code",
   "execution_count": null,
   "id": "dd710932-91f5-4f92-a264-a6bb1533c9b8",
   "metadata": {},
   "outputs": [],
   "source": [
    "# First we make a run with the default settings and define this as our default\n",
    "tasks.run_from_climate_data(gdir,\n",
    "                            output_filesuffix='_default');"
   ]
  },
  {
   "cell_type": "code",
   "execution_count": null,
   "id": "5c581679-01e3-4640-81ca-5153566d2dca",
   "metadata": {},
   "outputs": [],
   "source": [
    "# next conduct a run with doubled Glen A parameter\n",
    "tasks.run_from_climate_data(gdir,\n",
    "                            output_filesuffix='_glen_a_doubled',\n",
    "                            glen_a_fac=2\n",
    "                           );"
   ]
  },
  {
   "cell_type": "code",
   "execution_count": null,
   "id": "592eb5dd-8934-4dcc-b85b-b45382467ea0",
   "metadata": {},
   "outputs": [],
   "source": [
    "# and finally we decrease the melt factor\n",
    "from functools import partial\n",
    "params = gdir.read_json('mb_calib')\n",
    "\n",
    "# here we adapt the melt factor\n",
    "params['melt_f'] *= 0.95 \n",
    "\n",
    "# you can also perturbe the prcp_fac or temp_bias the same way as the melt_f\n",
    "\n",
    "gdir.write_json(params, 'mb_calib', filesuffix='_smaller_melt_f')  # write a new file, with perturbed parameters\n",
    "tasks.run_from_climate_data(gdir,\n",
    "                            output_filesuffix='_smaller_melt_f',\n",
    "                            mb_model_class = partial(massbalance.MonthlyTIModel,\n",
    "                                                     mb_params_filesuffix='_smaller_melt_f')\n",
    "                           );"
   ]
  },
  {
   "cell_type": "markdown",
   "id": "9ce2ab19-759f-4167-84cf-05ae3c328237",
   "metadata": {},
   "source": [
    "<div class=\"alert alert-warning\">\n",
    "    <b>Task</b>: Copy the code above and create a model run with a perturbed precipitation factor or the temperature bias!\n",
    "</div>"
   ]
  },
  {
   "cell_type": "code",
   "execution_count": null,
   "id": "18af5dee-c4a3-4e13-8979-5a8302fc3a14",
   "metadata": {},
   "outputs": [],
   "source": [
    "# add your code here"
   ]
  },
  {
   "cell_type": "markdown",
   "id": "80272c7c-72b5-4618-aa99-a1d7505ef8f8",
   "metadata": {},
   "source": [
    "After creating our sensitivity experiments, let’s take a look at how these changes influence the glacier’s dynamic volume evolution:"
   ]
  },
  {
   "cell_type": "code",
   "execution_count": null,
   "id": "5575d85b-304c-4a2b-aab7-a610d8b78527",
   "metadata": {},
   "outputs": [],
   "source": [
    "# define a function for easy opening of the data\n",
    "def get_model_diagnostics(gdir, filesuffix):\n",
    "    with xr.open_dataset(gdir.get_filepath('model_diagnostics', filesuffix=filesuffix)) as ds:\n",
    "        ds = ds.load()\n",
    "    return ds\n",
    "\n",
    "# open the data for our different runs\n",
    "ds_default = get_model_diagnostics(gdir, filesuffix='_default')\n",
    "ds_glen_a_doubled = get_model_diagnostics(gdir, filesuffix='_glen_a_doubled')\n",
    "ds_smaller_melt_f = get_model_diagnostics(gdir, filesuffix='_smaller_melt_f')\n",
    "\n",
    "# plot the results\n",
    "ds_default.volume_m3.plot(label='Default');\n",
    "ds_glen_a_doubled.volume_m3.plot(label='Glen A doubled');\n",
    "ds_smaller_melt_f.volume_m3.plot(label='Smaller melt factor');\n",
    "plt.legend()"
   ]
  },
  {
   "cell_type": "markdown",
   "id": "95f6b28a-a1ee-488d-a6cb-3a95dc41918f",
   "metadata": {},
   "source": [
    "<div class=\"alert alert-warning\">\n",
    "    <b>Task</b>: Can you explain why the volume evolution changed the way it did? (Think about how each parameter influences melt, accumulation, and glacier dynamics.)\n",
    "</div>"
   ]
  },
  {
   "cell_type": "markdown",
   "id": "abc9295f-3aa0-4a3a-9428-522d8c17750f",
   "metadata": {},
   "source": [
    "Your answer here:"
   ]
  },
  {
   "cell_type": "markdown",
   "id": "4a7ed196-9587-4ca2-9cfa-7a0f31769422",
   "metadata": {},
   "source": [
    "<div class=\"alert alert-warning\">\n",
    "    <b>Task</b>: Can you find a precipitation factor that brings the volume evolution back in line with the default run, but using a smaller melt factor?\n",
    "    \n",
    "Before you start, try to guess: in which direction does the precipitation factor need to change?\n",
    "</div>"
   ]
  },
  {
   "cell_type": "code",
   "execution_count": null,
   "id": "5a1e87a3-1d91-45f2-91a5-03a70b6d2d43",
   "metadata": {},
   "outputs": [],
   "source": [
    "params = gdir.read_json('mb_calib', filesuffix='_smaller_melt_f')\n",
    "\n",
    "# search here for a factor to compensate for the smaller melt factor\n",
    "params['prcp_fac'] *= 1  \n",
    "\n",
    "gdir.write_json(params, 'mb_calib', filesuffix='_smaller_melt_f_and_adapted_prcp_fac')  # write a new file, with perturbed parameters\n",
    "tasks.run_from_climate_data(gdir,\n",
    "                            output_filesuffix='_smaller_melt_f_and_adapted_prcp_fac',\n",
    "                            mb_model_class = partial(massbalance.MonthlyTIModel,\n",
    "                                                     mb_params_filesuffix='_smaller_melt_f_and_adapted_prcp_fac')\n",
    "                           )\n",
    "\n",
    "ds_smaller_melt_f_and_adapted_prcp_fac = get_model_diagnostics(gdir, filesuffix='_smaller_melt_f_and_adapted_prcp_fac')\n",
    "\n",
    "# plot the results\n",
    "ds_default.volume_m3.plot(label='Default');\n",
    "ds_smaller_melt_f.volume_m3.plot(label='Smaller melt factor');\n",
    "ds_smaller_melt_f_and_adapted_prcp_fac.volume_m3.plot(label='Smaller melt factor and adapted prcipitation factor');\n",
    "plt.legend()"
   ]
  },
  {
   "cell_type": "markdown",
   "id": "ce7c6fe1-e6a1-4efe-a7f9-58e81f348b23",
   "metadata": {},
   "source": [
    "<div class=\"alert alert-warning\">\n",
    "    <b>Task</b>: Why is it possible to find a precipitation factor that compensates for a smaller melt factor, resulting in almost the same volume evolution? (Hint: Think back to the session on mass balance model calibration.)\n",
    "</div>"
   ]
  },
  {
   "cell_type": "markdown",
   "id": "7c2d0963-90dc-4655-a87c-c39313dc1f93",
   "metadata": {},
   "source": [
    "Your answer here:"
   ]
  },
  {
   "cell_type": "markdown",
   "id": "916fb9a6-5f7e-4e01-8c9e-d77068054132",
   "metadata": {},
   "source": [
    " <div class=\"alert alert-warning\">\n",
    "    <b>Bonus Task</b>: Can you also compensate for doubling the Glen A parameter by adjusting some of the mass balance parameters?\n",
    "</div>"
   ]
  },
  {
   "cell_type": "code",
   "execution_count": null,
   "id": "899039aa-70d6-445e-b38d-0a35acd8c90b",
   "metadata": {},
   "outputs": [],
   "source": [
    "params = gdir.read_json('mb_calib')\n",
    "\n",
    "params['prcp_fac'] *= 1.2  # here you can play with the precipitation factor\n",
    "params['melt_f'] *= 1.1  # here you can play with the melt factor\n",
    "\n",
    "gdir.write_json(params, 'mb_calib', filesuffix='_compensate_larger_glen_a')  # write a new file, with perturbed parameters\n",
    "tasks.run_from_climate_data(gdir,\n",
    "                            output_filesuffix='_compensate_larger_glen_a',\n",
    "                            mb_model_class = partial(massbalance.MonthlyTIModel,\n",
    "                                                     mb_params_filesuffix='_compensate_larger_glen_a'),\n",
    "                            glen_a_fac=2\n",
    "                           )\n",
    "\n",
    "ds_compensate_larger_glen_a = get_model_diagnostics(gdir, filesuffix='_compensate_larger_glen_a')\n",
    "\n",
    "# plot the results\n",
    "ds_default.volume_m3.plot(label='Default');\n",
    "ds_glen_a_doubled.volume_m3.plot(label='Glen A doubled');\n",
    "ds_compensate_larger_glen_a.volume_m3.plot(label='Compansate change of glen a');\n",
    "plt.legend()"
   ]
  },
  {
   "cell_type": "markdown",
   "id": "4e6b5ae0-53a3-4d56-bfd3-a438db88d132",
   "metadata": {},
   "source": [
    "## Recape"
   ]
  },
  {
   "cell_type": "markdown",
   "id": "f6f1db82-358b-4066-b0bb-11d1d59ee077",
   "metadata": {},
   "source": [
    "- We have now recreated all steps of the OGGM default preprocessed directories.\n",
    "- When accounting for changing glacier geometry, we need to recalibrate the mass balance model accordingly.\n",
    "- There is an equifinality problem in the mass balance parameters: with only one observation available, multiple parameter combinations can produce similar results."
   ]
  }
 ],
 "metadata": {
  "kernelspec": {
   "display_name": "Python 3 (ipykernel)",
   "language": "python",
   "name": "python3"
  },
  "language_info": {
   "codemirror_mode": {
    "name": "ipython",
    "version": 3
   },
   "file_extension": ".py",
   "mimetype": "text/x-python",
   "name": "python",
   "nbconvert_exporter": "python",
   "pygments_lexer": "ipython3",
   "version": "3.11.11"
  }
 },
 "nbformat": 4,
 "nbformat_minor": 5
}
