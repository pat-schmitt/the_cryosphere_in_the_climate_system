{
 "cells": [
  {
   "cell_type": "markdown",
   "metadata": {},
   "source": [
    "# Hydrological mass-balance output"
   ]
  },
  {
   "cell_type": "markdown",
   "metadata": {},
   "source": [
    "With the OGGM task `run_with_hydro`, you can add mass-balance and runoff diagnostics to the OGGM output files. To explore how this method works, we will use the following two OGGM-Edu notebooks:\n",
    "\n",
    "- [Glaciers as water resources: part 1 (idealized climate)](https://oggm.org/oggm-edu-notebooks/oggm-edu/glacier_water_resources.html)\n",
    "- [Glaciers as water resources: part 2 (projections)](https://oggm.org/oggm-edu-notebooks/oggm-edu/glacier_water_resources_projections.html)\n",
    "\n",
    "You can download these notebooks the same way you are used to from the practical course website. The notebooks contain both familiar content and some new concepts. Please work through them, and feel free to reach out if you have any questions.\n",
    "\n",
    "Key topics you should learn from the notebooks:\n",
    "- How to set up and run idealized experiments in OGGM\n",
    "- The concept of peak water\n",
    "- How to use `run_with_hydro` to generate hydrological projections\n",
    "- The different components that make up glacier runoff"
   ]
  }
 ],
 "metadata": {
  "hide_input": false,
  "kernelspec": {
   "display_name": "Python 3 (ipykernel)",
   "language": "python",
   "name": "python3"
  },
  "language_info": {
   "codemirror_mode": {
    "name": "ipython",
    "version": 3
   },
   "file_extension": ".py",
   "mimetype": "text/x-python",
   "name": "python",
   "nbconvert_exporter": "python",
   "pygments_lexer": "ipython3",
   "version": "3.11.11"
  },
  "toc": {
   "base_numbering": 1,
   "nav_menu": {},
   "number_sections": false,
   "sideBar": true,
   "skip_h1_title": true,
   "title_cell": "Table of Contents",
   "title_sidebar": "Contents",
   "toc_cell": false,
   "toc_position": {},
   "toc_section_display": true,
   "toc_window_display": false
  }
 },
 "nbformat": 4,
 "nbformat_minor": 4
}
