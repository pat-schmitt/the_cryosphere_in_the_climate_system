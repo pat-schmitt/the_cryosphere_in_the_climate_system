{
 "cells": [
  {
   "cell_type": "markdown",
   "metadata": {},
   "source": [
    "# Running into the future with GCM data"
   ]
  },
  {
   "cell_type": "markdown",
   "metadata": {},
   "source": [
    "This notebook is based on [this OGGM tutorail notebook](https://tutorials.oggm.org/stable/notebooks/10minutes/run_with_gcm.html).\n",
    "\n",
    "In this example, we illustrate how to perform a typical projection run, i.e. using GCM data. Here, we’ll use already bias-corrected CMIP6 data from [ISIMIP3b](https://www.isimip.org/gettingstarted/isimip3b-bias-adjustment). OGGM also supports using raw CMIP5 or CMIP6 data ([as explained in this OGGM tutorial](https://tutorials.oggm.org/stable/notebooks/10minutes/run_with_gcm.html)). However, running projections with those directly requires downloading several gigabytes of data.\n",
    "\n",
    "Fortunately, OGGM provides a set of standard projections that use all available climate models combined with the default OGGM workflow. We will explore these pre-run projections in the next session.\n",
    "\n",
    "For now, we’ll focus on creating our own projection run.\n",
    "\n",
    "There are three important steps:\n",
    "- Download the OGGM preprocessed directories that include a pre-calibrated and spun-up glacier model. These contain all the results from the steps we’ve covered in previous sessions.\n",
    "- Download the climate projection data and apply bias correction if you're working with raw CMIP5 or CMIP6 data.\n",
    "- Simulate the glacier’s future evolution from the present day to the end of the century (2020–2100)."
   ]
  },
  {
   "cell_type": "markdown",
   "metadata": {},
   "source": [
    "<div class=\"alert alert-warning\">\n",
    "    <b>Task</b>: Why do you think it's necessary to bias-correct projection climate data to match the historical climate data?\n",
    "</div>"
   ]
  },
  {
   "cell_type": "markdown",
   "metadata": {},
   "source": [
    "Your answer here:"
   ]
  },
  {
   "cell_type": "markdown",
   "metadata": {},
   "source": [
    "## OGGM setup"
   ]
  },
  {
   "cell_type": "code",
   "execution_count": null,
   "metadata": {
    "tags": []
   },
   "outputs": [],
   "source": [
    "# Libs\n",
    "import xarray as xr\n",
    "import matplotlib.pyplot as plt\n",
    "import numpy as np\n",
    "import pandas as pd\n",
    "\n",
    "# Locals\n",
    "import oggm.cfg as cfg\n",
    "from oggm import utils, workflow, tasks, DEFAULT_BASE_URL\n",
    "from oggm.shop import gcm_climate"
   ]
  },
  {
   "cell_type": "markdown",
   "metadata": {
    "tags": []
   },
   "source": [
    "## Pre-processed directories"
   ]
  },
  {
   "cell_type": "markdown",
   "metadata": {},
   "source": [
    "Let’s run a projection for two Alpine glaciers: Hintereisferner and Aletsch."
   ]
  },
  {
   "cell_type": "code",
   "execution_count": null,
   "metadata": {
    "tags": []
   },
   "outputs": [],
   "source": [
    "# Initialize OGGM and set up the default run parameters\n",
    "cfg.initialize()\n",
    "\n",
    "# define working directory\n",
    "path = 'future_working_dir'\n",
    "utils.mkdir(path, reset=False)  # if you set reset=True, everything will be deleted and you can start from a fresh state\n",
    "cfg.PATHS['working_dir'] = path\n",
    "\n",
    "# select the glacier of your choice, you can use the Glims viewer from the first session\n",
    "rgi_ids = ['RGI60-11.00897',  # Hintereisferner\n",
    "           'RGI60-11.01450']  # Altesch\n",
    "\n",
    "# Go - get the pre-processed glacier directories\n",
    "gdirs = workflow.init_glacier_directories(rgi_ids, from_prepro_level=5, prepro_base_url=DEFAULT_BASE_URL)\n",
    "\n",
    "gdir = gdirs[0]"
   ]
  },
  {
   "cell_type": "markdown",
   "metadata": {},
   "source": [
    "<div class=\"alert alert-warning\">\n",
    "    <b>Task</b>: Have a look in your working directory, do you know what each of the files means?\n",
    "</div>"
   ]
  },
  {
   "cell_type": "markdown",
   "metadata": {},
   "source": [
    "Your answer here:"
   ]
  },
  {
   "cell_type": "markdown",
   "metadata": {},
   "source": [
    "## The `_spinup_historical` runs"
   ]
  },
  {
   "cell_type": "markdown",
   "metadata": {},
   "source": [
    "The level 5 files include a pre-computed model run from the RGI outline date up to the last available date covered by the historical climate data. This run is generated using the dynamic spinup method discussed in the previous session.\n",
    "\n",
    "In the case of the default climate dataset, [GSWP3_W5E5](https://www.isimip.org/gettingstarted/input-data-bias-adjustment/details/80/), the simulation runs up to the end of 2019, meaning the glacier volume is computed as of January 1st, 2020.\n",
    "These results are stored in directories with the `_spinup_historical` suffix (see last session or the [\"10 minutes to... a dynamical spinup\"](dynamical_spinup.ipynb) tutorial for more context).\n",
    "\n",
    "Let’s now compile the spinup results for our two glaciers into a single file:"
   ]
  },
  {
   "cell_type": "code",
   "execution_count": null,
   "metadata": {
    "tags": []
   },
   "outputs": [],
   "source": [
    "# compile the run output for both glaciers at once\n",
    "ds = utils.compile_run_output(gdirs, input_filesuffix='_spinup_historical')\n",
    "\n",
    "# normalize the volume of each glacier with the 2000 volume\n",
    "vol_ref2000 = ds.volume / ds.volume.sel(time=2000) * 100\n",
    "\n",
    "# plot the volume and color each line for the individual glaciers\n",
    "vol_ref2000.plot(hue='rgi_id');\n",
    "\n",
    "# adapt the ylabel\n",
    "plt.ylabel('Volume (%, reference 2000)');"
   ]
  },
  {
   "cell_type": "markdown",
   "metadata": {},
   "source": [
    "The final model state in 2020 will serve as the starting point for our projections into the future. During these future runs, all model parameters we previously calibrated will remain constant over time."
   ]
  },
  {
   "cell_type": "markdown",
   "metadata": {},
   "source": [
    "<div class=\"alert alert-warning\">\n",
    "    <b>Task</b>: Do you think it’s a valid assumption to keep all model parameters constant over time during future projections?\n",
    "</div>"
   ]
  },
  {
   "cell_type": "markdown",
   "metadata": {},
   "source": [
    "Your answer here:"
   ]
  },
  {
   "cell_type": "markdown",
   "metadata": {},
   "source": [
    "## Download and process GCM data from ISIMIP3b (bias-corrected CMIP6)"
   ]
  },
  {
   "cell_type": "markdown",
   "metadata": {},
   "source": [
    "A typical use case for OGGM is to run simulations using climate model output, such as the bias-corrected CMIP6 GCMs from [ISIMIP3b](https://www.isimip.org/gettingstarted/isimip3b-bias-adjustment/). In this example, we use the files [mirrored on the OGGM cluster in Bremen](https://cluster.klima.uni-bremen.de/~oggm/cmip6/isimip3b/flat/monthly/), but it's easy to switch to other files if needed. From ISIMIP3b, we have access to 5 GCMs and 3 SSPs on the cluster. You can find more details on the [ISIMIP website](https://www.isimip.org/gettingstarted/isimip3b-bias-adjustment)."
   ]
  },
  {
   "cell_type": "markdown",
   "metadata": {},
   "source": [
    "<div class=\"alert alert-warning\">\n",
    "    <b>Task</b>: What do the abbreviations GCM and SSP stand for?\n",
    "</div>"
   ]
  },
  {
   "cell_type": "markdown",
   "metadata": {},
   "source": [
    "Your answer here:"
   ]
  },
  {
   "cell_type": "markdown",
   "metadata": {},
   "source": [
    "Let's download the data:"
   ]
  },
  {
   "cell_type": "code",
   "execution_count": null,
   "metadata": {
    "tags": []
   },
   "outputs": [],
   "source": [
    "# you can choose one of these 5 different GCMs:\n",
    "# 'gfdl-esm4_r1i1p1f1', 'mpi-esm1-2-hr_r1i1p1f1', 'mri-esm2-0_r1i1p1f1' (\"low sensitivity\" models, within typical ranges from AR6)\n",
    "# 'ipsl-cm6a-lr_r1i1p1f1', 'ukesm1-0-ll_r1i1p1f2' (\"hotter\" models, especially ukesm1-0-ll)\n",
    "member = 'mri-esm2-0_r1i1p1f1' \n",
    "\n",
    "for ssp in ['ssp126', 'ssp370','ssp585']:\n",
    "    # bias correct them\n",
    "    workflow.execute_entity_task(gcm_climate.process_monthly_isimip_data, gdirs, \n",
    "                                 ssp = ssp,\n",
    "                                 # gcm member -> you can choose another one\n",
    "                                 member=member,\n",
    "                                 # recognize the climate file for later\n",
    "                                 output_filesuffix=f'_ISIMIP3b_{member}_{ssp}'\n",
    "                                 );"
   ]
  },
  {
   "cell_type": "markdown",
   "metadata": {},
   "source": [
    "One advantage of using ISIMIP3b data is that it has already been bias-corrected by the ISIMIP consortium. Since OGGM v1.6 uses the [W5E5](https://docs.oggm.org/en/latest/climate-data.html#w5e5) dataset as its baseline historical climate, no further bias correction is needed when using ISIMIP3b projections. However, if you prefer to apply your own bias correction or want access to a larger selection of GCMs, you can also use the original CMIP5 or CMIP6 GCM datasets.\n",
    "\n",
    "If you're curious about which historical climate dataset OGGM is using in your run, you can simply ask OGGM:"
   ]
  },
  {
   "cell_type": "code",
   "execution_count": null,
   "metadata": {
    "tags": []
   },
   "outputs": [],
   "source": [
    "gdirs[0].get_climate_info()"
   ]
  },
  {
   "cell_type": "markdown",
   "metadata": {},
   "source": [
    "<div class=\"alert alert-warning\">\n",
    "    <b>Task</b>: Take another look in your working directory, do you see any new files?\n",
    "</div>"
   ]
  },
  {
   "cell_type": "markdown",
   "metadata": {},
   "source": [
    "Your answer here:"
   ]
  },
  {
   "cell_type": "markdown",
   "metadata": {},
   "source": [
    "Let’s take a closer look at one of these files:"
   ]
  },
  {
   "cell_type": "code",
   "execution_count": null,
   "metadata": {},
   "outputs": [],
   "source": [
    "ds_proj_example = xr.open_dataset(gdir.get_filepath('gcm_data', filesuffix='_ISIMIP3b_mri-esm2-0_r1i1p1f1_ssp126'))\n",
    "ds_proj_example"
   ]
  },
  {
   "cell_type": "markdown",
   "metadata": {},
   "source": [
    "<div class=\"alert alert-warning\">\n",
    "    <b>Task</b>: What information does the dataset contain, and what are the units of the variables? Create a plot for the temperature and precipitation and also add the historical data in the same plot (have a look at session 3). What do you observe?\n",
    "</div>"
   ]
  },
  {
   "cell_type": "markdown",
   "metadata": {},
   "source": [
    "Your answer here:"
   ]
  },
  {
   "cell_type": "markdown",
   "metadata": {},
   "source": [
    "## Projection runs "
   ]
  },
  {
   "cell_type": "markdown",
   "metadata": {},
   "source": [
    "We now run OGGM under various future scenarios, starting from the end year of the historical spin-up run.\n",
    "To tell the model where to start, we provide the argument `init_model_filesuffix='_spinup_historical'`. This ensures that the final state of the dynamic spin-up run is used as the starting point for our projections."
   ]
  },
  {
   "cell_type": "code",
   "execution_count": null,
   "metadata": {
    "scrolled": true,
    "tags": []
   },
   "outputs": [],
   "source": [
    "for ssp in ['ssp126', 'ssp370', 'ssp585']:\n",
    "    # this is the same id we used when processing the climate data in process_monthly_isimip_data\n",
    "    rid = f'_ISIMIP3b_{member}_{ssp}'\n",
    "    workflow.execute_entity_task(tasks.run_from_climate_data, gdirs,\n",
    "                                 climate_filename='gcm_data',  # use gcm_data, not climate_historical\n",
    "                                 climate_input_filesuffix=rid,  # use the chosen scenario\n",
    "                                 init_model_filesuffix='_spinup_historical',  # this is important! Start from 2020 glacier\n",
    "                                 output_filesuffix=rid,  # recognize the run for later\n",
    "                                );"
   ]
  },
  {
   "cell_type": "markdown",
   "metadata": {},
   "source": [
    "That’s it, you have just completed your first projection runs through to the year 2100! Now, let’s take a look at the results by creating a plot in the next section."
   ]
  },
  {
   "cell_type": "markdown",
   "metadata": {},
   "source": [
    "## Plot projection runs "
   ]
  },
  {
   "cell_type": "markdown",
   "metadata": {},
   "source": [
    "We have performed three projection runs using the same model but with three different scenarios. Let’s now compare how the glacier evolves under each scenario:"
   ]
  },
  {
   "cell_type": "code",
   "execution_count": null,
   "metadata": {
    "tags": []
   },
   "outputs": [],
   "source": [
    "# define one ax for each glacier\n",
    "f, (ax1, ax2) = plt.subplots(1, 2, figsize=(14, 4))\n",
    "\n",
    "# define which color should be used for which scenario\n",
    "color_dict={'ssp126':'blue', 'ssp370':'orange', 'ssp585':'red'}\n",
    "\n",
    "# loop through each scenario and plot the result\n",
    "for ssp in ['ssp126','ssp370', 'ssp585']:\n",
    "    # the same file id we used in the previous steps\n",
    "    rid = f'_ISIMIP3b_{member}_{ssp}'\n",
    "    \n",
    "    # Compile the output into one file\n",
    "    ds = utils.compile_run_output(gdirs, input_filesuffix=rid)\n",
    "    \n",
    "    # Plot it, each glacier on a different ax\n",
    "    ds.isel(rgi_id=0).volume.plot(ax=ax1, label=ssp, c=color_dict[ssp]);\n",
    "    ds.isel(rgi_id=1).volume.plot(ax=ax2, label=ssp, c=color_dict[ssp]);\n",
    "\n",
    "# add the legend\n",
    "plt.legend();"
   ]
  },
  {
   "cell_type": "markdown",
   "metadata": {},
   "source": [
    "<div class=\"alert alert-warning\">\n",
    "    <b>Task</b>: Analyse the plots: Are the results what you expected? What are the main differences between the two glaciers in terms of their response to the scenarios? (Hint: For analyzing it also could help to look at the climate input data)\n",
    "</div>"
   ]
  },
  {
   "cell_type": "markdown",
   "metadata": {},
   "source": [
    "Your answer here:"
   ]
  },
  {
   "cell_type": "markdown",
   "metadata": {},
   "source": [
    "## Running multiple models for the same scenario"
   ]
  },
  {
   "cell_type": "markdown",
   "metadata": {},
   "source": [
    "So far, we’ve only used one GCM across three different scenarios. Now, we’ll take a single scenario and add more GCM members to see how we can analyze and compare the results."
   ]
  },
  {
   "cell_type": "code",
   "execution_count": null,
   "metadata": {},
   "outputs": [],
   "source": [
    "# you can choose one of these 5 different GCMs:\n",
    "# 'gfdl-esm4_r1i1p1f1', 'mpi-esm1-2-hr_r1i1p1f1', 'mri-esm2-0_r1i1p1f1' (\"low sensitivity\" models, within typical ranges from AR6)\n",
    "# 'ipsl-cm6a-lr_r1i1p1f1', 'ukesm1-0-ll_r1i1p1f2' (\"hotter\" models, especially ukesm1-0-ll) \n",
    "\n",
    "# we stick for to the ssp370 scenario for now\n",
    "ssp = 'ssp370'\n",
    "\n",
    "# we select three GCM's as an example, and process the data for those\n",
    "for member in ['gfdl-esm4_r1i1p1f1', 'mpi-esm1-2-hr_r1i1p1f1', 'mri-esm2-0_r1i1p1f1']:\n",
    "    # bias correct them\n",
    "    workflow.execute_entity_task(gcm_climate.process_monthly_isimip_data, gdirs, \n",
    "                                 ssp = ssp,\n",
    "                                 # gcm member -> you can choose another one\n",
    "                                 member=member,\n",
    "                                 # recognize the climate file for later\n",
    "                                 output_filesuffix=f'_ISIMIP3b_{member}_{ssp}'\n",
    "                                 );"
   ]
  },
  {
   "cell_type": "code",
   "execution_count": null,
   "metadata": {},
   "outputs": [],
   "source": [
    "# our selected scenario\n",
    "ssp = 'ssp370'\n",
    "\n",
    "# loop through our selected GCMs and run OGGM until 2100\n",
    "for member in ['gfdl-esm4_r1i1p1f1', 'mpi-esm1-2-hr_r1i1p1f1', 'mri-esm2-0_r1i1p1f1']:\n",
    "    rid = f'_ISIMIP3b_{member}_{ssp}'\n",
    "    workflow.execute_entity_task(tasks.run_from_climate_data, gdirs,\n",
    "                                 climate_filename='gcm_data',  # use gcm_data, not climate_historical\n",
    "                                 climate_input_filesuffix=rid,  # use the chosen scenario\n",
    "                                 init_model_filesuffix='_spinup_historical',  # this is important! Start from 2020 glacier\n",
    "                                 output_filesuffix=rid,  # recognize the run for later\n",
    "                                );"
   ]
  },
  {
   "cell_type": "markdown",
   "metadata": {},
   "source": [
    "After running the models, let’s examine the results in the same way as before:"
   ]
  },
  {
   "cell_type": "code",
   "execution_count": null,
   "metadata": {},
   "outputs": [],
   "source": [
    "f, (ax1, ax2) = plt.subplots(1, 2, figsize=(14, 4))\n",
    "# Pick some colors for the lines\n",
    "color_dict={'gfdl-esm4_r1i1p1f1':'blue',\n",
    "            'mpi-esm1-2-hr_r1i1p1f1':'orange',\n",
    "            'mri-esm2-0_r1i1p1f1':'red'}\n",
    "ssp = 'ssp370'\n",
    "for member in ['gfdl-esm4_r1i1p1f1', 'mpi-esm1-2-hr_r1i1p1f1', 'mri-esm2-0_r1i1p1f1']:\n",
    "    rid = f'_ISIMIP3b_{member}_{ssp}'\n",
    "    # Compile the output into one file\n",
    "    ds = utils.compile_run_output(gdirs, input_filesuffix=rid)\n",
    "    # Plot it\n",
    "    ds.isel(rgi_id=0).volume.plot(ax=ax1, label=member, c=color_dict[member]);\n",
    "    ds.isel(rgi_id=1).volume.plot(ax=ax2, label=member, c=color_dict[member]);\n",
    "plt.legend();"
   ]
  },
  {
   "cell_type": "markdown",
   "metadata": {},
   "source": [
    "<div class=\"alert alert-warning\">\n",
    "    <b>Task</b>: What is the main difference compared to the similar plot above? When you imagine using more GCMs, do you think there might be a better way to analyze the results?\n",
    "</div>"
   ]
  },
  {
   "cell_type": "markdown",
   "metadata": {},
   "source": [
    "Your answer here:"
   ]
  },
  {
   "cell_type": "markdown",
   "metadata": {},
   "source": [
    "Earlier, we saw how to open the output for a single GCM and scenario using `utils.compile_run_output`. Now, we want to open the outputs for multiple GCMs under one scenario and combine them into a single dataset.\n",
    "\n",
    "To do this, we:\n",
    "1. Open each GCM–scenario combination individually.\n",
    "2. Save each dataset to `ds_all`, adding the GCM and scenario as new coordinates.\n",
    "3. Finally, we merge all datasets using these newly added coordinates."
   ]
  },
  {
   "cell_type": "code",
   "execution_count": null,
   "metadata": {},
   "outputs": [],
   "source": [
    "# in this array all datasets going to be stored with additional coordinates GCM and SCENARIO\n",
    "ds_all = []\n",
    "\n",
    "# our selected scenario\n",
    "ssp = 'ssp370'\n",
    "\n",
    "# loop through all GCMs, add the new coordinates and add the final ds to ds_all\n",
    "for GCM in ['gfdl-esm4_r1i1p1f1', 'mpi-esm1-2-hr_r1i1p1f1', 'mri-esm2-0_r1i1p1f1']:  \n",
    "    # put together the same filesuffix which was used during the projection runs\n",
    "    rid = '_ISIMIP3b_{}_{}'.format(GCM, ssp)  \n",
    "\n",
    "    # open one model run\n",
    "    ds_tmp = utils.compile_run_output(gdirs, input_filesuffix=rid)  \n",
    "\n",
    "    # add GCM as a coordinate\n",
    "    ds_tmp.coords['GCM'] = GCM  \n",
    "    ds_tmp.coords['GCM'].attrs['description'] = 'used Global circulation Model'  # add a description for GCM\n",
    "    ds_tmp = ds_tmp.expand_dims(\"GCM\")  # add GCM as a dimension to all Data variables\n",
    "\n",
    "    # add scenario (here ssp) as a coordinate\n",
    "    ds_tmp.coords['SCENARIO'] = ssp  \n",
    "    ds_tmp.coords['SCENARIO'].attrs['description'] = 'used scenario (here SSPs)'\n",
    "    ds_tmp = ds_tmp.expand_dims(\"SCENARIO\")  # add SSP as a dimension to all Data variables\n",
    "\n",
    "    # add the dataset with extra coordinates to our final ds_all array\n",
    "    ds_all.append(ds_tmp)  \n",
    "\n",
    "# after adding the new coordinates, we can use them to merge all datasets into one\n",
    "ds_merged = xr.combine_by_coords(ds_all, fill_value=np.nan)  # define how the missing GCM, SCENARIO combinations should be filled"
   ]
  },
  {
   "cell_type": "code",
   "execution_count": null,
   "metadata": {},
   "outputs": [],
   "source": [
    "ds_merged"
   ]
  },
  {
   "cell_type": "markdown",
   "metadata": {},
   "source": [
    "You will notice that our data variables now have four dimensions:\n",
    "- SCENARIO\n",
    "- GCM\n",
    "- time\n",
    "- rgi_id\n",
    "\n",
    "This structure makes it very easy to analyze the results. For example, let’s plot the median across all GCMs for one scenario and one glacier:"
   ]
  },
  {
   "cell_type": "code",
   "execution_count": null,
   "metadata": {},
   "outputs": [],
   "source": [
    "ds_merged.isel(rgi_id=0).volume.median(dim='GCM').plot()"
   ]
  },
  {
   "cell_type": "markdown",
   "metadata": {},
   "source": [
    "However, the median alone only tells part of the story. To provide more insight, you can also plot the interquartile range, which shows the spread of the data. Alternatively, you could use other metrics such as the mean and standard deviation to illustrate both the central tendency and variability of the results.\n",
    "\n",
    "Let’s create a plot that includes both options:"
   ]
  },
  {
   "cell_type": "code",
   "execution_count": null,
   "metadata": {},
   "outputs": [],
   "source": [
    "# define one axis per glacier\n",
    "f, (ax1, ax2) = plt.subplots(1, 2, figsize=(14, 4))\n",
    "\n",
    "# function for plotting the mean and the standard deviation\n",
    "def plot_mean_and_std(ax, rgi_id, color):\n",
    "    # first calculate the values we want to plot\n",
    "    mean = ds_merged.isel(rgi_id=rgi_id).volume.mean(dim='GCM').values[0]\n",
    "    std = ds_merged.isel(rgi_id=rgi_id).volume.std(dim='GCM').values[0]\n",
    "    time = ds_merged.time.values\n",
    "\n",
    "    # plot the mean\n",
    "    ax.plot(time, mean,\n",
    "            label='mean',\n",
    "            color=color)\n",
    "\n",
    "    # plot the standard deviation\n",
    "    ax.fill_between(time, mean - std, mean + std,\n",
    "                    label='standard deviation',\n",
    "                    alpha=0.3,\n",
    "                    color=color,)\n",
    "\n",
    "# funciton for plotting the median and the interquartile range\n",
    "def plot_median_and_interquarntile_range(ax, rgi_id, color):\n",
    "    # first calculate the values we want to plot\n",
    "    median = ds_merged.isel(rgi_id=rgi_id).volume.median(dim='GCM').values[0]\n",
    "    p17 = ds_merged.isel(rgi_id=rgi_id).volume.quantile(0.17, dim='GCM').values[0]\n",
    "    p83 = ds_merged.isel(rgi_id=rgi_id).volume.quantile(0.83, dim='GCM').values[0]\n",
    "    time = ds_merged.time.values\n",
    "\n",
    "    # plot the median\n",
    "    ax.plot(time, median,\n",
    "            label='median',\n",
    "            color=color)\n",
    "\n",
    "    # plot the interquartile range\n",
    "    ax.fill_between(time, p17, p83,\n",
    "                    label='interquartile range\\n(17th-83th percentile)',\n",
    "                    alpha=0.3,\n",
    "                    color=color,)\n",
    "\n",
    "\n",
    "# add some nice labels to an axis\n",
    "def add_annotations_to_ax(ax):\n",
    "    ax.set_ylabel('Volume in m³')\n",
    "    ax.set_xlabel('Time')\n",
    "    ax.set_title('3 GCM runs for SSP370')\n",
    "\n",
    "\n",
    "plot_mean_and_std(ax=ax1, rgi_id=0, color='C0')  # with C0, C1 ... you can loop through the default colors\n",
    "plot_median_and_interquarntile_range(ax=ax1, rgi_id=0, color='C1')\n",
    "add_annotations_to_ax(ax1)\n",
    "\n",
    "plot_mean_and_std(ax=ax2, rgi_id=1, color='C0')  # with C0, C1 ... you can loop through the default colors\n",
    "plot_median_and_interquarntile_range(ax=ax2, rgi_id=1, color='C1')\n",
    "add_annotations_to_ax(ax2)\n",
    "\n",
    "plt.legend()"
   ]
  },
  {
   "cell_type": "markdown",
   "metadata": {},
   "source": [
    "<div class=\"alert alert-warning\">\n",
    "    <b>Task</b>: Could you explain the differences you observe between the various metrics (e.g., median vs. mean, interquartile range vs. standard deviation)? Which metric do you think best fits our purpose, and why? (Hint: add the individual model runs as gray lines to the plot)\n",
    "</div>"
   ]
  },
  {
   "cell_type": "markdown",
   "metadata": {},
   "source": [
    "Your answer here:"
   ]
  },
  {
   "cell_type": "markdown",
   "metadata": {},
   "source": [
    "Great, so far, we have conducted multiple model runs for the same SSP scenario. However, when it comes to communicating our results, grouping model runs strictly by scenario might not be the most intuitive approach. These scenario names (e.g., SSPs or RCPs) can be hard to interpret, especially for non-expert audiences.\n",
    "\n",
    "Additionally, the transition from RCP scenarios in CMIP5 to SSP scenarios in CMIP6 introduced inconsistencies, there is no clear rule for how to directly compare or combine them. To explore what’s available, here you can find a [list of all available CMIP5 model runs](https://cluster.klima.uni-bremen.de/~oggm/cmip5-ng/gcm_table_2100.html) and a [list of all available CMIP6 model runs](https://cluster.klima.uni-bremen.de/~oggm/cmip6/gcm_table_2100.html)."
   ]
  },
  {
   "cell_type": "markdown",
   "metadata": {},
   "source": [
    "<div class=\"alert alert-warning\">\n",
    "    <b>Task</b>: Could you think of a better way to group our simulations, other than by scenario?\n",
    "</div>"
   ]
  },
  {
   "cell_type": "markdown",
   "metadata": {},
   "source": [
    "Your answer here:"
   ]
  },
  {
   "cell_type": "markdown",
   "metadata": {},
   "source": [
    "## Categories projections by temperature levels"
   ]
  },
  {
   "cell_type": "markdown",
   "metadata": {},
   "source": [
    "One useful way to group the simulations is by the predicted global temperature increase at the end of the century, relative to pre-industrial levels. And that’s exactly what we’re going to do.\n",
    "\n",
    "To support this, we have created a table that contains the global temperature change for each CMIP5 and CMIP6 model, calculated as the difference between the periods 2071-2100 and 1850-1900. You can [download the file here](https://cluster.klima.uni-bremen.de/~pschmitt/teaching/cryo_in_climate/cmip5_and_cmip6_warming_compared_to_preindustrial.csv) and save it in the same directory as your notebook.\n",
    "\n",
    "Let’s take a look at it:"
   ]
  },
  {
   "cell_type": "code",
   "execution_count": null,
   "metadata": {},
   "outputs": [],
   "source": [
    "# reading the csv file\n",
    "df_warming_levels = pd.read_csv('cmip5_and_cmip6_warming_compared_to_preindustrial.csv', index_col=0)"
   ]
  },
  {
   "cell_type": "code",
   "execution_count": null,
   "metadata": {},
   "outputs": [],
   "source": [
    "# look at the projected temperature changes in a histogram\n",
    "plt.hist(df_warming_levels['global_temp_ch_2071-2100_preindustrial'],\n",
    "         # define the bins the data should be displayed in, here form 0.5 to 6.5 in 0.5 steps\n",
    "         bins=np.arange(0.5, 6.6, 0.5),  # 6.6 because the last value is not included in np.arange\n",
    "         edgecolor='black',\n",
    "        )\n",
    "plt.ylabel('Number of realizations')\n",
    "plt.xlabel('Temperature change in °C compared to preindustrial')\n",
    "plt.grid('on')"
   ]
  },
  {
   "cell_type": "markdown",
   "metadata": {},
   "source": [
    "<div class=\"alert alert-warning\">\n",
    "    <b>Task</b>: In which temperature range do we have the most model realizations available?\n",
    "</div>"
   ]
  },
  {
   "cell_type": "markdown",
   "metadata": {},
   "source": [
    "Your answer here:"
   ]
  },
  {
   "cell_type": "markdown",
   "metadata": {},
   "source": [
    "Now we can use this data to group our simulations based on specific temperature levels. To do this, we will define a function which selects all simulations within a provided temperature range:"
   ]
  },
  {
   "cell_type": "code",
   "execution_count": null,
   "metadata": {},
   "outputs": [],
   "source": [
    "# the function takes a target temperature and a range, e.g. 2.7+/-0.2°C\n",
    "def get_models_from_temp(temp, temp_range):\n",
    "    pi_l = temp - temp_range  # our lower temperature limit\n",
    "    pi_u = temp + temp_range  # our higher temperature limit\n",
    "\n",
    "    # select only those which are inside of our temperature limit\n",
    "    pd_cmip_sel = df_warming_levels.loc[\n",
    "        # select all which have a larger temperature as our lower limit AND\n",
    "        (df_warming_levels['global_temp_ch_2071-2100_preindustrial']>=pi_l) &\n",
    "        # those having a smaller temperature as our higher limit\n",
    "        (df_warming_levels['global_temp_ch_2071-2100_preindustrial']<=pi_u)\n",
    "    ]\n",
    "    return pd_cmip_sel"
   ]
  },
  {
   "cell_type": "markdown",
   "metadata": {},
   "source": [
    "As an example, let’s select all models with a projected temperature increase of 2.7 ± 0.2 °C (i.e., between 2.5°C and 2.9°C):"
   ]
  },
  {
   "cell_type": "code",
   "execution_count": null,
   "metadata": {},
   "outputs": [],
   "source": [
    "models_2_7_deg = get_models_from_temp(2.7, 0.2)\n",
    "models_2_7_deg"
   ]
  },
  {
   "cell_type": "markdown",
   "metadata": {},
   "source": [
    "As you can see, the result includes a mix of CMIP5 and CMIP6 models, along with a variety of different scenarios.\n",
    "The column `gcm` refers to the climate model used, while `rcp` and `ssp` refer to the scenario for CMIP5 and CMIP6, respectively."
   ]
  },
  {
   "cell_type": "markdown",
   "metadata": {},
   "source": [
    "<div class=\"alert alert-warning\">\n",
    "    <b>Task</b>: What should we check after selecting our model realizations?\n",
    "</div>"
   ]
  },
  {
   "cell_type": "markdown",
   "metadata": {},
   "source": [
    "Your answer here:"
   ]
  },
  {
   "cell_type": "markdown",
   "metadata": {},
   "source": [
    "We should check how close the mean and median temperature of our selected models is to the target temperature level:"
   ]
  },
  {
   "cell_type": "code",
   "execution_count": null,
   "metadata": {},
   "outputs": [],
   "source": [
    "models_2_7_deg['global_temp_ch_2071-2100_preindustrial'].mean()"
   ]
  },
  {
   "cell_type": "code",
   "execution_count": null,
   "metadata": {},
   "outputs": [],
   "source": [
    "models_2_7_deg['global_temp_ch_2071-2100_preindustrial'].median()"
   ]
  },
  {
   "cell_type": "markdown",
   "metadata": {},
   "source": [
    "Okay, that’s quite good. However, it is always important to check for cases where the selection doesn’t work as well, let’s look at an example:"
   ]
  },
  {
   "cell_type": "code",
   "execution_count": null,
   "metadata": {},
   "outputs": [],
   "source": [
    "get_models_from_temp(1.4, 0.2)['global_temp_ch_2071-2100_preindustrial'].mean()"
   ]
  },
  {
   "cell_type": "code",
   "execution_count": null,
   "metadata": {},
   "outputs": [],
   "source": [
    "get_models_from_temp(1.4, 0.2)['global_temp_ch_2071-2100_preindustrial'].median()"
   ]
  },
  {
   "cell_type": "markdown",
   "metadata": {},
   "source": [
    "In this case, you can see that the mean temperature of our selection is 0.1 °C warmer than the target. This highlights why it is important to always check the actual temperature of your selection when analyzing the results, even small differences can influence the interpretation.\n",
    "\n",
    "Another important aspect when comparing different temperature levels is to consider the number of selected models. In general, the more models you include, the more robust your statistics become, whether you're looking at the mean, standard deviation, median, or interquartile range."
   ]
  },
  {
   "cell_type": "code",
   "execution_count": null,
   "metadata": {},
   "outputs": [],
   "source": [
    "len(models_2_7_deg)"
   ]
  },
  {
   "cell_type": "code",
   "execution_count": null,
   "metadata": {},
   "outputs": [],
   "source": [
    "len(get_models_from_temp(1.4, 0.2))"
   ]
  },
  {
   "cell_type": "markdown",
   "metadata": {},
   "source": [
    "As you saw above, for the 2.7 ± 0.2 °C range, we have twice as many model realizations available compared to the 1.4 ± 0.2 °C range.\n",
    "\n",
    "That’s why it’s important to ensure that, when defining your target temperature levels, the mean temperature of your selection closely matches your target, and that the number of realizations is balanced across the temperature groups. This ensures fair and robust comparisons.\n",
    "\n",
    "With your selected models, you now have a list of realizations you can use for further analysis. As mentioned at the beginning of this session, running all CMIP5 and CMIP6 realizations yourself would require downloading several gigabytes of data. Fortunately, OGGM provides standard projections for all of these, which you can use directly for your analysis.\n",
    "\n",
    "In the next session, you will learn how to access and work with these projections, especially useful for your group projects."
   ]
  },
  {
   "cell_type": "markdown",
   "metadata": {},
   "source": [
    "## Bonus: Sandbox"
   ]
  },
  {
   "cell_type": "markdown",
   "metadata": {},
   "source": [
    "If you are interested, you can conduct a similar sensitivity study as done in last session, but this time for future projections. For this select one gcm-scneario combination and contucte multiple runs with changing model parameters. Create some plots for analysing how the changes effect the projected volume.\n",
    "\n",
    "If you're interested, you can perform a similar sensitivity study as we did in the last session, but this time using future projections. To do this:\n",
    "\n",
    "- Select one GCM-scenario combination.\n",
    "- Conduct multiple projection runs, each with different model parameter settings (e.g., melt factor, precipitation factor, temperature bias, Glen A).\n",
    "- Create plots to analyze how changes in these parameters affect the projected glacier volume.\n",
    "\n",
    "This is a great way to understand the impact of model assumptions on long-term projections."
   ]
  },
  {
   "cell_type": "code",
   "execution_count": null,
   "metadata": {},
   "outputs": [],
   "source": [
    "# Sandbox experiments"
   ]
  },
  {
   "cell_type": "markdown",
   "metadata": {},
   "source": [
    "## Recap"
   ]
  },
  {
   "cell_type": "markdown",
   "metadata": {},
   "source": [
    "- Future climate data needs to be bias-corrected to match the historical data used in the model.\n",
    "- OGGM provides a wide range of climate models and scenarios (e.g., CMIP5/RCPs and CMIP6/SSPs).\n",
    "- For clearer communication, it is often more effective to group results by warming levels (e.g., 1.5°C, 2°C) rather than by scenario names, which can be harder to interpret."
   ]
  }
 ],
 "metadata": {
  "hide_input": false,
  "kernelspec": {
   "display_name": "Python 3 (ipykernel)",
   "language": "python",
   "name": "python3"
  },
  "language_info": {
   "codemirror_mode": {
    "name": "ipython",
    "version": 3
   },
   "file_extension": ".py",
   "mimetype": "text/x-python",
   "name": "python",
   "nbconvert_exporter": "python",
   "pygments_lexer": "ipython3",
   "version": "3.11.11"
  },
  "latex_envs": {
   "LaTeX_envs_menu_present": true,
   "autoclose": false,
   "autocomplete": true,
   "bibliofile": "biblio.bib",
   "cite_by": "apalike",
   "current_citInitial": 1,
   "eqLabelWithNumbers": true,
   "eqNumInitial": 1,
   "hotkeys": {
    "equation": "Ctrl-E",
    "itemize": "Ctrl-I"
   },
   "labels_anchors": false,
   "latex_user_defs": false,
   "report_style_numbering": false,
   "user_envs_cfg": false
  },
  "nbTranslate": {
   "displayLangs": [
    "*"
   ],
   "hotkey": "alt-t",
   "langInMainMenu": true,
   "sourceLang": "en",
   "targetLang": "fr",
   "useGoogleTranslate": true
  },
  "toc": {
   "base_numbering": 1,
   "nav_menu": {},
   "number_sections": false,
   "sideBar": true,
   "skip_h1_title": true,
   "title_cell": "Table of Contents",
   "title_sidebar": "Contents",
   "toc_cell": false,
   "toc_position": {},
   "toc_section_display": true,
   "toc_window_display": false
  }
 },
 "nbformat": 4,
 "nbformat_minor": 4
}
